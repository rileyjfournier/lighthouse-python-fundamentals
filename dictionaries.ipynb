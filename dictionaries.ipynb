{
 "cells": [
  {
   "cell_type": "markdown",
   "id": "e2708101-9aad-4214-ac71-feb74cdc619f",
   "metadata": {},
   "source": [
    "# Dictionaries in Python\n",
    "Dictionaries are:\n",
    "- Mutable\n",
    "- Dynamic\n",
    "- Can be nested\n",
    "- Elements are accessed via keys"
   ]
  },
  {
   "cell_type": "markdown",
   "id": "516903ae-bbd2-449a-a1cf-5ce0bf3bdc7f",
   "metadata": {},
   "source": [
    "A dictionary consists of a collection of key-value pairs. Each key-value pair maps the key to its associated value  \n",
    "  \n",
    "You can define a dictionary by enclosing a comma-separated list of key-value pairs in curly braces ({}). A colon (:) separates each key from its associated value:  \n",
    "  \n",
    "**Note:** Although access to items in a dictionary does not depend on order, Python does guarantee that the order of items in a dictionary is preserved"
   ]
  },
  {
   "cell_type": "code",
   "execution_count": null,
   "id": "c7994c95-6477-4414-8502-0061d21e1dc8",
   "metadata": {},
   "outputs": [],
   "source": [
    "d = {\n",
    "    <key>: <value>\n",
    "    <key>: <value>\n",
    "      .\n",
    "      .\n",
    "      .\n",
    "    <key>: <value>\n",
    "}"
   ]
  },
  {
   "cell_type": "code",
   "execution_count": 1,
   "id": "e651a5ed-f066-42bb-8581-bd80785f89b3",
   "metadata": {},
   "outputs": [],
   "source": [
    "MLB_team = {\n",
    "    'Colorado' : 'Rockies',\n",
    "    'Boston'   : 'Red Sox',\n",
    "    'Minnesota': 'Twins',\n",
    "    'Milwaukee': 'Brewers',\n",
    "    'Seattle'  : 'Mariners'\n",
    "}"
   ]
  },
  {
   "cell_type": "markdown",
   "id": "b515db3e-1c4d-4b07-8a0e-8952177a3fcc",
   "metadata": {},
   "source": [
    "***"
   ]
  },
  {
   "cell_type": "markdown",
   "id": "d56e9826-94ef-4953-9a4d-3fd9cac1e5a2",
   "metadata": {},
   "source": [
    "You can also use the built-in dict() function. The argument should be a sequence of key-value pairs. A list of tuples works well for this:"
   ]
  },
  {
   "cell_type": "code",
   "execution_count": null,
   "id": "423c34a9-a9b3-421c-98b0-35365464402c",
   "metadata": {},
   "outputs": [],
   "source": [
    "d = dict([\n",
    "    (<key>, <value>),\n",
    "    (<key>, <value>),\n",
    "      .\n",
    "      .\n",
    "      .\n",
    "    (<key>, <value>)\n",
    "])"
   ]
  },
  {
   "cell_type": "code",
   "execution_count": 2,
   "id": "be3f55c5-adbd-42eb-bdf8-8075ef0e4d69",
   "metadata": {},
   "outputs": [],
   "source": [
    "MLB_team = dict([\n",
    "    ('Colorado', 'Rockies'),\n",
    "    ('Boston', 'Red Sox'),\n",
    "    ('Minnesota', 'Twins'),\n",
    "    ('Milwaukee', 'Brewers'),\n",
    "    ('Seattle', 'Mariners')\n",
    "])"
   ]
  },
  {
   "cell_type": "markdown",
   "id": "78c1a4b4-4397-4451-9a03-c665c46ab8b4",
   "metadata": {},
   "source": [
    "If the key values are simple strings, they can be specified as keyword arguments:"
   ]
  },
  {
   "cell_type": "code",
   "execution_count": 3,
   "id": "b8e50c4a-5afb-4918-95cd-863825daa7d2",
   "metadata": {},
   "outputs": [],
   "source": [
    "MLB_team = dict(\n",
    "    Colorado='Rockies',\n",
    "    Boston='Red Sox',\n",
    "    Minnesota='Twins',\n",
    "    Milwaukee='Brewers',\n",
    "    Seattle='Mariners'\n",
    ")"
   ]
  },
  {
   "cell_type": "code",
   "execution_count": 4,
   "id": "f09e4b39-93f9-46e0-8dfb-5a744c7b68c4",
   "metadata": {},
   "outputs": [
    {
     "data": {
      "text/plain": [
       "dict"
      ]
     },
     "execution_count": 4,
     "metadata": {},
     "output_type": "execute_result"
    }
   ],
   "source": [
    "type(MLB_team)"
   ]
  },
  {
   "cell_type": "code",
   "execution_count": 5,
   "id": "702300eb-e0be-489a-9bb0-4e68a615fd80",
   "metadata": {},
   "outputs": [
    {
     "data": {
      "text/plain": [
       "{'Colorado': 'Rockies',\n",
       " 'Boston': 'Red Sox',\n",
       " 'Minnesota': 'Twins',\n",
       " 'Milwaukee': 'Brewers',\n",
       " 'Seattle': 'Mariners'}"
      ]
     },
     "execution_count": 5,
     "metadata": {},
     "output_type": "execute_result"
    }
   ],
   "source": [
    "MLB_team"
   ]
  },
  {
   "cell_type": "markdown",
   "id": "7358a47c-0dee-4d1f-824f-cfc7ae05889f",
   "metadata": {},
   "source": [
    "***"
   ]
  },
  {
   "cell_type": "markdown",
   "id": "3fd45045-82f4-4fe0-ab86-0f0219daa2bc",
   "metadata": {},
   "source": [
    "Dictionary elements are not accessed by numberical index:"
   ]
  },
  {
   "cell_type": "code",
   "execution_count": 6,
   "id": "535db316-f76c-4a9d-bbf0-3bfb243eb2cc",
   "metadata": {},
   "outputs": [
    {
     "ename": "KeyError",
     "evalue": "1",
     "output_type": "error",
     "traceback": [
      "\u001b[0;31m---------------------------------------------------------------------------\u001b[0m",
      "\u001b[0;31mKeyError\u001b[0m                                  Traceback (most recent call last)",
      "\u001b[0;32m/var/folders/yl/ftfrcz0s4nd_pncmmknzn7440000gn/T/ipykernel_70659/1469821463.py\u001b[0m in \u001b[0;36m<module>\u001b[0;34m\u001b[0m\n\u001b[0;32m----> 1\u001b[0;31m \u001b[0mMLB_team\u001b[0m\u001b[0;34m[\u001b[0m\u001b[0;36m1\u001b[0m\u001b[0;34m]\u001b[0m\u001b[0;34m\u001b[0m\u001b[0;34m\u001b[0m\u001b[0m\n\u001b[0m",
      "\u001b[0;31mKeyError\u001b[0m: 1"
     ]
    }
   ],
   "source": [
    "MLB_team[1]"
   ]
  },
  {
   "cell_type": "markdown",
   "id": "70119a28-01f7-4d4a-9b89-af7fb56176ad",
   "metadata": {
    "jp-MarkdownHeadingCollapsed": true,
    "tags": []
   },
   "source": [
    "## Accessing Dictionary Values\n",
    "A value is retrieved from a dictionary by specifying its corresponding key in square brackets ([]):"
   ]
  },
  {
   "cell_type": "code",
   "execution_count": 7,
   "id": "662ce6a9-8561-4db9-ba31-047c13337a2f",
   "metadata": {},
   "outputs": [
    {
     "data": {
      "text/plain": [
       "'Twins'"
      ]
     },
     "execution_count": 7,
     "metadata": {},
     "output_type": "execute_result"
    }
   ],
   "source": [
    "MLB_team['Minnesota']"
   ]
  },
  {
   "cell_type": "code",
   "execution_count": 8,
   "id": "dea5d862-1391-4d10-a1dc-c8d799add97e",
   "metadata": {},
   "outputs": [
    {
     "data": {
      "text/plain": [
       "'Rockies'"
      ]
     },
     "execution_count": 8,
     "metadata": {},
     "output_type": "execute_result"
    }
   ],
   "source": [
    "MLB_team['Colorado']"
   ]
  },
  {
   "cell_type": "markdown",
   "id": "18177195-9d25-4bda-8bfe-78fcdd607168",
   "metadata": {},
   "source": [
    "***"
   ]
  },
  {
   "cell_type": "markdown",
   "id": "933eb9ca-922d-4a4d-bdcb-459b198b59f4",
   "metadata": {},
   "source": [
    "Cannot access keys not yet defined:"
   ]
  },
  {
   "cell_type": "code",
   "execution_count": 9,
   "id": "ea3337a6-c919-462a-8956-c9ea2cc0edae",
   "metadata": {},
   "outputs": [
    {
     "ename": "NameError",
     "evalue": "name 'MLB_teams' is not defined",
     "output_type": "error",
     "traceback": [
      "\u001b[0;31m---------------------------------------------------------------------------\u001b[0m",
      "\u001b[0;31mNameError\u001b[0m                                 Traceback (most recent call last)",
      "\u001b[0;32m/var/folders/yl/ftfrcz0s4nd_pncmmknzn7440000gn/T/ipykernel_70659/3717603164.py\u001b[0m in \u001b[0;36m<module>\u001b[0;34m\u001b[0m\n\u001b[0;32m----> 1\u001b[0;31m \u001b[0mMLB_teams\u001b[0m\u001b[0;34m[\u001b[0m\u001b[0;34m'Toronto'\u001b[0m\u001b[0;34m]\u001b[0m\u001b[0;34m\u001b[0m\u001b[0;34m\u001b[0m\u001b[0m\n\u001b[0m",
      "\u001b[0;31mNameError\u001b[0m: name 'MLB_teams' is not defined"
     ]
    }
   ],
   "source": [
    "MLB_teams['Toronto']"
   ]
  },
  {
   "cell_type": "markdown",
   "id": "e1b83397-f3a3-42c7-9a04-2f421be50103",
   "metadata": {},
   "source": [
    "***"
   ]
  },
  {
   "cell_type": "markdown",
   "id": "2a8ec6d4-950e-4062-9a45-d97d72ba9c18",
   "metadata": {},
   "source": [
    "Add a new entry to an existing dictionary by assigning a new key and value:"
   ]
  },
  {
   "cell_type": "code",
   "execution_count": 10,
   "id": "14ca9a82-1664-4c98-ab4a-b858c1dbc561",
   "metadata": {},
   "outputs": [
    {
     "data": {
      "text/plain": [
       "{'Colorado': 'Rockies',\n",
       " 'Boston': 'Red Sox',\n",
       " 'Minnesota': 'Twins',\n",
       " 'Milwaukee': 'Brewers',\n",
       " 'Seattle': 'Mariners',\n",
       " 'Kansas City': 'Royals'}"
      ]
     },
     "execution_count": 10,
     "metadata": {},
     "output_type": "execute_result"
    }
   ],
   "source": [
    "MLB_team['Kansas City'] = 'Royals'\n",
    "MLB_team"
   ]
  },
  {
   "cell_type": "markdown",
   "id": "61dacc96-5efc-4189-b573-47bbb7faa2c3",
   "metadata": {},
   "source": [
    "***"
   ]
  },
  {
   "cell_type": "markdown",
   "id": "bba9a4c6-5f76-4c2a-99f5-fc6ad8e302e3",
   "metadata": {},
   "source": [
    "If you want to update an entry, assign a new value to an existing key:"
   ]
  },
  {
   "cell_type": "code",
   "execution_count": 11,
   "id": "8b17bf33-c256-4406-8610-88bc35a62feb",
   "metadata": {},
   "outputs": [
    {
     "data": {
      "text/plain": [
       "{'Colorado': 'Rockies',\n",
       " 'Boston': 'Red Sox',\n",
       " 'Minnesota': 'Twins',\n",
       " 'Milwaukee': 'Brewers',\n",
       " 'Seattle': 'Seahawks',\n",
       " 'Kansas City': 'Royals'}"
      ]
     },
     "execution_count": 11,
     "metadata": {},
     "output_type": "execute_result"
    }
   ],
   "source": [
    "MLB_team['Seattle'] = 'Seahawks'\n",
    "MLB_team"
   ]
  },
  {
   "cell_type": "markdown",
   "id": "f65de390-5509-49b0-b106-91417ca6d54f",
   "metadata": {},
   "source": [
    "***"
   ]
  },
  {
   "cell_type": "markdown",
   "id": "e38e201a-5259-4cdc-ac45-fb7118d38fa6",
   "metadata": {},
   "source": [
    "To delete an entry, use the **del** statement, specifying the key to delete:"
   ]
  },
  {
   "cell_type": "code",
   "execution_count": 12,
   "id": "85aee5aa-305f-4231-8f62-0e972f7bdd7f",
   "metadata": {},
   "outputs": [
    {
     "data": {
      "text/plain": [
       "{'Colorado': 'Rockies',\n",
       " 'Boston': 'Red Sox',\n",
       " 'Minnesota': 'Twins',\n",
       " 'Milwaukee': 'Brewers',\n",
       " 'Kansas City': 'Royals'}"
      ]
     },
     "execution_count": 12,
     "metadata": {},
     "output_type": "execute_result"
    }
   ],
   "source": [
    "del MLB_team['Seattle']\n",
    "MLB_team"
   ]
  },
  {
   "cell_type": "markdown",
   "id": "0a5f23e5-c005-4891-bb8c-8b5b7850a9e7",
   "metadata": {
    "jp-MarkdownHeadingCollapsed": true,
    "tags": []
   },
   "source": [
    "## Dictionary Keys vs. List Indices\n",
    "We cannot access dictionary values using list indices because appending [n] to a dictionary would search for the key label of n rather than indice location. BUT we can use integers as dictionary keys:"
   ]
  },
  {
   "cell_type": "code",
   "execution_count": 13,
   "id": "a8843eea-3de8-47e1-9296-c8b686a9c64e",
   "metadata": {},
   "outputs": [
    {
     "data": {
      "text/plain": [
       "{0: 'a', 1: 'b', 2: 'c', 3: 'd'}"
      ]
     },
     "execution_count": 13,
     "metadata": {},
     "output_type": "execute_result"
    }
   ],
   "source": [
    "d = {0: 'a', 1: 'b', 2: 'c', 3: 'd'}\n",
    "d"
   ]
  },
  {
   "cell_type": "code",
   "execution_count": 14,
   "id": "52a52d08-1a52-431e-87fd-c7f094ab1bd2",
   "metadata": {},
   "outputs": [
    {
     "data": {
      "text/plain": [
       "'a'"
      ]
     },
     "execution_count": 14,
     "metadata": {},
     "output_type": "execute_result"
    }
   ],
   "source": [
    "d[0]"
   ]
  },
  {
   "cell_type": "code",
   "execution_count": 15,
   "id": "e6a22772-2b27-4d58-8fe2-2023d2d47b94",
   "metadata": {},
   "outputs": [
    {
     "data": {
      "text/plain": [
       "'c'"
      ]
     },
     "execution_count": 15,
     "metadata": {},
     "output_type": "execute_result"
    }
   ],
   "source": [
    "d[2]"
   ]
  },
  {
   "cell_type": "markdown",
   "id": "b2412404-8bc5-4df6-9e3b-b1a9e5e53f7d",
   "metadata": {},
   "source": [
    "Compare above and below to prove we're accessing keys opposed to indices:"
   ]
  },
  {
   "cell_type": "code",
   "execution_count": 16,
   "id": "c1b896da-28a6-4a00-b03e-b9eafc7dcc1a",
   "metadata": {},
   "outputs": [
    {
     "data": {
      "text/plain": [
       "{3: 'd', 2: 'c', 1: 'b', 0: 'a'}"
      ]
     },
     "execution_count": 16,
     "metadata": {},
     "output_type": "execute_result"
    }
   ],
   "source": [
    "d = {3: 'd', 2: 'c', 1: 'b', 0: 'a'}\n",
    "d"
   ]
  },
  {
   "cell_type": "code",
   "execution_count": 17,
   "id": "b7c48d9d-059b-42ee-97f6-4051926ad9db",
   "metadata": {},
   "outputs": [
    {
     "data": {
      "text/plain": [
       "'a'"
      ]
     },
     "execution_count": 17,
     "metadata": {},
     "output_type": "execute_result"
    }
   ],
   "source": [
    "d[0]"
   ]
  },
  {
   "cell_type": "code",
   "execution_count": 18,
   "id": "a5c15ee5-d36e-4512-8db3-cedf42a2265a",
   "metadata": {},
   "outputs": [
    {
     "data": {
      "text/plain": [
       "'c'"
      ]
     },
     "execution_count": 18,
     "metadata": {},
     "output_type": "execute_result"
    }
   ],
   "source": [
    "d[2]"
   ]
  },
  {
   "cell_type": "markdown",
   "id": "a7b6964b-a71b-439b-b6d7-9c0188a52d5b",
   "metadata": {
    "tags": []
   },
   "source": [
    "## Building a Dictionary Incrementally\n",
    "You can start by creating an empty dictionary, which is specified by empty curly braces. Then adding new key value pairs one at a time:"
   ]
  },
  {
   "cell_type": "code",
   "execution_count": 19,
   "id": "b652fffb-fd67-40df-a100-4f60eb4efc09",
   "metadata": {},
   "outputs": [
    {
     "data": {
      "text/plain": [
       "dict"
      ]
     },
     "execution_count": 19,
     "metadata": {},
     "output_type": "execute_result"
    }
   ],
   "source": [
    "person = {}\n",
    "type(person)"
   ]
  },
  {
   "cell_type": "code",
   "execution_count": 20,
   "id": "1da6078e-3413-462e-8b0e-82cb2aa62765",
   "metadata": {},
   "outputs": [],
   "source": [
    "person['fname'] = 'Joe'\n",
    "person['lname'] = 'Fonebone'\n",
    "person['age'] = '51'\n",
    "person['spouse'] = 'Edna'\n",
    "person['children'] = ['Ralph', 'Betty', 'Joey']\n",
    "person['pets'] = {'dog': 'Fido', 'cat': 'Sox'}"
   ]
  },
  {
   "cell_type": "code",
   "execution_count": 21,
   "id": "46771146-567e-4641-9b9f-9bb6c389e83c",
   "metadata": {},
   "outputs": [
    {
     "data": {
      "text/plain": [
       "{'fname': 'Joe',\n",
       " 'lname': 'Fonebone',\n",
       " 'age': '51',\n",
       " 'spouse': 'Edna',\n",
       " 'children': ['Ralph', 'Betty', 'Joey'],\n",
       " 'pets': {'dog': 'Fido', 'cat': 'Sox'}}"
      ]
     },
     "execution_count": 21,
     "metadata": {},
     "output_type": "execute_result"
    }
   ],
   "source": [
    "person"
   ]
  },
  {
   "cell_type": "code",
   "execution_count": 22,
   "id": "aec565ff-4c63-422f-b5ac-fc58878f3f77",
   "metadata": {},
   "outputs": [
    {
     "data": {
      "text/plain": [
       "'Joe'"
      ]
     },
     "execution_count": 22,
     "metadata": {},
     "output_type": "execute_result"
    }
   ],
   "source": [
    "person['fname']"
   ]
  },
  {
   "cell_type": "code",
   "execution_count": 23,
   "id": "0919ae03-7d5b-4668-8fad-f47381f4c92a",
   "metadata": {},
   "outputs": [
    {
     "data": {
      "text/plain": [
       "'51'"
      ]
     },
     "execution_count": 23,
     "metadata": {},
     "output_type": "execute_result"
    }
   ],
   "source": [
    "person['age']"
   ]
  },
  {
   "cell_type": "code",
   "execution_count": 24,
   "id": "067a559a-081f-4d89-b389-e161206d0e9f",
   "metadata": {},
   "outputs": [
    {
     "data": {
      "text/plain": [
       "['Ralph', 'Betty', 'Joey']"
      ]
     },
     "execution_count": 24,
     "metadata": {},
     "output_type": "execute_result"
    }
   ],
   "source": [
    "person['children']"
   ]
  },
  {
   "cell_type": "markdown",
   "id": "977e4ac3-3ee2-47b8-9d72-7322cbfe8d48",
   "metadata": {},
   "source": [
    "***"
   ]
  },
  {
   "cell_type": "markdown",
   "id": "10574076-e899-40eb-b810-8604669cda69",
   "metadata": {},
   "source": [
    "Retrieving the values in the sublist or subdictionary requires an additonal index or key:"
   ]
  },
  {
   "cell_type": "code",
   "execution_count": 25,
   "id": "0b2ebdd5-9df0-442c-8e38-265d5cd24c5a",
   "metadata": {},
   "outputs": [
    {
     "data": {
      "text/plain": [
       "'Joey'"
      ]
     },
     "execution_count": 25,
     "metadata": {},
     "output_type": "execute_result"
    }
   ],
   "source": [
    "person['children'][-1]"
   ]
  },
  {
   "cell_type": "code",
   "execution_count": 26,
   "id": "3918900a-25e6-41f1-be69-7ccb95d8aae8",
   "metadata": {},
   "outputs": [
    {
     "data": {
      "text/plain": [
       "'Sox'"
      ]
     },
     "execution_count": 26,
     "metadata": {},
     "output_type": "execute_result"
    }
   ],
   "source": [
    "person['pets']['cat']"
   ]
  },
  {
   "cell_type": "markdown",
   "id": "12151c9d-8b77-4fdd-940b-7a321298c579",
   "metadata": {},
   "source": [
    "***"
   ]
  },
  {
   "cell_type": "markdown",
   "id": "f40a5f03-c810-42c3-97d1-5bde80fbf765",
   "metadata": {},
   "source": [
    "keys don't need to be the same type and neither do values!"
   ]
  },
  {
   "cell_type": "code",
   "execution_count": 27,
   "id": "e56030bc-e45a-422b-bf2a-d8cfad6cadae",
   "metadata": {},
   "outputs": [
    {
     "data": {
      "text/plain": [
       "{42: 'aaa', 2.78: 'bbb', True: 'ccc'}"
      ]
     },
     "execution_count": 27,
     "metadata": {},
     "output_type": "execute_result"
    }
   ],
   "source": [
    "foo = {42: 'aaa', 2.78: 'bbb', True: 'ccc'}\n",
    "foo"
   ]
  },
  {
   "cell_type": "code",
   "execution_count": 28,
   "id": "e9e3a3d4-d133-4a60-aa0b-0c01af5e4c76",
   "metadata": {},
   "outputs": [
    {
     "data": {
      "text/plain": [
       "'aaa'"
      ]
     },
     "execution_count": 28,
     "metadata": {},
     "output_type": "execute_result"
    }
   ],
   "source": [
    "foo[42]"
   ]
  },
  {
   "cell_type": "code",
   "execution_count": 29,
   "id": "fd9b3816-2f57-4cf4-9b45-c2781465291e",
   "metadata": {},
   "outputs": [
    {
     "data": {
      "text/plain": [
       "'bbb'"
      ]
     },
     "execution_count": 29,
     "metadata": {},
     "output_type": "execute_result"
    }
   ],
   "source": [
    "foo[2.78]"
   ]
  },
  {
   "cell_type": "code",
   "execution_count": 30,
   "id": "5af4a7c2-b5f8-4719-becd-eb6dffec109c",
   "metadata": {},
   "outputs": [
    {
     "data": {
      "text/plain": [
       "'ccc'"
      ]
     },
     "execution_count": 30,
     "metadata": {},
     "output_type": "execute_result"
    }
   ],
   "source": [
    "foo[True]"
   ]
  },
  {
   "cell_type": "markdown",
   "id": "209e5102-e422-459d-8f4f-b9bb5111ef28",
   "metadata": {},
   "source": [
    "you can even use built-in objects like types and functions:"
   ]
  },
  {
   "cell_type": "code",
   "execution_count": 31,
   "id": "313ce029-0ff1-442c-afc0-4ab821d15e31",
   "metadata": {},
   "outputs": [
    {
     "data": {
      "text/plain": [
       "{int: 1, float: 2, bool: 3}"
      ]
     },
     "execution_count": 31,
     "metadata": {},
     "output_type": "execute_result"
    }
   ],
   "source": [
    "d = {int: 1, float: 2, bool: 3}\n",
    "d"
   ]
  },
  {
   "cell_type": "code",
   "execution_count": 32,
   "id": "0e1f1bd6-c9b3-4abf-8fa8-b76ee7d4b752",
   "metadata": {},
   "outputs": [
    {
     "data": {
      "text/plain": [
       "3"
      ]
     },
     "execution_count": 32,
     "metadata": {},
     "output_type": "execute_result"
    }
   ],
   "source": [
    "d = {bin: 1, hex: 2, oct: 3}\n",
    "d[oct]"
   ]
  },
  {
   "cell_type": "markdown",
   "id": "31d720b9-e760-42cb-962c-3c39692e8404",
   "metadata": {},
   "source": [
    "## Restrictions on Dictionary Keys\n",
    "- a key can appear once\n",
    "- a key must be of a type that is immutable"
   ]
  },
  {
   "cell_type": "markdown",
   "id": "17fee499-abd7-45b9-bd26-5d1ec80cf287",
   "metadata": {},
   "source": [
    "a tuple can be a dictionary key, because tuples are immutable:"
   ]
  },
  {
   "cell_type": "code",
   "execution_count": 33,
   "id": "d7b54016-c23c-4918-a44d-f85fe7a0785f",
   "metadata": {},
   "outputs": [
    {
     "data": {
      "text/plain": [
       "'a'"
      ]
     },
     "execution_count": 33,
     "metadata": {},
     "output_type": "execute_result"
    }
   ],
   "source": [
    "d = {(1, 1): 'a', (1, 2): 'b', (2, 1): 'c', (2, 2): 'd'}\n",
    "d[(1, 1)]"
   ]
  },
  {
   "cell_type": "code",
   "execution_count": 34,
   "id": "d4ecfa94-b7ec-4a2e-bbb2-bbdad7493696",
   "metadata": {},
   "outputs": [
    {
     "data": {
      "text/plain": [
       "'c'"
      ]
     },
     "execution_count": 34,
     "metadata": {},
     "output_type": "execute_result"
    }
   ],
   "source": [
    "d[(2, 1)]"
   ]
  },
  {
   "cell_type": "markdown",
   "id": "93f5e7fa-b1a3-4086-ac1b-95e90e871c80",
   "metadata": {},
   "source": [
    "## Restrictions on Dictionary Values"
   ]
  },
  {
   "cell_type": "code",
   "execution_count": null,
   "id": "961525d7-d3fc-4b9b-ad44-021609dbb642",
   "metadata": {},
   "outputs": [],
   "source": []
  }
 ],
 "metadata": {
  "kernelspec": {
   "display_name": "Python 3 (ipykernel)",
   "language": "python",
   "name": "python3"
  },
  "language_info": {
   "codemirror_mode": {
    "name": "ipython",
    "version": 3
   },
   "file_extension": ".py",
   "mimetype": "text/x-python",
   "name": "python",
   "nbconvert_exporter": "python",
   "pygments_lexer": "ipython3",
   "version": "3.8.12"
  }
 },
 "nbformat": 4,
 "nbformat_minor": 5
}
