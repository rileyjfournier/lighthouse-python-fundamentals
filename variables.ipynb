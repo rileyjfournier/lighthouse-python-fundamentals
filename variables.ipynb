{
 "cells": [
  {
   "cell_type": "code",
   "execution_count": 1,
   "id": "6b0a39bf-aa6e-4208-9dbe-018895b917ee",
   "metadata": {},
   "outputs": [],
   "source": [
    "n = 300"
   ]
  },
  {
   "cell_type": "code",
   "execution_count": 2,
   "id": "fb04786d-7ac1-4958-ace7-bb8286f31f81",
   "metadata": {},
   "outputs": [
    {
     "name": "stdout",
     "output_type": "stream",
     "text": [
      "300\n"
     ]
    }
   ],
   "source": [
    "print(n)"
   ]
  },
  {
   "cell_type": "code",
   "execution_count": 5,
   "id": "de5db89c-d49d-4e36-9296-b25565b39330",
   "metadata": {},
   "outputs": [
    {
     "data": {
      "text/plain": [
       "400"
      ]
     },
     "execution_count": 5,
     "metadata": {},
     "output_type": "execute_result"
    }
   ],
   "source": [
    "n"
   ]
  },
  {
   "cell_type": "code",
   "execution_count": 6,
   "id": "e66cddda-b632-4e50-8525-28df4f18510e",
   "metadata": {},
   "outputs": [
    {
     "name": "stdout",
     "output_type": "stream",
     "text": [
      "1000\n"
     ]
    }
   ],
   "source": [
    "n = 1000\n",
    "print(n)"
   ]
  },
  {
   "cell_type": "code",
   "execution_count": 7,
   "id": "56953b28-d4c8-4d7a-993e-40f8941e15fa",
   "metadata": {},
   "outputs": [
    {
     "data": {
      "text/plain": [
       "1000"
      ]
     },
     "execution_count": 7,
     "metadata": {},
     "output_type": "execute_result"
    }
   ],
   "source": [
    "n"
   ]
  },
  {
   "cell_type": "code",
   "execution_count": 10,
   "id": "ec43071d-41e1-4dc4-9bb9-d4c5e8b1af61",
   "metadata": {},
   "outputs": [],
   "source": [
    "a = b = c = 300"
   ]
  },
  {
   "cell_type": "code",
   "execution_count": 11,
   "id": "250e3a8c-4535-437c-b269-e8bffc5b9ba4",
   "metadata": {},
   "outputs": [
    {
     "name": "stdout",
     "output_type": "stream",
     "text": [
      "300 300 300\n"
     ]
    }
   ],
   "source": [
    "print(a, b, c)"
   ]
  },
  {
   "cell_type": "code",
   "execution_count": 12,
   "id": "ed922ef1-cd78-440f-b770-b4c206ac603e",
   "metadata": {},
   "outputs": [],
   "source": [
    "var = 23.5"
   ]
  },
  {
   "cell_type": "code",
   "execution_count": 13,
   "id": "bfed46ab-c4c0-41d1-ab4b-a1bf47250a43",
   "metadata": {},
   "outputs": [
    {
     "name": "stdout",
     "output_type": "stream",
     "text": [
      "23.5\n"
     ]
    }
   ],
   "source": [
    "print(var)"
   ]
  },
  {
   "cell_type": "code",
   "execution_count": 15,
   "id": "0eca4126-a189-4419-b34a-c74e9fe8718c",
   "metadata": {},
   "outputs": [],
   "source": [
    "var = \"Now I'm a string\""
   ]
  },
  {
   "cell_type": "code",
   "execution_count": 16,
   "id": "353f59b3-6ae4-43cd-93d3-e1890a2877b5",
   "metadata": {},
   "outputs": [
    {
     "name": "stdout",
     "output_type": "stream",
     "text": [
      "Now I'm a string\n"
     ]
    }
   ],
   "source": [
    "print(var)"
   ]
  },
  {
   "cell_type": "code",
   "execution_count": 17,
   "id": "dc4db356-ada3-48b3-b531-ba805c0f0374",
   "metadata": {},
   "outputs": [
    {
     "data": {
      "text/plain": [
       "int"
      ]
     },
     "execution_count": 17,
     "metadata": {},
     "output_type": "execute_result"
    }
   ],
   "source": [
    "type(300)"
   ]
  },
  {
   "cell_type": "code",
   "execution_count": 18,
   "id": "6d3d63aa-9f40-46fa-ad59-48610c7da152",
   "metadata": {},
   "outputs": [],
   "source": [
    "n = 300"
   ]
  },
  {
   "cell_type": "code",
   "execution_count": 19,
   "id": "302e47b5-4837-483f-a0bc-e5fa5b734c98",
   "metadata": {},
   "outputs": [
    {
     "name": "stdout",
     "output_type": "stream",
     "text": [
      "300\n"
     ]
    }
   ],
   "source": [
    "print(n)"
   ]
  },
  {
   "cell_type": "code",
   "execution_count": 20,
   "id": "459fb7d3-3818-4784-96d6-78884cd6245c",
   "metadata": {},
   "outputs": [
    {
     "data": {
      "text/plain": [
       "int"
      ]
     },
     "execution_count": 20,
     "metadata": {},
     "output_type": "execute_result"
    }
   ],
   "source": [
    "type(n)"
   ]
  },
  {
   "cell_type": "code",
   "execution_count": 21,
   "id": "bc94c0de-ef96-49cb-b296-227754f1451c",
   "metadata": {},
   "outputs": [],
   "source": [
    "m = n"
   ]
  },
  {
   "cell_type": "code",
   "execution_count": 22,
   "id": "cee59aa3-593a-450a-8f2f-ebdd1f0b9697",
   "metadata": {},
   "outputs": [],
   "source": [
    "m = 400"
   ]
  },
  {
   "cell_type": "code",
   "execution_count": 23,
   "id": "a1e46425-e0a5-4d5e-9b12-fb4d6681dc87",
   "metadata": {},
   "outputs": [
    {
     "data": {
      "text/plain": [
       "400"
      ]
     },
     "execution_count": 23,
     "metadata": {},
     "output_type": "execute_result"
    }
   ],
   "source": [
    "m"
   ]
  },
  {
   "cell_type": "code",
   "execution_count": 24,
   "id": "9ab85a2d-1a02-4975-88f3-8908f2af9405",
   "metadata": {},
   "outputs": [
    {
     "data": {
      "text/plain": [
       "300"
      ]
     },
     "execution_count": 24,
     "metadata": {},
     "output_type": "execute_result"
    }
   ],
   "source": [
    "n"
   ]
  },
  {
   "cell_type": "code",
   "execution_count": 26,
   "id": "07c2aeab-4e7a-4ca8-9d60-df5a8242b990",
   "metadata": {},
   "outputs": [],
   "source": [
    "n = \"foo\""
   ]
  },
  {
   "cell_type": "code",
   "execution_count": 27,
   "id": "8fb55619-38d7-4119-9ebe-fb31e622b84f",
   "metadata": {},
   "outputs": [],
   "source": [
    "n = 300"
   ]
  },
  {
   "cell_type": "code",
   "execution_count": 28,
   "id": "fc617f29-edaf-493b-a693-c593e1e505d4",
   "metadata": {},
   "outputs": [
    {
     "data": {
      "text/plain": [
       "300"
      ]
     },
     "execution_count": 28,
     "metadata": {},
     "output_type": "execute_result"
    }
   ],
   "source": [
    "n"
   ]
  },
  {
   "cell_type": "code",
   "execution_count": 29,
   "id": "7e303b32-55bd-4b71-8f61-237e0ce1d825",
   "metadata": {},
   "outputs": [
    {
     "data": {
      "text/plain": [
       "400"
      ]
     },
     "execution_count": 29,
     "metadata": {},
     "output_type": "execute_result"
    }
   ],
   "source": [
    "m"
   ]
  },
  {
   "cell_type": "code",
   "execution_count": 30,
   "id": "d0f1c2a8-7efb-4f13-82c2-7f25e9883d00",
   "metadata": {},
   "outputs": [],
   "source": [
    "n = 300"
   ]
  },
  {
   "cell_type": "code",
   "execution_count": 31,
   "id": "14510ec8-2d00-4c1a-ac55-9685a6d19df6",
   "metadata": {},
   "outputs": [
    {
     "data": {
      "text/plain": [
       "300"
      ]
     },
     "execution_count": 31,
     "metadata": {},
     "output_type": "execute_result"
    }
   ],
   "source": [
    "n"
   ]
  },
  {
   "cell_type": "code",
   "execution_count": 32,
   "id": "2f506735-de89-4a1c-ba6b-9164ca21dd65",
   "metadata": {},
   "outputs": [],
   "source": [
    "m = n"
   ]
  },
  {
   "cell_type": "code",
   "execution_count": 33,
   "id": "9b61940f-b5b1-4374-b281-1cd96e2e5e07",
   "metadata": {},
   "outputs": [
    {
     "data": {
      "text/plain": [
       "300"
      ]
     },
     "execution_count": 33,
     "metadata": {},
     "output_type": "execute_result"
    }
   ],
   "source": [
    "m"
   ]
  },
  {
   "cell_type": "code",
   "execution_count": 34,
   "id": "38f8abed-9bef-4fa4-a54a-d12102c17e05",
   "metadata": {},
   "outputs": [
    {
     "data": {
      "text/plain": [
       "4430517648"
      ]
     },
     "execution_count": 34,
     "metadata": {},
     "output_type": "execute_result"
    }
   ],
   "source": [
    "id(n)"
   ]
  },
  {
   "cell_type": "code",
   "execution_count": 35,
   "id": "a6e5a0d7-892c-46b6-adca-08e7a44eca12",
   "metadata": {},
   "outputs": [
    {
     "data": {
      "text/plain": [
       "4430517648"
      ]
     },
     "execution_count": 35,
     "metadata": {},
     "output_type": "execute_result"
    }
   ],
   "source": [
    "id(m)"
   ]
  },
  {
   "cell_type": "code",
   "execution_count": 36,
   "id": "74dabbf3-0b48-4c98-b16d-9483e9f28c96",
   "metadata": {},
   "outputs": [],
   "source": [
    "m = 400"
   ]
  },
  {
   "cell_type": "code",
   "execution_count": 37,
   "id": "17f063d8-49f2-49d4-87e2-429b30a08a31",
   "metadata": {},
   "outputs": [
    {
     "data": {
      "text/plain": [
       "4430517712"
      ]
     },
     "execution_count": 37,
     "metadata": {},
     "output_type": "execute_result"
    }
   ],
   "source": [
    "id(m)"
   ]
  },
  {
   "cell_type": "code",
   "execution_count": 38,
   "id": "81b00514-4090-4dcf-a52c-3e27716bd0bb",
   "metadata": {},
   "outputs": [],
   "source": [
    "m = 300"
   ]
  },
  {
   "cell_type": "code",
   "execution_count": 39,
   "id": "f945741a-647b-47fe-ad3a-77a4456be8b0",
   "metadata": {},
   "outputs": [],
   "source": [
    "n = 300"
   ]
  },
  {
   "cell_type": "code",
   "execution_count": 40,
   "id": "c8632cd9-5eac-4ff6-aa45-27dfdef503fc",
   "metadata": {},
   "outputs": [
    {
     "data": {
      "text/plain": [
       "4430518032"
      ]
     },
     "execution_count": 40,
     "metadata": {},
     "output_type": "execute_result"
    }
   ],
   "source": [
    "id(m)"
   ]
  },
  {
   "cell_type": "code",
   "execution_count": 41,
   "id": "50d0c557-0c9e-43a0-815f-ec117f1f0b14",
   "metadata": {},
   "outputs": [
    {
     "data": {
      "text/plain": [
       "4430516912"
      ]
     },
     "execution_count": 41,
     "metadata": {},
     "output_type": "execute_result"
    }
   ],
   "source": [
    "id(n)"
   ]
  },
  {
   "cell_type": "code",
   "execution_count": 42,
   "id": "334307f1-aca1-49fc-af56-0543048214a2",
   "metadata": {},
   "outputs": [],
   "source": [
    "name = \"Bob\""
   ]
  },
  {
   "cell_type": "code",
   "execution_count": 43,
   "id": "9be6309f-6ce2-4ccb-98eb-fb8624a62bc1",
   "metadata": {},
   "outputs": [],
   "source": [
    "Age = 54\n",
    "has_W2 = True"
   ]
  },
  {
   "cell_type": "code",
   "execution_count": 44,
   "id": "16397b6b-eb08-43d7-a115-d098dafce1f3",
   "metadata": {},
   "outputs": [
    {
     "name": "stdout",
     "output_type": "stream",
     "text": [
      "Bob 54 True\n"
     ]
    }
   ],
   "source": [
    "print(name, Age, has_W2)"
   ]
  },
  {
   "cell_type": "code",
   "execution_count": 45,
   "id": "5ea8eafa-8ba5-45b1-881f-5208d905d287",
   "metadata": {},
   "outputs": [],
   "source": [
    "age = 1\n",
    "Age = 2\n",
    "aGe = 3\n",
    "AGE = 4\n",
    "a_g_e = 5\n",
    "_age = 6\n",
    "age_ = 7\n",
    "_AGE_ = 8"
   ]
  },
  {
   "cell_type": "code",
   "execution_count": 46,
   "id": "1bd3b1cb-3517-48e4-9b18-476e5e61328e",
   "metadata": {},
   "outputs": [
    {
     "name": "stdout",
     "output_type": "stream",
     "text": [
      "1 2 3 4 5 6 7 8\n"
     ]
    }
   ],
   "source": [
    "print(age, Age, aGe, AGE, a_g_e, _age, age_, _AGE_)"
   ]
  },
  {
   "cell_type": "code",
   "execution_count": 47,
   "id": "450a7ada-40af-4eb5-af56-32d1ce0334f8",
   "metadata": {},
   "outputs": [
    {
     "name": "stdout",
     "output_type": "stream",
     "text": [
      "\n",
      "Here is a list of the Python keywords.  Enter any keyword to get more help.\n",
      "\n",
      "False               class               from                or\n",
      "None                continue            global              pass\n",
      "True                def                 if                  raise\n",
      "and                 del                 import              return\n",
      "as                  elif                in                  try\n",
      "assert              else                is                  while\n",
      "async               except              lambda              with\n",
      "await               finally             nonlocal            yield\n",
      "break               for                 not                 \n",
      "\n"
     ]
    }
   ],
   "source": [
    "help(\"keywords\")"
   ]
  },
  {
   "cell_type": "code",
   "execution_count": null,
   "id": "d1256a22-5740-42ac-8310-b79d442f64d5",
   "metadata": {},
   "outputs": [],
   "source": []
  }
 ],
 "metadata": {
  "kernelspec": {
   "display_name": "Python 3 (ipykernel)",
   "language": "python",
   "name": "python3"
  },
  "language_info": {
   "codemirror_mode": {
    "name": "ipython",
    "version": 3
   },
   "file_extension": ".py",
   "mimetype": "text/x-python",
   "name": "python",
   "nbconvert_exporter": "python",
   "pygments_lexer": "ipython3",
   "version": "3.8.12"
  }
 },
 "nbformat": 4,
 "nbformat_minor": 5
}
