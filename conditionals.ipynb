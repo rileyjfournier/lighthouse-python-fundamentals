{
 "cells": [
  {
   "cell_type": "markdown",
   "id": "06335d35-2860-4760-b0ea-22aabba75bd4",
   "metadata": {},
   "source": [
    "# Conditional Statements in Python\n",
    "Conditional statements allow for conditional execution of a statement or group of statements based on the value of an expression"
   ]
  },
  {
   "cell_type": "markdown",
   "id": "31caea0c-18b6-4b72-a2cc-0f8382ccba88",
   "metadata": {
    "jp-MarkdownHeadingCollapsed": true,
    "tags": []
   },
   "source": [
    "## Introduction to the *if* Statement"
   ]
  },
  {
   "cell_type": "code",
   "execution_count": null,
   "id": "de5d9015-2e33-474b-b036-b96fd846c1ee",
   "metadata": {},
   "outputs": [],
   "source": [
    "if <expr>:\n",
    "    <statement>"
   ]
  },
  {
   "cell_type": "markdown",
   "id": "85c6baff-444c-4281-a3c3-a8b98d3f9ed9",
   "metadata": {},
   "source": [
    "- \\<expr> is an expression evalued in a Boolean context\n",
    "- \\<statement> is a valid Python statement, which must be indented"
   ]
  },
  {
   "cell_type": "markdown",
   "id": "bf1d58ab-d83f-48d9-b2e9-5632f31878ad",
   "metadata": {},
   "source": [
    "if \\<expr> is true, then \\<statement> is executed. If \\<expr> is false, then \\<statement> is skipped over and not executed."
   ]
  },
  {
   "cell_type": "code",
   "execution_count": 1,
   "id": "50967edb-bb82-4ed7-8c0b-246eaf525caf",
   "metadata": {},
   "outputs": [],
   "source": [
    "x = 0\n",
    "y = 5"
   ]
  },
  {
   "cell_type": "code",
   "execution_count": 2,
   "id": "9f1fb18e-1835-44a5-9959-3a152824b231",
   "metadata": {},
   "outputs": [
    {
     "name": "stdout",
     "output_type": "stream",
     "text": [
      "yes\n"
     ]
    }
   ],
   "source": [
    "if x < y:\n",
    "    print('yes')"
   ]
  },
  {
   "cell_type": "code",
   "execution_count": 3,
   "id": "4f611aa0-1ab3-439c-b287-3dccc0fe2958",
   "metadata": {},
   "outputs": [],
   "source": [
    "if y < x:\n",
    "    print('yes')"
   ]
  },
  {
   "cell_type": "code",
   "execution_count": 4,
   "id": "b3d5fcc7-bbc1-47a8-a24f-d64c9cec02eb",
   "metadata": {},
   "outputs": [],
   "source": [
    "if x:\n",
    "    print('yes')"
   ]
  },
  {
   "cell_type": "code",
   "execution_count": 5,
   "id": "902057b0-1632-4ff2-9b07-33f919b39cef",
   "metadata": {},
   "outputs": [
    {
     "name": "stdout",
     "output_type": "stream",
     "text": [
      "yes\n"
     ]
    }
   ],
   "source": [
    "if y:\n",
    "    print('yes')"
   ]
  },
  {
   "cell_type": "code",
   "execution_count": 6,
   "id": "eb0e2096-bfa6-4bf6-a50a-e515709b2ea1",
   "metadata": {},
   "outputs": [
    {
     "name": "stdout",
     "output_type": "stream",
     "text": [
      "yes\n"
     ]
    }
   ],
   "source": [
    "if x or y:\n",
    "    print('yes')"
   ]
  },
  {
   "cell_type": "code",
   "execution_count": 7,
   "id": "01b1b230-4a3b-41f3-a4a3-11574ce64d85",
   "metadata": {},
   "outputs": [],
   "source": [
    "if x and y:\n",
    "    print('yes')"
   ]
  },
  {
   "cell_type": "code",
   "execution_count": 8,
   "id": "746407a3-4b6b-45ed-9abc-78c68a2db42a",
   "metadata": {},
   "outputs": [
    {
     "name": "stdout",
     "output_type": "stream",
     "text": [
      "yes\n"
     ]
    }
   ],
   "source": [
    "if 'aul' in 'grault':\n",
    "    print('yes')"
   ]
  },
  {
   "cell_type": "code",
   "execution_count": 10,
   "id": "cd73555a-d22a-4abd-8164-5b57b0e82af9",
   "metadata": {},
   "outputs": [
    {
     "name": "stdout",
     "output_type": "stream",
     "text": [
      "yes\n"
     ]
    }
   ],
   "source": [
    "if 'quux' not in ['foo', 'bar', 'baz']:\n",
    "    print('yes')"
   ]
  },
  {
   "cell_type": "markdown",
   "id": "705dbcd5-0d7f-4618-b134-0c618478a1e0",
   "metadata": {
    "jp-MarkdownHeadingCollapsed": true,
    "tags": []
   },
   "source": [
    "## Grouping Statements: Indentation and Blocks"
   ]
  },
  {
   "cell_type": "markdown",
   "id": "b8a3a9dc-8dcf-4b64-a2e6-9a881d6a8212",
   "metadata": {
    "jp-MarkdownHeadingCollapsed": true,
    "tags": []
   },
   "source": [
    "### Indentation\n",
    "Python follows the *off-side rule* convention"
   ]
  },
  {
   "cell_type": "markdown",
   "id": "0ed1ce5f-f075-4b6f-a463-6b3df1592028",
   "metadata": {},
   "source": [
    "A compound *if* statement in Python looks like:"
   ]
  },
  {
   "cell_type": "code",
   "execution_count": null,
   "id": "5e31fbd5-4b95-4a81-8da4-39d8b17d35c2",
   "metadata": {},
   "outputs": [],
   "source": [
    "if <expr>:\n",
    "    <statement>\n",
    "    <statement>\n",
    "    <statement>\n",
    "    ...\n",
    "    <statement>\n",
    "<following_statement>"
   ]
  },
  {
   "cell_type": "markdown",
   "id": "d8fe729f-7a6c-4031-9251-639f1388b0dd",
   "metadata": {},
   "source": [
    "Here, all statements at the same indentation level are considered part of the same block. The entire block is executed if \\<expr> is true, or skipped over if \\<expr> is false. **Either way, execution proceeds with \\<following_statement> afterward**"
   ]
  },
  {
   "cell_type": "code",
   "execution_count": 11,
   "id": "3d47534f-531e-4967-bfd8-3b7c9f76b7cb",
   "metadata": {},
   "outputs": [
    {
     "name": "stdout",
     "output_type": "stream",
     "text": [
      "After conditional\n"
     ]
    }
   ],
   "source": [
    "if 'foo' in ['bar', 'baz', 'qux']:\n",
    "    print('Expression was true')\n",
    "    print('Executing statement in suite')\n",
    "    print('...')\n",
    "    print('Done.')\n",
    "print('After conditional')"
   ]
  },
  {
   "cell_type": "markdown",
   "id": "8c12846e-929f-4c9e-b8eb-1a59a3a052ea",
   "metadata": {},
   "source": [
    "***"
   ]
  },
  {
   "cell_type": "markdown",
   "id": "c6da35fe-42f5-48c8-a696-0fca9db4f436",
   "metadata": {},
   "source": [
    "**Each indent defines a new block, and each outdent ends the preceding block**"
   ]
  },
  {
   "cell_type": "code",
   "execution_count": 12,
   "id": "04591558-eb4f-4a3f-ac51-db78ee113e33",
   "metadata": {},
   "outputs": [
    {
     "name": "stdout",
     "output_type": "stream",
     "text": [
      "Outer condition is true\n",
      "Between inner conditions\n",
      "Inner condition 2\n",
      "End of outer condition\n",
      "After outer condition\n"
     ]
    }
   ],
   "source": [
    "# Does line execute?                       Yes    No\n",
    "#                                          ---    --\n",
    "if 'foo' in ['foo', 'bar', 'baz']:       #  x\n",
    "    print('Outer condition is true')     #  x\n",
    "                                         \n",
    "    if 10 > 20:                          #  x\n",
    "        print('Inner condition 1')       #        x\n",
    "                                         \n",
    "    print('Between inner conditions')    #  x\n",
    "                                         \n",
    "    if 10 < 20:                          #  x\n",
    "        print('Inner condition 2')       #  x\n",
    "                                         \n",
    "    print('End of outer condition')      #  x\n",
    "print('After outer condition')           #  x"
   ]
  },
  {
   "cell_type": "markdown",
   "id": "fa4f3324-e9d2-4b25-8408-a4007ad2d245",
   "metadata": {
    "jp-MarkdownHeadingCollapsed": true,
    "tags": []
   },
   "source": [
    "## The *else* and *elif* Clauses\n",
    "Used if you want to evaluate a condition and take one path if it is true but specify an alternative path if it is not"
   ]
  },
  {
   "cell_type": "code",
   "execution_count": null,
   "id": "a95f5a45-3f10-43b1-8fe3-e0700832e8f5",
   "metadata": {},
   "outputs": [],
   "source": [
    "if <expr>:\n",
    "    <statement(s)>\n",
    "else:\n",
    "    <statement(s)>"
   ]
  },
  {
   "cell_type": "markdown",
   "id": "82c2b6e2-fc7a-4b62-b1b0-50f9a4eaedf2",
   "metadata": {},
   "source": [
    "Examples:"
   ]
  },
  {
   "cell_type": "code",
   "execution_count": 14,
   "id": "c787ad82-f5d3-43a8-8eda-580354c1f1c1",
   "metadata": {},
   "outputs": [
    {
     "name": "stdout",
     "output_type": "stream",
     "text": [
      "(first suite)\n",
      "x is small\n"
     ]
    }
   ],
   "source": [
    "x = 20\n",
    "\n",
    "if x < 50:\n",
    "    print('(first suite)')\n",
    "    print('x is small')\n",
    "else:\n",
    "    print('(second suite)')\n",
    "    print('x is large')"
   ]
  },
  {
   "cell_type": "code",
   "execution_count": 15,
   "id": "3cb4595d-3176-4056-9cca-c353dc08f0cb",
   "metadata": {},
   "outputs": [
    {
     "name": "stdout",
     "output_type": "stream",
     "text": [
      "(second suite)\n",
      "x is large\n"
     ]
    }
   ],
   "source": [
    "x = 120\n",
    "\n",
    "if x < 50:\n",
    "    print('(first suite)')\n",
    "    print('x is small')\n",
    "else:\n",
    "    print('(second suite)')\n",
    "    print('x is large')"
   ]
  },
  {
   "cell_type": "markdown",
   "id": "2811bf0e-fb2c-4c22-a17c-f7d5ef0ae998",
   "metadata": {},
   "source": [
    "***"
   ]
  },
  {
   "cell_type": "markdown",
   "id": "dee340cb-a3e9-47f1-820e-f3d0848370f2",
   "metadata": {},
   "source": [
    "There is also a syntax for branching execution based on several alternatives. For this, use one or more *elif* (short for *else if*) clauses. Python evaluates each \\<expr> in turn and executes the suite corresponding to the first that is true. If none of the expressions are true, and an *else* clause is specified, then its suite is executed:"
   ]
  },
  {
   "cell_type": "code",
   "execution_count": null,
   "id": "008c60b3-e937-4a32-8db3-88a64b35f701",
   "metadata": {},
   "outputs": [],
   "source": [
    "if <expr>:\n",
    "    <statement(s)>\n",
    "elif <expr>:\n",
    "    <statement(s)>\n",
    "elif <expr>:\n",
    "    <statement(s)>\n",
    "    ...\n",
    "else:\n",
    "    <statement(s)>"
   ]
  },
  {
   "cell_type": "markdown",
   "id": "7482decb-8ce1-46cd-861e-dda0595611fa",
   "metadata": {},
   "source": [
    "***"
   ]
  },
  {
   "cell_type": "markdown",
   "id": "fe72b761-1d35-4934-b36a-5ba696508bbf",
   "metadata": {},
   "source": [
    "Any number of *elif* clauses can be specified, but the *else* clause is optional. If it is present, there can only be one, and it must be specified last:"
   ]
  },
  {
   "cell_type": "code",
   "execution_count": 18,
   "id": "df72ef5d-02ab-4296-ad27-74777ec1a03e",
   "metadata": {},
   "outputs": [
    {
     "name": "stdout",
     "output_type": "stream",
     "text": [
      "Hello Joe\n"
     ]
    }
   ],
   "source": [
    "name = 'Joe'\n",
    "\n",
    "if name == 'Fred':\n",
    "    print('Hello Fred')\n",
    "elif name == 'Xander':\n",
    "    print('Hello Xander')\n",
    "elif name == 'Joe':\n",
    "    print('Hello Joe')\n",
    "elif name == 'Arnold':\n",
    "    print('Hello Arnold')\n",
    "else:\n",
    "    print(\"I don't know who you are!\")"
   ]
  },
  {
   "cell_type": "code",
   "execution_count": 24,
   "id": "82ffd309-6f8c-45a7-91f8-6785e5e14c9f",
   "metadata": {},
   "outputs": [
    {
     "name": "stdout",
     "output_type": "stream",
     "text": [
      "foo\n"
     ]
    }
   ],
   "source": [
    "if 'a' in 'bar':\n",
    "    print('foo')\n",
    "elif 1/0:     #evaluates falsy\n",
    "    print(\"This won't happen\")\n",
    "elif var:\n",
    "    print(\"This won't either\")"
   ]
  },
  {
   "cell_type": "markdown",
   "id": "b6cdd60f-e12c-4a4e-9250-cc05fbb195fc",
   "metadata": {},
   "source": [
    "***"
   ]
  },
  {
   "cell_type": "markdown",
   "id": "ed8a9c10-395b-4d54-beec-a58c14540316",
   "metadata": {},
   "source": [
    "Here's one possible alternative to the example above using the dict.get() method:"
   ]
  },
  {
   "cell_type": "code",
   "execution_count": 19,
   "id": "a7110efd-9717-4a2b-a4df-d3f1f91e0984",
   "metadata": {},
   "outputs": [],
   "source": [
    "names = {\n",
    "    'Fred': 'Hello Fred',\n",
    "    'Xander': 'Hello Xander',\n",
    "    'Joe': 'Hello Joe',\n",
    "    'Arnold': 'Hello Arnold'\n",
    "}"
   ]
  },
  {
   "cell_type": "code",
   "execution_count": 20,
   "id": "84862adc-f28b-4fd1-bc29-26422f4ed3c7",
   "metadata": {},
   "outputs": [
    {
     "name": "stdout",
     "output_type": "stream",
     "text": [
      "Hello Joe\n"
     ]
    }
   ],
   "source": [
    "print(names.get('Joe', \"I don't know who you are!\"))"
   ]
  },
  {
   "cell_type": "code",
   "execution_count": 21,
   "id": "00d9a49e-760e-496c-9fea-1e0865424899",
   "metadata": {},
   "outputs": [
    {
     "name": "stdout",
     "output_type": "stream",
     "text": [
      "I don't know who you are!\n"
     ]
    }
   ],
   "source": [
    "print(names.get('Rick', \"I don't know who you are!\"))"
   ]
  },
  {
   "cell_type": "markdown",
   "id": "50adef50-0b30-476f-baec-18e3ed5c41a2",
   "metadata": {
    "jp-MarkdownHeadingCollapsed": true,
    "tags": []
   },
   "source": [
    "## One-Line *if* Statements"
   ]
  },
  {
   "cell_type": "markdown",
   "id": "8b568caf-723b-4280-832c-7bb7bf47ca2b",
   "metadata": {},
   "source": [
    "The following examples are equivalent:"
   ]
  },
  {
   "cell_type": "code",
   "execution_count": null,
   "id": "b75f98bd-b98a-427c-8bfa-c6eab4e1dba1",
   "metadata": {},
   "outputs": [],
   "source": [
    "if <expr>:\n",
    "    <statement>"
   ]
  },
  {
   "cell_type": "code",
   "execution_count": null,
   "id": "92f006c0-0725-4134-8e5b-265e7406daf3",
   "metadata": {},
   "outputs": [],
   "source": [
    "if <expr>: <statement>"
   ]
  },
  {
   "cell_type": "markdown",
   "id": "2d9bb6cf-377f-47f8-8b44-71f6211915ff",
   "metadata": {},
   "source": [
    "There can be more than one \\<statement> on the same line, separated by semicolons:  \n",
    "if \\<expr> is true, execute all of \\<statement_1> ... \\<statement_n>. Otherwise, don't execute any:"
   ]
  },
  {
   "cell_type": "code",
   "execution_count": null,
   "id": "1c9aa47f-a520-4de1-8ab7-bc565e24df2f",
   "metadata": {},
   "outputs": [],
   "source": [
    "if <expr>: <statement_1>; <statement_2>; ...; <statement_n>"
   ]
  },
  {
   "cell_type": "code",
   "execution_count": 1,
   "id": "56178c48-4615-454e-ba44-58e07b1d5009",
   "metadata": {},
   "outputs": [
    {
     "name": "stdout",
     "output_type": "stream",
     "text": [
      "1\n",
      "2\n",
      "3\n"
     ]
    }
   ],
   "source": [
    "if 'f' in 'foo': print('1'); print('2'); print('3')"
   ]
  },
  {
   "cell_type": "code",
   "execution_count": 2,
   "id": "35fd3b2f-3f9f-45b6-8b62-e28b2d2ff564",
   "metadata": {},
   "outputs": [],
   "source": [
    "if 'z' in 'foo': print('1'); print('2'); print('3')"
   ]
  },
  {
   "cell_type": "markdown",
   "id": "ebc7fdf0-d2ee-4b26-8c93-cd3919e3f980",
   "metadata": {},
   "source": [
    "***"
   ]
  },
  {
   "cell_type": "markdown",
   "id": "78446950-9d3e-456b-b3ad-5185172fd5f7",
   "metadata": {},
   "source": [
    "Muliple statements may be specified on the same line as an *elif* or *else* clause as well:"
   ]
  },
  {
   "cell_type": "code",
   "execution_count": 3,
   "id": "07b640e6-3486-418c-b5d7-82251c91cb91",
   "metadata": {},
   "outputs": [
    {
     "name": "stdout",
     "output_type": "stream",
     "text": [
      "qux\n",
      "quux\n"
     ]
    }
   ],
   "source": [
    "x = 2\n",
    "if x == 1: print('foo'); print('bar'); print('baz')\n",
    "elif x == 2: print('qux'); print('quux')\n",
    "else: print('corge'); print('grault')"
   ]
  },
  {
   "cell_type": "code",
   "execution_count": 5,
   "id": "5816260d-9dd8-46a1-bd56-bf3b302cbff6",
   "metadata": {},
   "outputs": [
    {
     "name": "stdout",
     "output_type": "stream",
     "text": [
      "corge\n",
      "grault\n"
     ]
    }
   ],
   "source": [
    "x = 3\n",
    "if x == 1: print('foo'); print('bar'); print('baz')\n",
    "elif x == 2: print('qux'); print('quux')\n",
    "else: print('corge'); print('grault')"
   ]
  },
  {
   "cell_type": "markdown",
   "id": "e5db0d9e-6f25-4a93-be1f-f7f02a03912b",
   "metadata": {},
   "source": [
    "***"
   ]
  },
  {
   "cell_type": "markdown",
   "id": "e4e11c25-c297-436c-a6b6-8862cc3cce86",
   "metadata": {},
   "source": [
    "The examples above work, but are discouraged because illegibility. The following is best practice:"
   ]
  },
  {
   "cell_type": "code",
   "execution_count": 6,
   "id": "777c604f-565d-45b3-bfd7-5b6dc5b5e41f",
   "metadata": {},
   "outputs": [
    {
     "name": "stdout",
     "output_type": "stream",
     "text": [
      "corge\n",
      "grault\n"
     ]
    }
   ],
   "source": [
    "x = 3\n",
    "if x == 1:\n",
    "    print('foo')\n",
    "    print('bar')\n",
    "    print('baz')\n",
    "elif x == 2:\n",
    "    print('qux')\n",
    "    print('quux')\n",
    "else:\n",
    "    print('corge')\n",
    "    print('grault')"
   ]
  },
  {
   "cell_type": "markdown",
   "id": "092c29e5-5d19-4c12-9ec9-65ee64b6bafd",
   "metadata": {
    "jp-MarkdownHeadingCollapsed": true,
    "tags": []
   },
   "source": [
    "## Conditional Expressions (Python's Ternary Operator)\n",
    "This is different from the *if* statement because it acts more like an operator that defines an expression."
   ]
  },
  {
   "cell_type": "code",
   "execution_count": null,
   "id": "efe53d0c-3299-451a-8d7f-6f6add866b0e",
   "metadata": {},
   "outputs": [],
   "source": [
    "<expr1> if <conditional_expr> else <expr2>"
   ]
  },
  {
   "cell_type": "markdown",
   "id": "2afade1f-7293-4e9f-aee9-e346e4036108",
   "metadata": {},
   "source": [
    "In the example above, \\<conditional_expr> is evaluated first. If it's true, the expression evaluates to \\<expr1>, if it is false, the expression evaluates to \\<expr2>."
   ]
  },
  {
   "cell_type": "code",
   "execution_count": 7,
   "id": "e37ece9a-5c59-4f81-a0ab-da4ed5ee131d",
   "metadata": {},
   "outputs": [
    {
     "name": "stdout",
     "output_type": "stream",
     "text": [
      "Let's go to the beach\n"
     ]
    }
   ],
   "source": [
    "raining = False\n",
    "print(\"Let's go to the\", 'beach' if not raining else 'library')"
   ]
  },
  {
   "cell_type": "code",
   "execution_count": 8,
   "id": "33934075-63ff-406b-837d-07c097103503",
   "metadata": {},
   "outputs": [
    {
     "name": "stdout",
     "output_type": "stream",
     "text": [
      "Let's go to the library\n"
     ]
    }
   ],
   "source": [
    "raining = True\n",
    "print(\"Let's go to the\", 'beach' if not raining else 'library')"
   ]
  },
  {
   "cell_type": "markdown",
   "id": "c6e6fce8-ff06-41f6-9b18-54f8815b3fb3",
   "metadata": {},
   "source": [
    "***"
   ]
  },
  {
   "cell_type": "code",
   "execution_count": 9,
   "id": "cd724098-9c2d-408a-816d-bced8fbed99a",
   "metadata": {},
   "outputs": [
    {
     "data": {
      "text/plain": [
       "'minor'"
      ]
     },
     "execution_count": 9,
     "metadata": {},
     "output_type": "execute_result"
    }
   ],
   "source": [
    "age = 12\n",
    "s = 'minor' if age < 21 else 'adult'\n",
    "s"
   ]
  },
  {
   "cell_type": "markdown",
   "id": "4219a65a-d0ba-4086-8a41-b122907bb99c",
   "metadata": {},
   "source": [
    "***"
   ]
  },
  {
   "cell_type": "code",
   "execution_count": 10,
   "id": "eb837332-7fbf-4fd7-92b3-88b9f228ecd3",
   "metadata": {},
   "outputs": [
    {
     "data": {
      "text/plain": [
       "'no'"
      ]
     },
     "execution_count": 10,
     "metadata": {},
     "output_type": "execute_result"
    }
   ],
   "source": [
    "'yes' if ('qux' in ['foo', 'bar', 'baz']) else 'no'"
   ]
  },
  {
   "cell_type": "markdown",
   "id": "8e2faf6b-1fc8-48ac-ab91-c679bed877ca",
   "metadata": {},
   "source": [
    "***"
   ]
  },
  {
   "cell_type": "markdown",
   "id": "83142261-441a-44ec-b4bf-7d509d5d7e43",
   "metadata": {},
   "source": [
    "can be used to make our own max() function:"
   ]
  },
  {
   "cell_type": "code",
   "execution_count": null,
   "id": "4d3fc3e6-a2a2-450d-bdd4-9ba85b547c01",
   "metadata": {},
   "outputs": [],
   "source": [
    "m = a if a > b else b"
   ]
  },
  {
   "cell_type": "markdown",
   "id": "7cbda766-8426-4517-857f-d4e00ba6686a",
   "metadata": {},
   "source": [
    "***"
   ]
  },
  {
   "cell_type": "markdown",
   "id": "8aa5374e-7d89-4723-8700-a0c307fd5ca4",
   "metadata": {},
   "source": [
    "When working with larger expressions, it's a good idea to use grouping parenthesis for clarification, even if they are not needed:"
   ]
  },
  {
   "cell_type": "code",
   "execution_count": 15,
   "id": "02b9f21c-6472-43ef-98b2-c9f96b6e04f2",
   "metadata": {},
   "outputs": [
    {
     "data": {
      "text/plain": [
       "42"
      ]
     },
     "execution_count": 15,
     "metadata": {},
     "output_type": "execute_result"
    }
   ],
   "source": [
    "x = y = 40\n",
    "z = 1 + x if x > y else y + 2\n",
    "z"
   ]
  },
  {
   "cell_type": "code",
   "execution_count": 16,
   "id": "45b51334-4b7c-4003-aca8-55010df4cfd9",
   "metadata": {},
   "outputs": [
    {
     "data": {
      "text/plain": [
       "42"
      ]
     },
     "execution_count": 16,
     "metadata": {},
     "output_type": "execute_result"
    }
   ],
   "source": [
    "z = (1 + x) if x > y else (y + 2)\n",
    "z"
   ]
  },
  {
   "cell_type": "code",
   "execution_count": 17,
   "id": "7e530056-8124-47f4-b726-f079c2dbcb91",
   "metadata": {},
   "outputs": [
    {
     "data": {
      "text/plain": [
       "43"
      ]
     },
     "execution_count": 17,
     "metadata": {},
     "output_type": "execute_result"
    }
   ],
   "source": [
    "z = 1 + (x if x > y else y) + 2\n",
    "z"
   ]
  },
  {
   "cell_type": "markdown",
   "id": "a925bc3d-1e01-4165-9234-ffd4e3254292",
   "metadata": {},
   "source": [
    "***"
   ]
  },
  {
   "cell_type": "markdown",
   "id": "822cbf34-8d3e-4d2b-8596-28aa34fac19f",
   "metadata": {},
   "source": [
    "Conditional expressions can also be chained together:"
   ]
  },
  {
   "cell_type": "code",
   "execution_count": 19,
   "id": "a46418a3-3377-4161-b6e8-33b1c251126d",
   "metadata": {},
   "outputs": [
    {
     "data": {
      "text/plain": [
       "'baz'"
      ]
     },
     "execution_count": 19,
     "metadata": {},
     "output_type": "execute_result"
    }
   ],
   "source": [
    "x = 3\n",
    "s = ('foo' if (x == 1) else\n",
    "     'bar' if (x == 2) else\n",
    "     'baz' if (x == 3) else\n",
    "     'qux' if (x == 4) else\n",
    "     'quux'\n",
    "    )\n",
    "s"
   ]
  },
  {
   "cell_type": "markdown",
   "id": "ef785056-268a-43c2-bdef-e04f57926889",
   "metadata": {},
   "source": [
    "## The Python *pass* Statement\n",
    "Used as a code stub: a placeholder for where you will eventually put a block of code that you haven't implemented yet:"
   ]
  },
  {
   "cell_type": "code",
   "execution_count": 20,
   "id": "aa84e4ab-45fd-4a0f-962b-1264adc94219",
   "metadata": {},
   "outputs": [
    {
     "name": "stdout",
     "output_type": "stream",
     "text": [
      "foo\n"
     ]
    }
   ],
   "source": [
    "if True:\n",
    "    pass\n",
    "\n",
    "print('foo')"
   ]
  },
  {
   "cell_type": "code",
   "execution_count": null,
   "id": "f72bc432-8a17-4f97-8cfb-532f5d47c078",
   "metadata": {},
   "outputs": [],
   "source": []
  }
 ],
 "metadata": {
  "kernelspec": {
   "display_name": "Python 3 (ipykernel)",
   "language": "python",
   "name": "python3"
  },
  "language_info": {
   "codemirror_mode": {
    "name": "ipython",
    "version": 3
   },
   "file_extension": ".py",
   "mimetype": "text/x-python",
   "name": "python",
   "nbconvert_exporter": "python",
   "pygments_lexer": "ipython3",
   "version": "3.8.12"
  }
 },
 "nbformat": 4,
 "nbformat_minor": 5
}
