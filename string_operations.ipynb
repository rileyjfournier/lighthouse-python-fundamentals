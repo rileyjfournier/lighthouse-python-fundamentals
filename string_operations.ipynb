{
 "cells": [
  {
   "cell_type": "markdown",
   "id": "fc2554f0-58d7-46e6-add6-80769937253f",
   "metadata": {
    "tags": []
   },
   "source": [
    "## String Operators"
   ]
  },
  {
   "cell_type": "markdown",
   "id": "8c84d680-32fa-462d-afae-be5013f828b9",
   "metadata": {
    "jp-MarkdownHeadingCollapsed": true,
    "tags": []
   },
   "source": [
    "### The + Operator"
   ]
  },
  {
   "cell_type": "markdown",
   "id": "70d48331-3946-4305-8454-5e753ee3c6a0",
   "metadata": {},
   "source": [
    "concatenates strings"
   ]
  },
  {
   "cell_type": "code",
   "execution_count": 1,
   "id": "eb24c74a-6cdc-4b6f-9cb9-b92ebc882c1e",
   "metadata": {},
   "outputs": [],
   "source": [
    "s = 'foo'\n",
    "t = 'bar'\n",
    "u = 'baz'"
   ]
  },
  {
   "cell_type": "code",
   "execution_count": 2,
   "id": "993e1336-8145-47ae-be3f-52a32ad92d86",
   "metadata": {},
   "outputs": [
    {
     "data": {
      "text/plain": [
       "'foobar'"
      ]
     },
     "execution_count": 2,
     "metadata": {},
     "output_type": "execute_result"
    }
   ],
   "source": [
    "s + t"
   ]
  },
  {
   "cell_type": "code",
   "execution_count": 3,
   "id": "a6137960-e566-49f8-8ec7-203f3ea880cc",
   "metadata": {},
   "outputs": [
    {
     "data": {
      "text/plain": [
       "'foobarbaz'"
      ]
     },
     "execution_count": 3,
     "metadata": {},
     "output_type": "execute_result"
    }
   ],
   "source": [
    "s + t + u"
   ]
  },
  {
   "cell_type": "code",
   "execution_count": 4,
   "id": "a97ac65c-1517-4c53-b8d0-ebbb8555b8a6",
   "metadata": {},
   "outputs": [
    {
     "name": "stdout",
     "output_type": "stream",
     "text": [
      "Go team!!!\n"
     ]
    }
   ],
   "source": [
    "print('Go team' + '!!!')"
   ]
  },
  {
   "cell_type": "markdown",
   "id": "13b11c91-154d-471a-9498-d5ac93a32ffb",
   "metadata": {
    "jp-MarkdownHeadingCollapsed": true,
    "tags": []
   },
   "source": [
    "### The * Operator"
   ]
  },
  {
   "cell_type": "markdown",
   "id": "b26c2e47-53c7-45e6-b39a-c04360f2cf3d",
   "metadata": {},
   "source": [
    "creates multiple copies of a string"
   ]
  },
  {
   "cell_type": "code",
   "execution_count": 5,
   "id": "215dafb4-068d-4614-8219-be3bf681c621",
   "metadata": {},
   "outputs": [],
   "source": [
    "s = 'foo.'"
   ]
  },
  {
   "cell_type": "code",
   "execution_count": 6,
   "id": "b57e2cf0-5784-432c-a2bb-5a73900e3d6b",
   "metadata": {},
   "outputs": [
    {
     "data": {
      "text/plain": [
       "'foo.foo.foo.foo.'"
      ]
     },
     "execution_count": 6,
     "metadata": {},
     "output_type": "execute_result"
    }
   ],
   "source": [
    "s * 4"
   ]
  },
  {
   "cell_type": "code",
   "execution_count": 7,
   "id": "a09c7286-2ed0-4fbf-b16a-22176613b30e",
   "metadata": {},
   "outputs": [
    {
     "data": {
      "text/plain": [
       "'foo.foo.foo.foo.'"
      ]
     },
     "execution_count": 7,
     "metadata": {},
     "output_type": "execute_result"
    }
   ],
   "source": [
    "4 * s"
   ]
  },
  {
   "cell_type": "markdown",
   "id": "f4e87865-eade-4de8-9e80-f71889df0cdd",
   "metadata": {},
   "source": [
    "the multiplier operand n must be an integer ... it can be zero or negative (resulting in an empty string)"
   ]
  },
  {
   "cell_type": "code",
   "execution_count": 9,
   "id": "5f5ad434-3ea5-4741-a726-7f39d644c3c5",
   "metadata": {},
   "outputs": [
    {
     "data": {
      "text/plain": [
       "''"
      ]
     },
     "execution_count": 9,
     "metadata": {},
     "output_type": "execute_result"
    }
   ],
   "source": [
    "'foo' * -8"
   ]
  },
  {
   "cell_type": "markdown",
   "id": "bdf17bb6-2780-4388-9f9c-a02b775b9063",
   "metadata": {
    "jp-MarkdownHeadingCollapsed": true,
    "tags": []
   },
   "source": [
    "### The in Operator"
   ]
  },
  {
   "cell_type": "markdown",
   "id": "9250cf97-800f-4c49-8e41-9161cb8a7906",
   "metadata": {},
   "source": [
    "returns True if the first operand is contained within the second, and False otherwise"
   ]
  },
  {
   "cell_type": "code",
   "execution_count": 10,
   "id": "3ec977e5-0b74-48c0-a02e-dc50217efcaa",
   "metadata": {},
   "outputs": [],
   "source": [
    "s = 'foo'"
   ]
  },
  {
   "cell_type": "code",
   "execution_count": 11,
   "id": "0e1470e3-e642-44dc-8b4b-4cf2cb7a3fdd",
   "metadata": {},
   "outputs": [
    {
     "data": {
      "text/plain": [
       "True"
      ]
     },
     "execution_count": 11,
     "metadata": {},
     "output_type": "execute_result"
    }
   ],
   "source": [
    "s in 'That\\'s food for thought.'"
   ]
  },
  {
   "cell_type": "code",
   "execution_count": 12,
   "id": "602e08cc-e90b-4463-924e-43eb5e3d80dd",
   "metadata": {},
   "outputs": [
    {
     "data": {
      "text/plain": [
       "False"
      ]
     },
     "execution_count": 12,
     "metadata": {},
     "output_type": "execute_result"
    }
   ],
   "source": [
    "s in 'That\\'s good for now.'"
   ]
  },
  {
   "cell_type": "markdown",
   "id": "f1b75d6a-9233-41a9-82d9-32dd1c71f310",
   "metadata": {},
   "source": [
    "notice that 'foo' is found in 'food' but not in 'good'"
   ]
  },
  {
   "cell_type": "markdown",
   "id": "91013294-e531-4e79-a5e6-69edb02a04a0",
   "metadata": {},
   "source": [
    "there is also a 'not in' operator:"
   ]
  },
  {
   "cell_type": "code",
   "execution_count": 13,
   "id": "01102276-4fe9-44c5-9b62-f5ac309fdb0a",
   "metadata": {},
   "outputs": [
    {
     "data": {
      "text/plain": [
       "True"
      ]
     },
     "execution_count": 13,
     "metadata": {},
     "output_type": "execute_result"
    }
   ],
   "source": [
    "'z' not in 'abc'"
   ]
  },
  {
   "cell_type": "code",
   "execution_count": 14,
   "id": "2e758515-4f6c-40d8-ac07-73d32ec63660",
   "metadata": {},
   "outputs": [
    {
     "data": {
      "text/plain": [
       "False"
      ]
     },
     "execution_count": 14,
     "metadata": {},
     "output_type": "execute_result"
    }
   ],
   "source": [
    "'z' not in 'xyz'"
   ]
  },
  {
   "cell_type": "markdown",
   "id": "8e195db1-0f8f-4c08-a547-d3cfd4856344",
   "metadata": {},
   "source": [
    "chr() converts an integer to a character \\\n",
    "ord() converts a character to an integer \\\n",
    "len() returns the length of a string  \n",
    "str() returns a string representation of an object"
   ]
  },
  {
   "cell_type": "markdown",
   "id": "f7d4b501-efdb-492f-8870-f7bfd2f96f75",
   "metadata": {},
   "source": [
    "### side note ... \n",
    "can either double space or add a backslash at the end of a line to create a new line when using markdown "
   ]
  },
  {
   "cell_type": "markdown",
   "id": "08b5e54a-92da-4e66-9025-7e5019b60f45",
   "metadata": {
    "jp-MarkdownHeadingCollapsed": true,
    "tags": []
   },
   "source": [
    "### ord(c) returns an integer value for the given character"
   ]
  },
  {
   "cell_type": "code",
   "execution_count": 15,
   "id": "dd708d24-9b29-4062-b76a-ee1e87f52a94",
   "metadata": {},
   "outputs": [
    {
     "data": {
      "text/plain": [
       "97"
      ]
     },
     "execution_count": 15,
     "metadata": {},
     "output_type": "execute_result"
    }
   ],
   "source": [
    "ord('a')"
   ]
  },
  {
   "cell_type": "code",
   "execution_count": 16,
   "id": "656eb448-a462-4435-bb94-acc2be4d848b",
   "metadata": {},
   "outputs": [
    {
     "data": {
      "text/plain": [
       "35"
      ]
     },
     "execution_count": 16,
     "metadata": {},
     "output_type": "execute_result"
    }
   ],
   "source": [
    "ord('#')"
   ]
  },
  {
   "cell_type": "markdown",
   "id": "0f5eb936-c5c5-4ee6-823c-17bf23c73189",
   "metadata": {},
   "source": [
    "Python 3 supports Unicode, allowing Unicode characters within strings"
   ]
  },
  {
   "cell_type": "markdown",
   "id": "d28d4494-31d9-4e80-a96e-bf34cc1f24b9",
   "metadata": {
    "jp-MarkdownHeadingCollapsed": true,
    "tags": []
   },
   "source": [
    "### chr(n) returns a character value for the given integer"
   ]
  },
  {
   "cell_type": "code",
   "execution_count": 17,
   "id": "e4efd01a-a832-4aed-8abd-94f0b3ff4b9b",
   "metadata": {},
   "outputs": [
    {
     "data": {
      "text/plain": [
       "'a'"
      ]
     },
     "execution_count": 17,
     "metadata": {},
     "output_type": "execute_result"
    }
   ],
   "source": [
    "chr(97)"
   ]
  },
  {
   "cell_type": "code",
   "execution_count": 18,
   "id": "91d843fb-e14f-4eaa-9708-f6dd997cd89e",
   "metadata": {},
   "outputs": [
    {
     "data": {
      "text/plain": [
       "'#'"
      ]
     },
     "execution_count": 18,
     "metadata": {},
     "output_type": "execute_result"
    }
   ],
   "source": [
    "chr(35)"
   ]
  },
  {
   "cell_type": "markdown",
   "id": "0bb62be9-2163-4f55-ab5e-b5ea7c765fd3",
   "metadata": {
    "jp-MarkdownHeadingCollapsed": true,
    "tags": []
   },
   "source": [
    "### chr() handles Unicode characters as well"
   ]
  },
  {
   "cell_type": "code",
   "execution_count": 19,
   "id": "f7e7af55-2651-47f6-8ca5-e1df24a1818e",
   "metadata": {},
   "outputs": [
    {
     "data": {
      "text/plain": [
       "'€'"
      ]
     },
     "execution_count": 19,
     "metadata": {},
     "output_type": "execute_result"
    }
   ],
   "source": [
    "chr(8364)"
   ]
  },
  {
   "cell_type": "code",
   "execution_count": 20,
   "id": "5ec91578-2d3c-41bd-b0e5-da0547b3cfd3",
   "metadata": {},
   "outputs": [
    {
     "data": {
      "text/plain": [
       "'∑'"
      ]
     },
     "execution_count": 20,
     "metadata": {},
     "output_type": "execute_result"
    }
   ],
   "source": [
    "chr(8721)"
   ]
  },
  {
   "cell_type": "markdown",
   "id": "c1385cc7-d577-4a08-be93-04353dc32fe7",
   "metadata": {
    "jp-MarkdownHeadingCollapsed": true,
    "tags": []
   },
   "source": [
    "### len(s) returns the length of a string"
   ]
  },
  {
   "cell_type": "code",
   "execution_count": 21,
   "id": "664e461e-cc5c-40fb-b278-587d6dd4fe79",
   "metadata": {},
   "outputs": [
    {
     "data": {
      "text/plain": [
       "14"
      ]
     },
     "execution_count": 21,
     "metadata": {},
     "output_type": "execute_result"
    }
   ],
   "source": [
    "s = 'I am a string.'\n",
    "len(s)"
   ]
  },
  {
   "cell_type": "markdown",
   "id": "e4eb8bf4-e9c2-4f39-a614-2037edb5b8ab",
   "metadata": {},
   "source": [
    "### str(obj) returns a string representation of an object"
   ]
  },
  {
   "cell_type": "code",
   "execution_count": 22,
   "id": "e7019d8a-0d29-448d-9d35-1846bc7fd2c3",
   "metadata": {},
   "outputs": [
    {
     "data": {
      "text/plain": [
       "'49.2'"
      ]
     },
     "execution_count": 22,
     "metadata": {},
     "output_type": "execute_result"
    }
   ],
   "source": [
    "str(49.2)"
   ]
  },
  {
   "cell_type": "code",
   "execution_count": 23,
   "id": "19d43801-5474-4124-a254-06fbe9b64f92",
   "metadata": {},
   "outputs": [
    {
     "data": {
      "text/plain": [
       "'(3+4j)'"
      ]
     },
     "execution_count": 23,
     "metadata": {},
     "output_type": "execute_result"
    }
   ],
   "source": [
    "str(3+4j)"
   ]
  },
  {
   "cell_type": "code",
   "execution_count": 24,
   "id": "8c027d4d-8961-4950-8f82-6dd117ee3b7b",
   "metadata": {},
   "outputs": [
    {
     "data": {
      "text/plain": [
       "'32'"
      ]
     },
     "execution_count": 24,
     "metadata": {},
     "output_type": "execute_result"
    }
   ],
   "source": [
    "str(3 + 29)"
   ]
  },
  {
   "cell_type": "code",
   "execution_count": 25,
   "id": "ef28e767-28dc-421a-a1bf-a45dbe3d542e",
   "metadata": {},
   "outputs": [
    {
     "data": {
      "text/plain": [
       "'foo'"
      ]
     },
     "execution_count": 25,
     "metadata": {},
     "output_type": "execute_result"
    }
   ],
   "source": [
    "str('foo')"
   ]
  },
  {
   "cell_type": "markdown",
   "id": "c73693a5-23a3-4f6b-b69b-9298d459d6cf",
   "metadata": {
    "tags": []
   },
   "source": [
    "## String Indexing"
   ]
  },
  {
   "cell_type": "markdown",
   "id": "5e4c91d9-340a-4a8f-bdc4-44c4ed508387",
   "metadata": {},
   "source": [
    "In Python, strings are ordered sequences of character data \\\n",
    "Individual characters can be accessed by specifying the string name followed by a number in square brackets ([]) \\\n",
    "String indexing in Python is zero-based"
   ]
  },
  {
   "cell_type": "code",
   "execution_count": 26,
   "id": "7a92e56b-9ac1-4f19-b1bb-ce68a78d33a7",
   "metadata": {},
   "outputs": [],
   "source": [
    "s = 'foobar'"
   ]
  },
  {
   "cell_type": "code",
   "execution_count": 27,
   "id": "2e065e7c-0b2f-4d82-a532-74bd87760b8e",
   "metadata": {},
   "outputs": [
    {
     "data": {
      "text/plain": [
       "'f'"
      ]
     },
     "execution_count": 27,
     "metadata": {},
     "output_type": "execute_result"
    }
   ],
   "source": [
    "s[0]"
   ]
  },
  {
   "cell_type": "code",
   "execution_count": 28,
   "id": "274fc91f-3271-4fa5-aacc-fd8889295262",
   "metadata": {},
   "outputs": [
    {
     "data": {
      "text/plain": [
       "'o'"
      ]
     },
     "execution_count": 28,
     "metadata": {},
     "output_type": "execute_result"
    }
   ],
   "source": [
    "s[1]"
   ]
  },
  {
   "cell_type": "code",
   "execution_count": 29,
   "id": "8c0ccb21-8ffd-4be0-8eaf-d102f9448f5a",
   "metadata": {},
   "outputs": [
    {
     "data": {
      "text/plain": [
       "'b'"
      ]
     },
     "execution_count": 29,
     "metadata": {},
     "output_type": "execute_result"
    }
   ],
   "source": [
    "s[3]"
   ]
  },
  {
   "cell_type": "code",
   "execution_count": 30,
   "id": "39ba067e-58b0-4c1b-a67d-a5c29ae69a87",
   "metadata": {},
   "outputs": [
    {
     "data": {
      "text/plain": [
       "6"
      ]
     },
     "execution_count": 30,
     "metadata": {},
     "output_type": "execute_result"
    }
   ],
   "source": [
    "len(s)"
   ]
  },
  {
   "cell_type": "code",
   "execution_count": 31,
   "id": "84feb728-c461-4d26-9263-62142216abde",
   "metadata": {},
   "outputs": [
    {
     "data": {
      "text/plain": [
       "'r'"
      ]
     },
     "execution_count": 31,
     "metadata": {},
     "output_type": "execute_result"
    }
   ],
   "source": [
    "s[len(s)-1]"
   ]
  },
  {
   "cell_type": "code",
   "execution_count": 32,
   "id": "2f7e7aee-02b4-4707-8ff4-8713b26f743e",
   "metadata": {},
   "outputs": [
    {
     "ename": "IndexError",
     "evalue": "string index out of range",
     "output_type": "error",
     "traceback": [
      "\u001b[0;31m---------------------------------------------------------------------------\u001b[0m",
      "\u001b[0;31mIndexError\u001b[0m                                Traceback (most recent call last)",
      "\u001b[0;32m/var/folders/yl/ftfrcz0s4nd_pncmmknzn7440000gn/T/ipykernel_55539/2893730839.py\u001b[0m in \u001b[0;36m<module>\u001b[0;34m\u001b[0m\n\u001b[0;32m----> 1\u001b[0;31m \u001b[0ms\u001b[0m\u001b[0;34m[\u001b[0m\u001b[0;36m6\u001b[0m\u001b[0;34m]\u001b[0m\u001b[0;34m\u001b[0m\u001b[0;34m\u001b[0m\u001b[0m\n\u001b[0m",
      "\u001b[0;31mIndexError\u001b[0m: string index out of range"
     ]
    }
   ],
   "source": [
    "s[6]"
   ]
  },
  {
   "cell_type": "markdown",
   "id": "6feb946d-a21a-4cd3-9b22-1334eb784e5a",
   "metadata": {},
   "source": [
    "^ because of zero-indexing"
   ]
  },
  {
   "cell_type": "markdown",
   "id": "6e121c42-8939-44d7-838c-396ceb305a2c",
   "metadata": {},
   "source": [
    "String indices can also be specified using negative numbers, indexing from the end of the string backwards: \\\n",
    "-1 refers to the last character \\\n",
    "-2 to the second-last"
   ]
  },
  {
   "cell_type": "code",
   "execution_count": 34,
   "id": "12113398-cb7c-443e-87aa-4e77d640aac1",
   "metadata": {},
   "outputs": [],
   "source": [
    "s = 'foobar'"
   ]
  },
  {
   "cell_type": "code",
   "execution_count": 35,
   "id": "cf5dfd42-86ff-4838-bec0-5241f5ab6260",
   "metadata": {},
   "outputs": [
    {
     "data": {
      "text/plain": [
       "'r'"
      ]
     },
     "execution_count": 35,
     "metadata": {},
     "output_type": "execute_result"
    }
   ],
   "source": [
    "s[-1]"
   ]
  },
  {
   "cell_type": "code",
   "execution_count": 36,
   "id": "4c9539b8-2d4c-4615-a831-fb2356a07c40",
   "metadata": {},
   "outputs": [
    {
     "data": {
      "text/plain": [
       "'a'"
      ]
     },
     "execution_count": 36,
     "metadata": {},
     "output_type": "execute_result"
    }
   ],
   "source": [
    "s[-2]"
   ]
  },
  {
   "cell_type": "code",
   "execution_count": 37,
   "id": "0f4600e9-97e2-4977-84c8-c59b6c7c028d",
   "metadata": {},
   "outputs": [
    {
     "data": {
      "text/plain": [
       "6"
      ]
     },
     "execution_count": 37,
     "metadata": {},
     "output_type": "execute_result"
    }
   ],
   "source": [
    "len(s)"
   ]
  },
  {
   "cell_type": "code",
   "execution_count": 38,
   "id": "13392d6e-37d3-4589-be93-cd1bc9c1e7f7",
   "metadata": {},
   "outputs": [
    {
     "data": {
      "text/plain": [
       "'f'"
      ]
     },
     "execution_count": 38,
     "metadata": {},
     "output_type": "execute_result"
    }
   ],
   "source": [
    "s[-len(s)]"
   ]
  },
  {
   "cell_type": "code",
   "execution_count": 39,
   "id": "1f3f1158-50e1-4366-b1d0-4791498a342d",
   "metadata": {},
   "outputs": [
    {
     "ename": "IndexError",
     "evalue": "string index out of range",
     "output_type": "error",
     "traceback": [
      "\u001b[0;31m---------------------------------------------------------------------------\u001b[0m",
      "\u001b[0;31mIndexError\u001b[0m                                Traceback (most recent call last)",
      "\u001b[0;32m/var/folders/yl/ftfrcz0s4nd_pncmmknzn7440000gn/T/ipykernel_55539/1967224641.py\u001b[0m in \u001b[0;36m<module>\u001b[0;34m\u001b[0m\n\u001b[0;32m----> 1\u001b[0;31m \u001b[0ms\u001b[0m\u001b[0;34m[\u001b[0m\u001b[0;34m-\u001b[0m\u001b[0;36m7\u001b[0m\u001b[0;34m]\u001b[0m\u001b[0;34m\u001b[0m\u001b[0;34m\u001b[0m\u001b[0m\n\u001b[0m",
      "\u001b[0;31mIndexError\u001b[0m: string index out of range"
     ]
    }
   ],
   "source": [
    "s[-7]"
   ]
  },
  {
   "cell_type": "markdown",
   "id": "d69cf30c-6f2c-4743-a39d-35d06f9adc2f",
   "metadata": {},
   "source": [
    "^ again, indexing exceeds the length of the string"
   ]
  },
  {
   "cell_type": "markdown",
   "id": "7afb6efb-90c9-41d3-aada-911d4150ea14",
   "metadata": {
    "tags": []
   },
   "source": [
    "## String Slicing"
   ]
  },
  {
   "cell_type": "markdown",
   "id": "813cad3f-91ca-41d6-b66c-d16fb35f3513",
   "metadata": {},
   "source": [
    "extracts substrings from a string \\\n",
    "if s is a string, s[m:n] returns starting with position m, and up to but not including position n:"
   ]
  },
  {
   "cell_type": "code",
   "execution_count": 40,
   "id": "f4796904-e9c3-4897-8356-b0e450d19bb5",
   "metadata": {},
   "outputs": [],
   "source": [
    "s = 'foobar'"
   ]
  },
  {
   "cell_type": "code",
   "execution_count": 41,
   "id": "a0a11c7a-9dfb-45c8-bd0e-ac239d24c3fb",
   "metadata": {},
   "outputs": [
    {
     "data": {
      "text/plain": [
       "'oba'"
      ]
     },
     "execution_count": 41,
     "metadata": {},
     "output_type": "execute_result"
    }
   ],
   "source": [
    "s[2:5]"
   ]
  },
  {
   "cell_type": "markdown",
   "id": "b67fd7a5-5323-41e5-9f7b-13714e14e1e9",
   "metadata": {},
   "source": [
    "if you omit the first index, the slice starts at the beginning of the string \\\n",
    "s[0:m] = s[:m]"
   ]
  },
  {
   "cell_type": "code",
   "execution_count": 42,
   "id": "79e29279-8e1f-4c86-b03f-451cd300a9ed",
   "metadata": {},
   "outputs": [],
   "source": [
    "s = 'foobar'"
   ]
  },
  {
   "cell_type": "code",
   "execution_count": 43,
   "id": "87b08360-c166-44d4-b814-72ee00be09dd",
   "metadata": {},
   "outputs": [
    {
     "data": {
      "text/plain": [
       "'foob'"
      ]
     },
     "execution_count": 43,
     "metadata": {},
     "output_type": "execute_result"
    }
   ],
   "source": [
    "s[:4]"
   ]
  },
  {
   "cell_type": "code",
   "execution_count": 44,
   "id": "6b00330d-e4d2-4e6d-a4d0-cc7dde61500b",
   "metadata": {},
   "outputs": [
    {
     "data": {
      "text/plain": [
       "'foob'"
      ]
     },
     "execution_count": 44,
     "metadata": {},
     "output_type": "execute_result"
    }
   ],
   "source": [
    "s[0:4]"
   ]
  },
  {
   "cell_type": "markdown",
   "id": "6e16d63e-b21c-4c41-8150-434da27eda18",
   "metadata": {},
   "source": [
    "if you omit the second index, the slice extends from the first index through the end of the string \\\n",
    "s[n:len(s)] = s[n:]"
   ]
  },
  {
   "cell_type": "code",
   "execution_count": 48,
   "id": "612f9309-695e-4100-9c3d-e05c8ddea632",
   "metadata": {},
   "outputs": [],
   "source": [
    "s = 'foobar'"
   ]
  },
  {
   "cell_type": "code",
   "execution_count": 49,
   "id": "297e9cc6-fc2e-46b0-aa51-383507f644aa",
   "metadata": {},
   "outputs": [
    {
     "data": {
      "text/plain": [
       "'obar'"
      ]
     },
     "execution_count": 49,
     "metadata": {},
     "output_type": "execute_result"
    }
   ],
   "source": [
    "s[2:]"
   ]
  },
  {
   "cell_type": "code",
   "execution_count": 50,
   "id": "b92b1fa3-025e-4031-90ce-0dfa29c3921d",
   "metadata": {},
   "outputs": [
    {
     "data": {
      "text/plain": [
       "'obar'"
      ]
     },
     "execution_count": 50,
     "metadata": {},
     "output_type": "execute_result"
    }
   ],
   "source": [
    "s[2:len(s)]"
   ]
  },
  {
   "cell_type": "code",
   "execution_count": 51,
   "id": "a232dd8d-d2d4-4eef-9e64-d8acb0eac79e",
   "metadata": {},
   "outputs": [],
   "source": [
    "s = 'foobar'"
   ]
  },
  {
   "cell_type": "code",
   "execution_count": 52,
   "id": "e9cd8262-d4e1-432d-809c-3ad40c01399f",
   "metadata": {},
   "outputs": [
    {
     "data": {
      "text/plain": [
       "'foobar'"
      ]
     },
     "execution_count": 52,
     "metadata": {},
     "output_type": "execute_result"
    }
   ],
   "source": [
    "s[:4] + s[4:]"
   ]
  },
  {
   "cell_type": "code",
   "execution_count": 53,
   "id": "14ba6841-d177-427e-8668-935da5e98f29",
   "metadata": {},
   "outputs": [
    {
     "data": {
      "text/plain": [
       "True"
      ]
     },
     "execution_count": 53,
     "metadata": {},
     "output_type": "execute_result"
    }
   ],
   "source": [
    "s[:4] + s[4:] == s"
   ]
  },
  {
   "cell_type": "code",
   "execution_count": 54,
   "id": "f8a8f321-aa54-4e96-a6b7-5f3a574998ac",
   "metadata": {},
   "outputs": [],
   "source": [
    "s = 'foobar'\n",
    "t = s[:]"
   ]
  },
  {
   "cell_type": "code",
   "execution_count": 55,
   "id": "61fba5be-58cb-4f29-bbe7-b68db8cac54d",
   "metadata": {},
   "outputs": [
    {
     "data": {
      "text/plain": [
       "4365090096"
      ]
     },
     "execution_count": 55,
     "metadata": {},
     "output_type": "execute_result"
    }
   ],
   "source": [
    "id(s)"
   ]
  },
  {
   "cell_type": "code",
   "execution_count": 56,
   "id": "f115e105-2001-498c-bfcd-e4f2035784a5",
   "metadata": {},
   "outputs": [
    {
     "data": {
      "text/plain": [
       "4365090096"
      ]
     },
     "execution_count": 56,
     "metadata": {},
     "output_type": "execute_result"
    }
   ],
   "source": [
    "id(t)"
   ]
  },
  {
   "cell_type": "code",
   "execution_count": 57,
   "id": "8e61ece8-1b57-4eea-93da-22bf1dfacdcc",
   "metadata": {},
   "outputs": [
    {
     "data": {
      "text/plain": [
       "True"
      ]
     },
     "execution_count": 57,
     "metadata": {},
     "output_type": "execute_result"
    }
   ],
   "source": [
    "s is t"
   ]
  },
  {
   "cell_type": "code",
   "execution_count": 58,
   "id": "ed6f6c2a-da41-413f-b02c-4bb5d51d290c",
   "metadata": {},
   "outputs": [
    {
     "data": {
      "text/plain": [
       "''"
      ]
     },
     "execution_count": 58,
     "metadata": {},
     "output_type": "execute_result"
    }
   ],
   "source": [
    "s[2:2]"
   ]
  },
  {
   "cell_type": "code",
   "execution_count": 59,
   "id": "5522ad8d-71a6-4e04-b28a-217790fe5a29",
   "metadata": {},
   "outputs": [
    {
     "data": {
      "text/plain": [
       "''"
      ]
     },
     "execution_count": 59,
     "metadata": {},
     "output_type": "execute_result"
    }
   ],
   "source": [
    "s[4:2]"
   ]
  },
  {
   "cell_type": "code",
   "execution_count": 60,
   "id": "5880db54-9e00-4620-9ff7-a27195a5f05d",
   "metadata": {},
   "outputs": [],
   "source": [
    "s = 'foobar'"
   ]
  },
  {
   "cell_type": "code",
   "execution_count": 62,
   "id": "aa4056e6-dbb4-4a80-930e-11ee158d89e0",
   "metadata": {},
   "outputs": [
    {
     "data": {
      "text/plain": [
       "'oob'"
      ]
     },
     "execution_count": 62,
     "metadata": {},
     "output_type": "execute_result"
    }
   ],
   "source": [
    "s[-5:-2]"
   ]
  },
  {
   "cell_type": "code",
   "execution_count": 63,
   "id": "b09fb7cc-f54a-4e22-980f-21784d1b16cd",
   "metadata": {},
   "outputs": [
    {
     "data": {
      "text/plain": [
       "'oob'"
      ]
     },
     "execution_count": 63,
     "metadata": {},
     "output_type": "execute_result"
    }
   ],
   "source": [
    "s[1:4]"
   ]
  },
  {
   "cell_type": "code",
   "execution_count": 64,
   "id": "b968200b-e534-4691-bd33-fe046f111a1a",
   "metadata": {},
   "outputs": [
    {
     "data": {
      "text/plain": [
       "True"
      ]
     },
     "execution_count": 64,
     "metadata": {},
     "output_type": "execute_result"
    }
   ],
   "source": [
    "s[-5:-2] == s[1:4]"
   ]
  },
  {
   "cell_type": "markdown",
   "id": "959ba733-f1fd-4e34-b553-81c52a4697e3",
   "metadata": {
    "tags": []
   },
   "source": [
    "## Specifying a Stride in a String Slice"
   ]
  },
  {
   "cell_type": "markdown",
   "id": "c7b910d5-104f-4283-af89-03d5be760c24",
   "metadata": {},
   "source": [
    "Adding an additional : and a third index designates a stride (also called a step), which indicates how many characters to jump after retrieving each character in the slice."
   ]
  },
  {
   "cell_type": "markdown",
   "id": "9218c0ba-0667-4e00-b2ab-7f863963c5eb",
   "metadata": {},
   "source": [
    "For example, for the string 'foobar', the slice 0:6:2 starts with the first character and ends with the last character (the whole string), and every second character is skipped."
   ]
  },
  {
   "cell_type": "code",
   "execution_count": 65,
   "id": "87e623ee-2965-429b-9f8c-9147a1896108",
   "metadata": {},
   "outputs": [],
   "source": [
    "s = 'foobar'"
   ]
  },
  {
   "cell_type": "code",
   "execution_count": 66,
   "id": "817f3586-214f-4bd5-8c00-74c2d4116819",
   "metadata": {},
   "outputs": [
    {
     "data": {
      "text/plain": [
       "'foa'"
      ]
     },
     "execution_count": 66,
     "metadata": {},
     "output_type": "execute_result"
    }
   ],
   "source": [
    "s[0:6:2]"
   ]
  },
  {
   "cell_type": "code",
   "execution_count": 67,
   "id": "beebff96-20c8-4654-930e-40c81515c82f",
   "metadata": {},
   "outputs": [
    {
     "data": {
      "text/plain": [
       "'obr'"
      ]
     },
     "execution_count": 67,
     "metadata": {},
     "output_type": "execute_result"
    }
   ],
   "source": [
    "s[1:6:2]"
   ]
  },
  {
   "cell_type": "markdown",
   "id": "ac720754-d220-44c5-82e0-60ab1e10023a",
   "metadata": {
    "tags": []
   },
   "source": [
    "### As with any slicing, the first and second indices can be omitted, and default to the first and last characters:"
   ]
  },
  {
   "cell_type": "code",
   "execution_count": 68,
   "id": "143a3ae8-6f17-49d9-9577-0a1b941c0404",
   "metadata": {},
   "outputs": [],
   "source": [
    "s = '12345' * 5"
   ]
  },
  {
   "cell_type": "code",
   "execution_count": 69,
   "id": "64b9ce59-2068-4350-a786-983b75c124c2",
   "metadata": {},
   "outputs": [
    {
     "data": {
      "text/plain": [
       "'1234512345123451234512345'"
      ]
     },
     "execution_count": 69,
     "metadata": {},
     "output_type": "execute_result"
    }
   ],
   "source": [
    "s"
   ]
  },
  {
   "cell_type": "code",
   "execution_count": 70,
   "id": "eab5c189-6e93-42f9-9688-31109cd25bc6",
   "metadata": {},
   "outputs": [
    {
     "data": {
      "text/plain": [
       "'11111'"
      ]
     },
     "execution_count": 70,
     "metadata": {},
     "output_type": "execute_result"
    }
   ],
   "source": [
    "s[::5]"
   ]
  },
  {
   "cell_type": "code",
   "execution_count": 71,
   "id": "39862da5-249e-45e2-8a56-2062272bfdac",
   "metadata": {},
   "outputs": [
    {
     "data": {
      "text/plain": [
       "'55555'"
      ]
     },
     "execution_count": 71,
     "metadata": {},
     "output_type": "execute_result"
    }
   ],
   "source": [
    "s[4::5]"
   ]
  },
  {
   "cell_type": "code",
   "execution_count": 72,
   "id": "8dcbdf4b-b871-43cb-8e54-22cdac36d63d",
   "metadata": {},
   "outputs": [
    {
     "data": {
      "text/plain": [
       "'154321'"
      ]
     },
     "execution_count": 72,
     "metadata": {},
     "output_type": "execute_result"
    }
   ],
   "source": [
    "s[:-3:4]"
   ]
  },
  {
   "cell_type": "markdown",
   "id": "c55194c1-59ab-47ad-8232-1622e1a56ab2",
   "metadata": {},
   "source": [
    "### You can specify a negative stride, in which Python steps backward through the string:"
   ]
  },
  {
   "cell_type": "code",
   "execution_count": 73,
   "id": "cbfecc33-9618-40ee-bc8e-c17901d4a10f",
   "metadata": {},
   "outputs": [],
   "source": [
    "s = 'foobar'"
   ]
  },
  {
   "cell_type": "code",
   "execution_count": 74,
   "id": "215694c3-d616-40e0-99fd-40a3ea8c2e9f",
   "metadata": {},
   "outputs": [
    {
     "data": {
      "text/plain": [
       "'rbo'"
      ]
     },
     "execution_count": 74,
     "metadata": {},
     "output_type": "execute_result"
    }
   ],
   "source": [
    "s[5:0:-2]"
   ]
  },
  {
   "cell_type": "code",
   "execution_count": 75,
   "id": "0e444f2f-c0ea-41d9-8438-7c831d18bd25",
   "metadata": {},
   "outputs": [],
   "source": [
    "s = '12345' * 5"
   ]
  },
  {
   "cell_type": "code",
   "execution_count": 76,
   "id": "4fd0526c-5475-40b7-b36a-1956121e7f84",
   "metadata": {},
   "outputs": [
    {
     "data": {
      "text/plain": [
       "'1234512345123451234512345'"
      ]
     },
     "execution_count": 76,
     "metadata": {},
     "output_type": "execute_result"
    }
   ],
   "source": [
    "s"
   ]
  },
  {
   "cell_type": "code",
   "execution_count": 77,
   "id": "146aaa41-365d-4561-b6aa-7f56e4a0656d",
   "metadata": {},
   "outputs": [
    {
     "data": {
      "text/plain": [
       "'55555'"
      ]
     },
     "execution_count": 77,
     "metadata": {},
     "output_type": "execute_result"
    }
   ],
   "source": [
    "s[::-5]"
   ]
  },
  {
   "cell_type": "code",
   "execution_count": 78,
   "id": "7dda929e-b4c2-49ae-9658-ef72cbdb45c6",
   "metadata": {},
   "outputs": [],
   "source": [
    "s = 'If Comrade Napoleon says it, it must be right.'"
   ]
  },
  {
   "cell_type": "code",
   "execution_count": 79,
   "id": "5bd5026a-419e-45bb-89e8-d304284571dc",
   "metadata": {},
   "outputs": [
    {
     "data": {
      "text/plain": [
       "'.thgir eb tsum ti ,ti syas noelopaN edarmoC fI'"
      ]
     },
     "execution_count": 79,
     "metadata": {},
     "output_type": "execute_result"
    }
   ],
   "source": [
    "s[::-1]"
   ]
  },
  {
   "cell_type": "markdown",
   "id": "7486be5c-0626-4615-b619-cf3dc6cbf7a1",
   "metadata": {
    "tags": []
   },
   "source": [
    "## Interpolating Variables Into a String"
   ]
  },
  {
   "cell_type": "markdown",
   "id": "5d84ad6e-828f-44ab-887b-a7ec1d2cf97a",
   "metadata": {},
   "source": [
    "f-strings: Formatted String Literal \\\n",
    "One feature of f-strings is variable interpolation. \\\n",
    "You can specify a variable name directly within an f-string literal, and Python will replace the name with the corresponding value."
   ]
  },
  {
   "cell_type": "markdown",
   "id": "5781494d-83ca-455d-a834-348e0e52e6ab",
   "metadata": {},
   "source": [
    "### long hard way:"
   ]
  },
  {
   "cell_type": "code",
   "execution_count": 80,
   "id": "c031f782-4691-4d66-a015-4e72ca64dc41",
   "metadata": {},
   "outputs": [
    {
     "name": "stdout",
     "output_type": "stream",
     "text": [
      "The product of 20 and 25 is 500\n"
     ]
    }
   ],
   "source": [
    "n = 20\n",
    "m = 25\n",
    "prod = n * m\n",
    "print('The product of', n, 'and', m, 'is', prod)"
   ]
  },
  {
   "cell_type": "markdown",
   "id": "e9a7253d-e202-4897-a71c-266dd253f429",
   "metadata": {},
   "source": [
    "### using f-strings\n",
    "use a lowercase f or uppercase F before the opening quote of the string literal \\\n",
    "specify any variables to be interpolated in curly braces ({})"
   ]
  },
  {
   "cell_type": "code",
   "execution_count": 82,
   "id": "e8f81aeb-803f-4c43-81c1-8505a7c6d720",
   "metadata": {},
   "outputs": [
    {
     "name": "stdout",
     "output_type": "stream",
     "text": [
      "The product of 20 and 25 is 500\n"
     ]
    }
   ],
   "source": [
    "n = 20\n",
    "m = 25\n",
    "prod = n * m\n",
    "print(f'The product of {n} and {m} is {prod}')"
   ]
  },
  {
   "cell_type": "code",
   "execution_count": 83,
   "id": "ef509199-9fc4-4b4c-9d23-b6afef674fe1",
   "metadata": {},
   "outputs": [
    {
     "name": "stdout",
     "output_type": "stream",
     "text": [
      "A dog says Bark!!\n",
      "A dog says Bark!!\n",
      "A dog says Bark!!\n"
     ]
    }
   ],
   "source": [
    "var = 'Bark!'\n",
    "\n",
    "print(f'A dog says {var}!')\n",
    "print(f\"A dog says {var}!\")\n",
    "print(f'''A dog says {var}!''')"
   ]
  },
  {
   "cell_type": "markdown",
   "id": "888197e9-90bf-464b-bcf3-c51bfc889406",
   "metadata": {
    "tags": []
   },
   "source": [
    "## Modifying Strings"
   ]
  },
  {
   "cell_type": "markdown",
   "id": "549e6e36-034c-455e-bcca-89f2b6c91cd8",
   "metadata": {},
   "source": [
    "Strings are one of the data types Python considers immutable, meaning not able to be changed."
   ]
  },
  {
   "cell_type": "code",
   "execution_count": 85,
   "id": "0cf5d7c8-661a-41e2-96a1-4f264eb0bbd8",
   "metadata": {},
   "outputs": [
    {
     "ename": "TypeError",
     "evalue": "'str' object does not support item assignment",
     "output_type": "error",
     "traceback": [
      "\u001b[0;31m---------------------------------------------------------------------------\u001b[0m",
      "\u001b[0;31mTypeError\u001b[0m                                 Traceback (most recent call last)",
      "\u001b[0;32m/var/folders/yl/ftfrcz0s4nd_pncmmknzn7440000gn/T/ipykernel_55539/2824601468.py\u001b[0m in \u001b[0;36m<module>\u001b[0;34m\u001b[0m\n\u001b[1;32m      1\u001b[0m \u001b[0ms\u001b[0m \u001b[0;34m=\u001b[0m \u001b[0;34m'foobar'\u001b[0m\u001b[0;34m\u001b[0m\u001b[0;34m\u001b[0m\u001b[0m\n\u001b[0;32m----> 2\u001b[0;31m \u001b[0ms\u001b[0m\u001b[0;34m[\u001b[0m\u001b[0;36m3\u001b[0m\u001b[0;34m]\u001b[0m \u001b[0;34m=\u001b[0m \u001b[0;34m'x'\u001b[0m\u001b[0;34m\u001b[0m\u001b[0;34m\u001b[0m\u001b[0m\n\u001b[0m",
      "\u001b[0;31mTypeError\u001b[0m: 'str' object does not support item assignment"
     ]
    }
   ],
   "source": [
    "s = 'foobar'\n",
    "s[3] = 'x'"
   ]
  },
  {
   "cell_type": "markdown",
   "id": "b90a4505-24b0-4bd1-b8ec-d8f2e9b961c4",
   "metadata": {},
   "source": [
    "### but you can use built-in string methods!"
   ]
  },
  {
   "cell_type": "code",
   "execution_count": 87,
   "id": "f0fd2876-9387-4ca1-aced-8eb485524c62",
   "metadata": {},
   "outputs": [],
   "source": [
    "s = 'foobar'\n",
    "s = s.replace('b', 'x')"
   ]
  },
  {
   "cell_type": "code",
   "execution_count": 88,
   "id": "73556ed3-2e25-46ce-bb9a-78bff843156e",
   "metadata": {},
   "outputs": [
    {
     "data": {
      "text/plain": [
       "'fooxar'"
      ]
     },
     "execution_count": 88,
     "metadata": {},
     "output_type": "execute_result"
    }
   ],
   "source": [
    "s"
   ]
  },
  {
   "cell_type": "markdown",
   "id": "88e5aecd-462f-40df-8505-9257aeaddf0c",
   "metadata": {
    "tags": []
   },
   "source": [
    "## Built-in String Methods"
   ]
  },
  {
   "cell_type": "markdown",
   "id": "f33d7923-468c-4d64-b496-9b7ffc407a3e",
   "metadata": {},
   "source": [
    "Methods are similar to functions. A method is a specialized type of callable procedure that is tightly associated with an object. Like a function, a method is called to perform a distinct tast, but it is invoked on a specific object and has knowledge of its target object during execution."
   ]
  },
  {
   "cell_type": "markdown",
   "id": "40df661f-0377-44e1-a8ba-5264d7bb8f38",
   "metadata": {},
   "source": [
    "The syntax for invoking a method on an object is as follows:"
   ]
  },
  {
   "cell_type": "code",
   "execution_count": null,
   "id": "32d2d0c4-62bd-440a-ba02-fe93312abffc",
   "metadata": {},
   "outputs": [],
   "source": [
    "obj.foo(<args>)"
   ]
  },
  {
   "cell_type": "markdown",
   "id": "5f1079af-4c52-4e07-a8fc-7d94a7292aa1",
   "metadata": {
    "tags": []
   },
   "source": [
    "### Case Conversion"
   ]
  },
  {
   "cell_type": "markdown",
   "id": "dee171c5-352d-44be-a37d-7c96a207d2e3",
   "metadata": {},
   "source": [
    "#### s.capitalize() capitalizes the target string"
   ]
  },
  {
   "cell_type": "code",
   "execution_count": 89,
   "id": "cdacde61-25e0-4546-8f5b-949f21972f66",
   "metadata": {},
   "outputs": [
    {
     "data": {
      "text/plain": [
       "'Foo bar baz qux'"
      ]
     },
     "execution_count": 89,
     "metadata": {},
     "output_type": "execute_result"
    }
   ],
   "source": [
    "s = 'foO BaR BAZ quX'\n",
    "s.capitalize()"
   ]
  },
  {
   "cell_type": "code",
   "execution_count": 90,
   "id": "5be1bc54-9756-45c9-813a-c41ee6ba4527",
   "metadata": {},
   "outputs": [
    {
     "data": {
      "text/plain": [
       "'Foo123#bar#.'"
      ]
     },
     "execution_count": 90,
     "metadata": {},
     "output_type": "execute_result"
    }
   ],
   "source": [
    "s = 'foo123#BAR#.'\n",
    "s.capitalize()"
   ]
  },
  {
   "cell_type": "markdown",
   "id": "a13c2ced-868f-417f-a237-3f0e8bde635d",
   "metadata": {},
   "source": [
    "#### s.lower() returns a copy of s with all alphabetic characters converted to lowercase:"
   ]
  },
  {
   "cell_type": "code",
   "execution_count": 91,
   "id": "c13f3e6c-8b53-4d5d-9bd6-304f586f6633",
   "metadata": {},
   "outputs": [
    {
     "data": {
      "text/plain": [
       "'foo bar 123 baz qux'"
      ]
     },
     "execution_count": 91,
     "metadata": {},
     "output_type": "execute_result"
    }
   ],
   "source": [
    "'FOO Bar 123 baz qUX'.lower()"
   ]
  },
  {
   "cell_type": "markdown",
   "id": "942d17a1-b860-4d86-bbdc-17978ba30fb4",
   "metadata": {},
   "source": [
    "#### s.swapcase() swaps case of alphabetic characters"
   ]
  },
  {
   "cell_type": "code",
   "execution_count": 92,
   "id": "871c1032-8aa5-48cc-a970-e672e9a018a9",
   "metadata": {},
   "outputs": [
    {
     "data": {
      "text/plain": [
       "'foo bAR 123 BAZ Qux'"
      ]
     },
     "execution_count": 92,
     "metadata": {},
     "output_type": "execute_result"
    }
   ],
   "source": [
    "'FOO Bar 123 baz qUX'.swapcase()"
   ]
  },
  {
   "cell_type": "markdown",
   "id": "3c8a2545-2c8d-45c8-87f1-05ac43cb242d",
   "metadata": {},
   "source": [
    "#### s.title converts the target string to \"title case.\""
   ]
  },
  {
   "cell_type": "code",
   "execution_count": 93,
   "id": "860d01b3-8ad9-40ca-a391-390f9f9d7f7d",
   "metadata": {},
   "outputs": [
    {
     "data": {
      "text/plain": [
       "'The Sun Also Rises'"
      ]
     },
     "execution_count": 93,
     "metadata": {},
     "output_type": "execute_result"
    }
   ],
   "source": [
    "'the sun also rises'.title()"
   ]
  },
  {
   "cell_type": "code",
   "execution_count": 94,
   "id": "d3168f9d-110c-437a-b630-52c41e8a57ca",
   "metadata": {},
   "outputs": [
    {
     "data": {
      "text/plain": [
       "\"What'S Happened To Ted'S Ibm Stock?\""
      ]
     },
     "execution_count": 94,
     "metadata": {},
     "output_type": "execute_result"
    }
   ],
   "source": [
    "\"what's happened to ted's IBM stock?\".title()"
   ]
  },
  {
   "cell_type": "markdown",
   "id": "7de453b0-de63-4b3c-8eb2-25a10f938b56",
   "metadata": {},
   "source": [
    "#### s.upper() converts alphabetic characters to uppercase"
   ]
  },
  {
   "cell_type": "code",
   "execution_count": 95,
   "id": "0ec254d1-5dcf-481c-8711-f00c6006988c",
   "metadata": {},
   "outputs": [
    {
     "data": {
      "text/plain": [
       "'FOO BAR 123 BAZ QUX'"
      ]
     },
     "execution_count": 95,
     "metadata": {},
     "output_type": "execute_result"
    }
   ],
   "source": [
    "'FOO Bar 123 baz qUX'.upper()"
   ]
  },
  {
   "cell_type": "markdown",
   "id": "9a289dc8-28af-400d-a9d8-448a540ee41a",
   "metadata": {
    "tags": []
   },
   "source": [
    "### Find and Replace"
   ]
  },
  {
   "cell_type": "markdown",
   "id": "49858d17-8e72-4686-9083-cfa62ab3107f",
   "metadata": {},
   "source": [
    "These methods provide various means of searching the target string for a specified substring"
   ]
  },
  {
   "cell_type": "markdown",
   "id": "eed5533e-cfed-435b-ac11-d2c28fca4ef9",
   "metadata": {},
   "source": [
    "#### s.count(\\<sub>[, \\<start>[, \\<end>]])\n",
    "counts occurrences of a substring in the target string"
   ]
  },
  {
   "cell_type": "code",
   "execution_count": 96,
   "id": "cc1e5f77-9a98-4b9b-aed9-a6f4c883bcf5",
   "metadata": {},
   "outputs": [
    {
     "data": {
      "text/plain": [
       "3"
      ]
     },
     "execution_count": 96,
     "metadata": {},
     "output_type": "execute_result"
    }
   ],
   "source": [
    "'foo goo moo'.count('oo')"
   ]
  },
  {
   "cell_type": "code",
   "execution_count": 97,
   "id": "32b1b696-1bc8-4357-b4bc-918bf31028f5",
   "metadata": {},
   "outputs": [
    {
     "data": {
      "text/plain": [
       "2"
      ]
     },
     "execution_count": 97,
     "metadata": {},
     "output_type": "execute_result"
    }
   ],
   "source": [
    "'foo goo moo'.count('oo', 0, 8)"
   ]
  },
  {
   "cell_type": "markdown",
   "id": "5475e460-faa4-4b75-9e56-398edb57b8f5",
   "metadata": {},
   "source": [
    "#### s.endswith(\\<suffix>[, \\<start>[, \\<end>]]) \n",
    "determines whether the target string ends with a given substring"
   ]
  },
  {
   "cell_type": "code",
   "execution_count": 98,
   "id": "8346452b-e4c1-4cc1-92a2-d22d9c07694d",
   "metadata": {},
   "outputs": [
    {
     "data": {
      "text/plain": [
       "True"
      ]
     },
     "execution_count": 98,
     "metadata": {},
     "output_type": "execute_result"
    }
   ],
   "source": [
    "'foobar'.endswith('bar')"
   ]
  },
  {
   "cell_type": "code",
   "execution_count": 99,
   "id": "bf1cb919-fde9-47f2-a82e-72179a040935",
   "metadata": {},
   "outputs": [
    {
     "data": {
      "text/plain": [
       "False"
      ]
     },
     "execution_count": 99,
     "metadata": {},
     "output_type": "execute_result"
    }
   ],
   "source": [
    "'foobar'.endswith('baz')"
   ]
  },
  {
   "cell_type": "code",
   "execution_count": 100,
   "id": "a2cc8f10-be2f-49c1-a7b9-6e8ba7fa0152",
   "metadata": {},
   "outputs": [
    {
     "data": {
      "text/plain": [
       "True"
      ]
     },
     "execution_count": 100,
     "metadata": {},
     "output_type": "execute_result"
    }
   ],
   "source": [
    "'foobar'.endswith('oob', 0, 4)"
   ]
  },
  {
   "cell_type": "code",
   "execution_count": 101,
   "id": "a0fb338a-b99d-4d72-a4a2-103d73645d2f",
   "metadata": {},
   "outputs": [
    {
     "data": {
      "text/plain": [
       "False"
      ]
     },
     "execution_count": 101,
     "metadata": {},
     "output_type": "execute_result"
    }
   ],
   "source": [
    "'foobar'.endswith('oob', 2, 4)"
   ]
  },
  {
   "cell_type": "markdown",
   "id": "6ddae348-1e71-4952-b662-cdf5ee404b21",
   "metadata": {},
   "source": [
    "#### s.find(\\<sub>[, \\<start>[, \\<end>]]) \n",
    "searches the target string for a given substring \\\n",
    "returns the lowest index in s where substring \\<sub> is found"
   ]
  },
  {
   "cell_type": "code",
   "execution_count": 102,
   "id": "cf6ed254-0447-426a-8a1e-76c93e6034ea",
   "metadata": {},
   "outputs": [
    {
     "data": {
      "text/plain": [
       "0"
      ]
     },
     "execution_count": 102,
     "metadata": {},
     "output_type": "execute_result"
    }
   ],
   "source": [
    "'foo bar foo baz foo qux'.find('foo')"
   ]
  },
  {
   "cell_type": "markdown",
   "id": "c282f47b-5751-4c0d-9f09-4aad5634a056",
   "metadata": {
    "tags": []
   },
   "source": [
    "##### this returns -1 if the specified substring is no found:"
   ]
  },
  {
   "cell_type": "code",
   "execution_count": 103,
   "id": "8cc898dd-aea3-40ff-87f0-e1bab72588c2",
   "metadata": {},
   "outputs": [
    {
     "data": {
      "text/plain": [
       "-1"
      ]
     },
     "execution_count": 103,
     "metadata": {},
     "output_type": "execute_result"
    }
   ],
   "source": [
    "'foo bar foo baz foo qux'.find('grault')"
   ]
  },
  {
   "cell_type": "markdown",
   "id": "24dabe3e-ad1d-4792-b7dd-7bb491aaa658",
   "metadata": {},
   "source": [
    "#### s.index(\\<sub>[, \\<start>[, \\<end>]]) \n",
    "searches the target string for a given substring \\\n",
    "same as s.find but throws error:"
   ]
  },
  {
   "cell_type": "code",
   "execution_count": 104,
   "id": "5cf9b233-2755-40ba-8e9c-0c14c58885d0",
   "metadata": {},
   "outputs": [
    {
     "ename": "ValueError",
     "evalue": "substring not found",
     "output_type": "error",
     "traceback": [
      "\u001b[0;31m---------------------------------------------------------------------------\u001b[0m",
      "\u001b[0;31mValueError\u001b[0m                                Traceback (most recent call last)",
      "\u001b[0;32m/var/folders/yl/ftfrcz0s4nd_pncmmknzn7440000gn/T/ipykernel_55539/1211660227.py\u001b[0m in \u001b[0;36m<module>\u001b[0;34m\u001b[0m\n\u001b[0;32m----> 1\u001b[0;31m \u001b[0;34m'foo bar foo baz foo qux'\u001b[0m\u001b[0;34m.\u001b[0m\u001b[0mindex\u001b[0m\u001b[0;34m(\u001b[0m\u001b[0;34m'grault'\u001b[0m\u001b[0;34m)\u001b[0m\u001b[0;34m\u001b[0m\u001b[0;34m\u001b[0m\u001b[0m\n\u001b[0m",
      "\u001b[0;31mValueError\u001b[0m: substring not found"
     ]
    }
   ],
   "source": [
    "'foo bar foo baz foo qux'.index('grault')"
   ]
  },
  {
   "cell_type": "markdown",
   "id": "80a9d983-ae04-401a-a06b-21202c7f8388",
   "metadata": {},
   "source": [
    "#### s.rfind(\\<sub>[, \\<start>[, \\<end>]]) \n",
    "searches the target string for a given substring starting at the end, returning the highest indext in s where substring \\<sub> is found"
   ]
  },
  {
   "cell_type": "code",
   "execution_count": 105,
   "id": "82aafa45-ed6e-4afe-afbb-7d6c7f52562c",
   "metadata": {},
   "outputs": [
    {
     "data": {
      "text/plain": [
       "16"
      ]
     },
     "execution_count": 105,
     "metadata": {},
     "output_type": "execute_result"
    }
   ],
   "source": [
    "'foo bar foo baz foo qux'.rfind('foo')"
   ]
  },
  {
   "cell_type": "markdown",
   "id": "750331f4-31ab-4aa6-bd0f-30fb9b48d216",
   "metadata": {
    "tags": []
   },
   "source": [
    "##### as with .find(), if the substring is not found, -1 is returned:"
   ]
  },
  {
   "cell_type": "code",
   "execution_count": 106,
   "id": "3e1941cd-5ee0-49ac-958d-b2d52f73d3a5",
   "metadata": {},
   "outputs": [
    {
     "data": {
      "text/plain": [
       "-1"
      ]
     },
     "execution_count": 106,
     "metadata": {},
     "output_type": "execute_result"
    }
   ],
   "source": [
    "'foo bar foo baz foo qux'.rfind('grault')"
   ]
  },
  {
   "cell_type": "code",
   "execution_count": 107,
   "id": "0845f5d0-835e-48f5-87ca-a3e1b97df579",
   "metadata": {},
   "outputs": [
    {
     "data": {
      "text/plain": [
       "8"
      ]
     },
     "execution_count": 107,
     "metadata": {},
     "output_type": "execute_result"
    }
   ],
   "source": [
    "'foo bar foo baz foo qux'.rfind('foo', 0, 14)"
   ]
  },
  {
   "cell_type": "code",
   "execution_count": 108,
   "id": "f401ba02-495f-4603-b265-29bda8364b4d",
   "metadata": {},
   "outputs": [
    {
     "data": {
      "text/plain": [
       "-1"
      ]
     },
     "execution_count": 108,
     "metadata": {},
     "output_type": "execute_result"
    }
   ],
   "source": [
    "'foo bar foo baz foo qux'.rfind('foo', 10, 14)"
   ]
  },
  {
   "cell_type": "markdown",
   "id": "4caf5357-c0cd-4baf-8e01-c6c65094d800",
   "metadata": {},
   "source": [
    "#### s.rindex(\\<sub>[, \\<start>[, \\<end>]]) \n",
    "searches the target string for a given substring starting at the end \\\n",
    "same as .rfind() except it throws error rather than returning -1"
   ]
  },
  {
   "cell_type": "code",
   "execution_count": 109,
   "id": "81e4592f-21bb-4034-8238-1abd04b46399",
   "metadata": {},
   "outputs": [
    {
     "ename": "ValueError",
     "evalue": "substring not found",
     "output_type": "error",
     "traceback": [
      "\u001b[0;31m---------------------------------------------------------------------------\u001b[0m",
      "\u001b[0;31mValueError\u001b[0m                                Traceback (most recent call last)",
      "\u001b[0;32m/var/folders/yl/ftfrcz0s4nd_pncmmknzn7440000gn/T/ipykernel_55539/2929491299.py\u001b[0m in \u001b[0;36m<module>\u001b[0;34m\u001b[0m\n\u001b[0;32m----> 1\u001b[0;31m \u001b[0;34m'foo bar foo baz foo qux'\u001b[0m\u001b[0;34m.\u001b[0m\u001b[0mrindex\u001b[0m\u001b[0;34m(\u001b[0m\u001b[0;34m'grault'\u001b[0m\u001b[0;34m)\u001b[0m\u001b[0;34m\u001b[0m\u001b[0;34m\u001b[0m\u001b[0m\n\u001b[0m",
      "\u001b[0;31mValueError\u001b[0m: substring not found"
     ]
    }
   ],
   "source": [
    "'foo bar foo baz foo qux'.rindex('grault')"
   ]
  },
  {
   "cell_type": "markdown",
   "id": "0c100838-3b6a-4913-9144-4d623bc327f8",
   "metadata": {},
   "source": [
    "#### s.startswith(\\<prefix>[, \\<start>[, \\<end>]])\n",
    "determines whether the target string starts with a given substring"
   ]
  },
  {
   "cell_type": "code",
   "execution_count": 110,
   "id": "865283e2-7da1-4d36-8b2f-8e61bab7b8a2",
   "metadata": {},
   "outputs": [
    {
     "data": {
      "text/plain": [
       "True"
      ]
     },
     "execution_count": 110,
     "metadata": {},
     "output_type": "execute_result"
    }
   ],
   "source": [
    "'foobar'.startswith('foo')"
   ]
  },
  {
   "cell_type": "code",
   "execution_count": 111,
   "id": "71f3a876-3da7-4f54-8cd5-b6ad99f14a70",
   "metadata": {},
   "outputs": [
    {
     "data": {
      "text/plain": [
       "False"
      ]
     },
     "execution_count": 111,
     "metadata": {},
     "output_type": "execute_result"
    }
   ],
   "source": [
    "'foobar'.startswith('bar')"
   ]
  },
  {
   "cell_type": "code",
   "execution_count": 112,
   "id": "e5c0ce28-863c-4852-84d1-ef407c57f593",
   "metadata": {},
   "outputs": [
    {
     "data": {
      "text/plain": [
       "True"
      ]
     },
     "execution_count": 112,
     "metadata": {},
     "output_type": "execute_result"
    }
   ],
   "source": [
    "'foobar'.startswith('bar', 3)"
   ]
  },
  {
   "cell_type": "code",
   "execution_count": 113,
   "id": "de2aee89-e9bf-4933-8449-52621aaee6cd",
   "metadata": {},
   "outputs": [
    {
     "data": {
      "text/plain": [
       "False"
      ]
     },
     "execution_count": 113,
     "metadata": {},
     "output_type": "execute_result"
    }
   ],
   "source": [
    "'foobar'.startswith('bar', 3, 2)"
   ]
  },
  {
   "cell_type": "markdown",
   "id": "ee2cbc64-2eef-477e-abdc-0fcbe4ab41b9",
   "metadata": {
    "tags": []
   },
   "source": [
    "### Character Classification\n",
    "Methods in this group classify a string based on the characters it contains"
   ]
  },
  {
   "cell_type": "markdown",
   "id": "2291197a-3666-4920-ba66-c8502cb45360",
   "metadata": {
    "jp-MarkdownHeadingCollapsed": true,
    "tags": []
   },
   "source": [
    "#### s.isalum()\n",
    "determines whether the target string consists of alphanumeric characters"
   ]
  },
  {
   "cell_type": "code",
   "execution_count": 114,
   "id": "213f2fa2-a17c-4d63-91ef-0de5b9dc582b",
   "metadata": {},
   "outputs": [
    {
     "data": {
      "text/plain": [
       "True"
      ]
     },
     "execution_count": 114,
     "metadata": {},
     "output_type": "execute_result"
    }
   ],
   "source": [
    "'abc123'.isalnum()"
   ]
  },
  {
   "cell_type": "code",
   "execution_count": 115,
   "id": "d47b86ac-c2cd-4022-96f1-ed2e72e6619a",
   "metadata": {},
   "outputs": [
    {
     "data": {
      "text/plain": [
       "False"
      ]
     },
     "execution_count": 115,
     "metadata": {},
     "output_type": "execute_result"
    }
   ],
   "source": [
    "'abc$123'.isalnum()"
   ]
  },
  {
   "cell_type": "code",
   "execution_count": 116,
   "id": "c09a160b-91dd-4db8-87eb-74b730e3e9f6",
   "metadata": {},
   "outputs": [
    {
     "data": {
      "text/plain": [
       "False"
      ]
     },
     "execution_count": 116,
     "metadata": {},
     "output_type": "execute_result"
    }
   ],
   "source": [
    "''.isalnum()"
   ]
  },
  {
   "cell_type": "markdown",
   "id": "f0f47f0f-7a58-470c-a241-091e0d1e1e09",
   "metadata": {
    "jp-MarkdownHeadingCollapsed": true,
    "tags": []
   },
   "source": [
    "#### s.isalpha()\n",
    "determines whether the target string consists of alphabetic characters"
   ]
  },
  {
   "cell_type": "code",
   "execution_count": 117,
   "id": "5cc6b786-06cc-4938-8629-ce3b36815e29",
   "metadata": {},
   "outputs": [
    {
     "data": {
      "text/plain": [
       "True"
      ]
     },
     "execution_count": 117,
     "metadata": {},
     "output_type": "execute_result"
    }
   ],
   "source": [
    "'ABCabc'.isalpha()"
   ]
  },
  {
   "cell_type": "code",
   "execution_count": 118,
   "id": "33cc552d-e233-4313-b82d-ed331f604007",
   "metadata": {},
   "outputs": [
    {
     "data": {
      "text/plain": [
       "False"
      ]
     },
     "execution_count": 118,
     "metadata": {},
     "output_type": "execute_result"
    }
   ],
   "source": [
    "'abc123'.isalpha()"
   ]
  },
  {
   "cell_type": "markdown",
   "id": "ffa12321-d84d-4fa5-8a6e-cd031a397a9a",
   "metadata": {
    "jp-MarkdownHeadingCollapsed": true,
    "tags": []
   },
   "source": [
    "#### s.isdigit()\n",
    "determines whether the target string consists of digit characters"
   ]
  },
  {
   "cell_type": "code",
   "execution_count": 119,
   "id": "24d3865a-60e1-4d62-a8c0-c1dfc96c321a",
   "metadata": {},
   "outputs": [
    {
     "data": {
      "text/plain": [
       "True"
      ]
     },
     "execution_count": 119,
     "metadata": {},
     "output_type": "execute_result"
    }
   ],
   "source": [
    "'123'.isdigit()"
   ]
  },
  {
   "cell_type": "code",
   "execution_count": 120,
   "id": "266764ce-566a-4158-8850-ad94e5cdfdf8",
   "metadata": {},
   "outputs": [
    {
     "data": {
      "text/plain": [
       "False"
      ]
     },
     "execution_count": 120,
     "metadata": {},
     "output_type": "execute_result"
    }
   ],
   "source": [
    "'123abc'.isdigit()"
   ]
  },
  {
   "cell_type": "markdown",
   "id": "7c1d61cb-2f61-46aa-9aaf-3eab545f4641",
   "metadata": {
    "jp-MarkdownHeadingCollapsed": true,
    "tags": []
   },
   "source": [
    "#### s.isidentifier()\n",
    "determines whether the target string is a valid Python identifier"
   ]
  },
  {
   "cell_type": "code",
   "execution_count": 121,
   "id": "8d3e3fcb-df9a-49fe-8690-e6b30e4f167d",
   "metadata": {},
   "outputs": [
    {
     "data": {
      "text/plain": [
       "True"
      ]
     },
     "execution_count": 121,
     "metadata": {},
     "output_type": "execute_result"
    }
   ],
   "source": [
    "'foo32'.isidentifier()"
   ]
  },
  {
   "cell_type": "code",
   "execution_count": 122,
   "id": "da91552b-960e-42ea-b5a9-8d2cae167db4",
   "metadata": {},
   "outputs": [
    {
     "data": {
      "text/plain": [
       "False"
      ]
     },
     "execution_count": 122,
     "metadata": {},
     "output_type": "execute_result"
    }
   ],
   "source": [
    "'32foo'.isidentifier()"
   ]
  },
  {
   "cell_type": "code",
   "execution_count": 124,
   "id": "19e10dec-9c7b-4504-88f4-3f786df54328",
   "metadata": {},
   "outputs": [
    {
     "data": {
      "text/plain": [
       "False"
      ]
     },
     "execution_count": 124,
     "metadata": {},
     "output_type": "execute_result"
    }
   ],
   "source": [
    "'foo$32'.isidentifier()"
   ]
  },
  {
   "cell_type": "markdown",
   "id": "1d63b0c1-b162-41af-96ad-8ece3ae60a21",
   "metadata": {
    "jp-MarkdownHeadingCollapsed": true,
    "tags": []
   },
   "source": [
    "#### s.islower()\n",
    "determimes whether the target string's alphabetic characters are lowercase"
   ]
  },
  {
   "cell_type": "code",
   "execution_count": 125,
   "id": "500256ff-8f7c-4fb4-84f4-74404c31b417",
   "metadata": {},
   "outputs": [
    {
     "data": {
      "text/plain": [
       "True"
      ]
     },
     "execution_count": 125,
     "metadata": {},
     "output_type": "execute_result"
    }
   ],
   "source": [
    "'abc'.islower()"
   ]
  },
  {
   "cell_type": "code",
   "execution_count": 126,
   "id": "be562875-803f-4f3f-abe5-f47e3ed2dfa9",
   "metadata": {},
   "outputs": [
    {
     "data": {
      "text/plain": [
       "True"
      ]
     },
     "execution_count": 126,
     "metadata": {},
     "output_type": "execute_result"
    }
   ],
   "source": [
    "'abc1$d'.islower()"
   ]
  },
  {
   "cell_type": "code",
   "execution_count": 127,
   "id": "e48c24ec-a510-40db-9c5c-def0cf52630c",
   "metadata": {},
   "outputs": [
    {
     "data": {
      "text/plain": [
       "False"
      ]
     },
     "execution_count": 127,
     "metadata": {},
     "output_type": "execute_result"
    }
   ],
   "source": [
    "'Abc1$D'.islower()"
   ]
  },
  {
   "cell_type": "markdown",
   "id": "314fe2f8-98e4-43fa-81a9-bfce71eba803",
   "metadata": {
    "jp-MarkdownHeadingCollapsed": true,
    "tags": []
   },
   "source": [
    "#### s.isprintable()\n",
    "determiens whether the target string consists entirely of printable characters"
   ]
  },
  {
   "cell_type": "code",
   "execution_count": 128,
   "id": "b3598c56-05d0-4be8-ba60-944d5414d2ec",
   "metadata": {},
   "outputs": [
    {
     "data": {
      "text/plain": [
       "False"
      ]
     },
     "execution_count": 128,
     "metadata": {},
     "output_type": "execute_result"
    }
   ],
   "source": [
    "'a\\tb'.isprintable()"
   ]
  },
  {
   "cell_type": "code",
   "execution_count": 129,
   "id": "cc116a7b-db5c-4db0-acf7-6ba84a6cd001",
   "metadata": {},
   "outputs": [
    {
     "data": {
      "text/plain": [
       "True"
      ]
     },
     "execution_count": 129,
     "metadata": {},
     "output_type": "execute_result"
    }
   ],
   "source": [
    "'a b'.isprintable()"
   ]
  },
  {
   "cell_type": "code",
   "execution_count": 130,
   "id": "8d82f437-8009-4cbd-87b0-a1724209e645",
   "metadata": {},
   "outputs": [
    {
     "data": {
      "text/plain": [
       "True"
      ]
     },
     "execution_count": 130,
     "metadata": {},
     "output_type": "execute_result"
    }
   ],
   "source": [
    "''.isprintable()"
   ]
  },
  {
   "cell_type": "code",
   "execution_count": 131,
   "id": "d0f381d4-c7e7-4a74-8ea8-1f8a14da8dd2",
   "metadata": {},
   "outputs": [
    {
     "data": {
      "text/plain": [
       "False"
      ]
     },
     "execution_count": 131,
     "metadata": {},
     "output_type": "execute_result"
    }
   ],
   "source": [
    "'a\\nb'.isprintable()"
   ]
  },
  {
   "cell_type": "markdown",
   "id": "c3e30250-5022-4087-bd8e-0bba0ea34184",
   "metadata": {
    "jp-MarkdownHeadingCollapsed": true,
    "tags": []
   },
   "source": [
    "#### s.isspace()\n",
    "determines whether the target string consists of whitespace characters"
   ]
  },
  {
   "cell_type": "code",
   "execution_count": 132,
   "id": "72f27284-97d1-4cd8-a5fc-6fe261af7ffb",
   "metadata": {},
   "outputs": [
    {
     "data": {
      "text/plain": [
       "True"
      ]
     },
     "execution_count": 132,
     "metadata": {},
     "output_type": "execute_result"
    }
   ],
   "source": [
    "' \\t \\n '.isspace()"
   ]
  },
  {
   "cell_type": "code",
   "execution_count": 133,
   "id": "4d63d47d-27a2-408c-a2b8-836589d88fea",
   "metadata": {},
   "outputs": [
    {
     "data": {
      "text/plain": [
       "False"
      ]
     },
     "execution_count": 133,
     "metadata": {},
     "output_type": "execute_result"
    }
   ],
   "source": [
    "'   a   '.isspace()"
   ]
  },
  {
   "cell_type": "markdown",
   "id": "7b1e6390-7fdb-4b17-a33c-24411328507a",
   "metadata": {},
   "source": [
    "##### some ASCII and Unicode characters qualify as whitespace:"
   ]
  },
  {
   "cell_type": "code",
   "execution_count": 134,
   "id": "1b4680af-a476-41db-a2cf-70cf1282ffaa",
   "metadata": {},
   "outputs": [
    {
     "data": {
      "text/plain": [
       "True"
      ]
     },
     "execution_count": 134,
     "metadata": {},
     "output_type": "execute_result"
    }
   ],
   "source": [
    "'\\f\\u2005\\r'.isspace()"
   ]
  },
  {
   "cell_type": "markdown",
   "id": "54e9fa45-2602-4f6c-b309-cc6ae5617185",
   "metadata": {
    "jp-MarkdownHeadingCollapsed": true,
    "tags": []
   },
   "source": [
    "#### s.istitle()\n",
    "determines whether the target string is title cased"
   ]
  },
  {
   "cell_type": "code",
   "execution_count": 135,
   "id": "50674cc3-5870-4ed2-9829-11301a482c8f",
   "metadata": {},
   "outputs": [
    {
     "data": {
      "text/plain": [
       "True"
      ]
     },
     "execution_count": 135,
     "metadata": {},
     "output_type": "execute_result"
    }
   ],
   "source": [
    "'This Is A Title'.istitle()"
   ]
  },
  {
   "cell_type": "code",
   "execution_count": 136,
   "id": "3ee34c6d-41d6-462f-a3e1-223c01f2ec7a",
   "metadata": {},
   "outputs": [
    {
     "data": {
      "text/plain": [
       "False"
      ]
     },
     "execution_count": 136,
     "metadata": {},
     "output_type": "execute_result"
    }
   ],
   "source": [
    "'This is a title'.istitle()"
   ]
  },
  {
   "cell_type": "code",
   "execution_count": 137,
   "id": "521eb42f-7a63-4b7f-9565-48f777384783",
   "metadata": {},
   "outputs": [
    {
     "data": {
      "text/plain": [
       "True"
      ]
     },
     "execution_count": 137,
     "metadata": {},
     "output_type": "execute_result"
    }
   ],
   "source": [
    "'Give Me The #$#@ Ball!'.istitle()"
   ]
  },
  {
   "cell_type": "markdown",
   "id": "3855e5bd-9b42-4f0b-8513-98fda7944de0",
   "metadata": {
    "tags": []
   },
   "source": [
    "#### s.isupper()\n",
    "determines whether the target string's alphabetic characters are uppercase"
   ]
  },
  {
   "cell_type": "code",
   "execution_count": 138,
   "id": "6c908d00-2af9-4c86-8c82-b7fff4617725",
   "metadata": {},
   "outputs": [
    {
     "data": {
      "text/plain": [
       "True"
      ]
     },
     "execution_count": 138,
     "metadata": {},
     "output_type": "execute_result"
    }
   ],
   "source": [
    "'ABC'.isupper()"
   ]
  },
  {
   "cell_type": "code",
   "execution_count": 139,
   "id": "eddfeeef-e653-43d8-a6e9-bb3a3672522b",
   "metadata": {},
   "outputs": [
    {
     "data": {
      "text/plain": [
       "True"
      ]
     },
     "execution_count": 139,
     "metadata": {},
     "output_type": "execute_result"
    }
   ],
   "source": [
    "'ABC1$D'.isupper()"
   ]
  },
  {
   "cell_type": "code",
   "execution_count": 140,
   "id": "2856bd3e-b2f5-4312-986b-0f7346e582f3",
   "metadata": {},
   "outputs": [
    {
     "data": {
      "text/plain": [
       "False"
      ]
     },
     "execution_count": 140,
     "metadata": {},
     "output_type": "execute_result"
    }
   ],
   "source": [
    "'ABc1$D'.isupper()"
   ]
  },
  {
   "cell_type": "code",
   "execution_count": 1,
   "id": "627e6edd-d224-4e62-bf12-ccf2c9600e8d",
   "metadata": {},
   "outputs": [
    {
     "name": "stdout",
     "output_type": "stream",
     "text": [
      "18\n"
     ]
    }
   ],
   "source": [
    "a = 6\n",
    "b = 12\n",
    "print(a + b)"
   ]
  }
 ],
 "metadata": {
  "kernelspec": {
   "display_name": "Python 3 (ipykernel)",
   "language": "python",
   "name": "python3"
  },
  "language_info": {
   "codemirror_mode": {
    "name": "ipython",
    "version": 3
   },
   "file_extension": ".py",
   "mimetype": "text/x-python",
   "name": "python",
   "nbconvert_exporter": "python",
   "pygments_lexer": "ipython3",
   "version": "3.8.12"
  }
 },
 "nbformat": 4,
 "nbformat_minor": 5
}
