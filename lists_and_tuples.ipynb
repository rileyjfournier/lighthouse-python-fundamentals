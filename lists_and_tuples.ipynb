{
 "cells": [
  {
   "cell_type": "markdown",
   "id": "206cad7e-44b6-4c1e-8261-f15cb507a594",
   "metadata": {
    "tags": []
   },
   "source": [
    "# Lists\n",
    "a collection of arbitrary objects, similar to an array in other programming languages"
   ]
  },
  {
   "cell_type": "code",
   "execution_count": 1,
   "id": "9f3e21c1-1a15-446b-9e54-09e0373d46b7",
   "metadata": {},
   "outputs": [
    {
     "name": "stdout",
     "output_type": "stream",
     "text": [
      "['foo', 'bar', 'baz', 'qux']\n"
     ]
    },
    {
     "data": {
      "text/plain": [
       "['foo', 'bar', 'baz', 'qux']"
      ]
     },
     "execution_count": 1,
     "metadata": {},
     "output_type": "execute_result"
    }
   ],
   "source": [
    "a = ['foo', 'bar', 'baz', 'qux']\n",
    "\n",
    "print(a)\n",
    "\n",
    "a"
   ]
  },
  {
   "cell_type": "markdown",
   "id": "979c587c-7bf7-4ed8-abdf-da1e6b226363",
   "metadata": {},
   "source": [
    "***"
   ]
  },
  {
   "cell_type": "markdown",
   "id": "4195bdb0-af6e-4c4b-9c19-2a95fdf9601b",
   "metadata": {},
   "source": [
    "## Characteristics of Python lists: \n",
    "- lists are ordered\n",
    "- lists can contain any arbitrary objects\n",
    "- list elements can be accessed by index\n",
    "- lists can be nested to arbitrary depth\n",
    "- lists are mutable\n",
    "- lists are dynamic"
   ]
  },
  {
   "cell_type": "code",
   "execution_count": 2,
   "id": "7a713b72-57c6-4b35-b5e0-944e25a439cf",
   "metadata": {},
   "outputs": [
    {
     "data": {
      "text/plain": [
       "False"
      ]
     },
     "execution_count": 2,
     "metadata": {},
     "output_type": "execute_result"
    }
   ],
   "source": [
    "a = ['foo', 'bar', 'baz', 'qux']\n",
    "b = ['baz', 'qux', 'bar', 'foo']\n",
    "a == b"
   ]
  },
  {
   "cell_type": "code",
   "execution_count": 3,
   "id": "64ebfe59-6fb8-4eeb-9027-129a549f3c6f",
   "metadata": {},
   "outputs": [
    {
     "data": {
      "text/plain": [
       "False"
      ]
     },
     "execution_count": 3,
     "metadata": {},
     "output_type": "execute_result"
    }
   ],
   "source": [
    "a is b"
   ]
  },
  {
   "cell_type": "code",
   "execution_count": 4,
   "id": "30edb3ea-e07a-444e-a61b-e82e5924bdf1",
   "metadata": {},
   "outputs": [
    {
     "data": {
      "text/plain": [
       "False"
      ]
     },
     "execution_count": 4,
     "metadata": {},
     "output_type": "execute_result"
    }
   ],
   "source": [
    "[1, 2, 3, 4] == [4, 1, 3, 2]"
   ]
  },
  {
   "cell_type": "markdown",
   "id": "17ee9eb5-3404-4f6d-a0d8-0097daae19a2",
   "metadata": {
    "jp-MarkdownHeadingCollapsed": true,
    "tags": []
   },
   "source": [
    "### Can Contain Arbitrary Objects"
   ]
  },
  {
   "cell_type": "code",
   "execution_count": 5,
   "id": "179949f3-116e-45dc-9b01-3e0657b73530",
   "metadata": {},
   "outputs": [
    {
     "data": {
      "text/plain": [
       "[2, 4, 6, 8]"
      ]
     },
     "execution_count": 5,
     "metadata": {},
     "output_type": "execute_result"
    }
   ],
   "source": [
    "a = [2, 4, 6, 8]\n",
    "a"
   ]
  },
  {
   "cell_type": "code",
   "execution_count": 6,
   "id": "0f9d8fb7-ea5c-412c-86bf-4bb639646228",
   "metadata": {},
   "outputs": [
    {
     "data": {
      "text/plain": [
       "[21.42, 'foobar', 3, 4, 'bark', False, 3.14159]"
      ]
     },
     "execution_count": 6,
     "metadata": {},
     "output_type": "execute_result"
    }
   ],
   "source": [
    "a = [21.42, 'foobar', 3, 4, 'bark', False, 3.14159]\n",
    "a"
   ]
  },
  {
   "cell_type": "markdown",
   "id": "084c2dfc-79ef-408d-9a00-854e4ae48833",
   "metadata": {
    "tags": []
   },
   "source": [
    "#### can even contain complex objects:"
   ]
  },
  {
   "cell_type": "code",
   "execution_count": 10,
   "id": "f9ff7352-d8ec-4666-a73b-0c502d443aa0",
   "metadata": {},
   "outputs": [
    {
     "data": {
      "text/plain": [
       "[int,\n",
       " <function len(obj, /)>,\n",
       " <function __main__.foo()>,\n",
       " <module 'math' from '/opt/homebrew/Caskroom/miniforge/base/envs/base_env/lib/python3.8/lib-dynload/math.cpython-38-darwin.so'>]"
      ]
     },
     "execution_count": 10,
     "metadata": {},
     "output_type": "execute_result"
    }
   ],
   "source": [
    "int\n",
    "# class 'int'\n",
    "len\n",
    "# built-in function len\n",
    "def foo():\n",
    "    pass\n",
    "\n",
    "foo\n",
    "# function foo at 0x035B9030\n",
    "import math\n",
    "math\n",
    "# module 'math' (built-in)\n",
    "\n",
    "a = [int, len, foo, math]\n",
    "a"
   ]
  },
  {
   "cell_type": "markdown",
   "id": "a236fb60-3fc8-44c3-8684-fdfefb9061b1",
   "metadata": {},
   "source": [
    "#### can contain any number of objects, from zero to infinite"
   ]
  },
  {
   "cell_type": "code",
   "execution_count": 11,
   "id": "6aa82dc2-de68-4354-a361-ad820dcb7282",
   "metadata": {},
   "outputs": [
    {
     "data": {
      "text/plain": [
       "[]"
      ]
     },
     "execution_count": 11,
     "metadata": {},
     "output_type": "execute_result"
    }
   ],
   "source": [
    "a = []\n",
    "a"
   ]
  },
  {
   "cell_type": "code",
   "execution_count": 12,
   "id": "ebb57cc2-f9b5-40ee-bcac-a509d22135c0",
   "metadata": {},
   "outputs": [
    {
     "data": {
      "text/plain": [
       "['foo']"
      ]
     },
     "execution_count": 12,
     "metadata": {},
     "output_type": "execute_result"
    }
   ],
   "source": [
    "a = ['foo']\n",
    "a"
   ]
  },
  {
   "cell_type": "code",
   "execution_count": 13,
   "id": "e806d088-9653-43ac-9f18-3ed74df6e26b",
   "metadata": {},
   "outputs": [
    {
     "data": {
      "text/plain": [
       "[0, 1, 2, 3, 4, 5, 6, 7, 8, 9, 10]"
      ]
     },
     "execution_count": 13,
     "metadata": {},
     "output_type": "execute_result"
    }
   ],
   "source": [
    "a = [0, 1, 2, 3, 4, 5, 6, 7, 8, 9, 10]\n",
    "a"
   ]
  },
  {
   "cell_type": "markdown",
   "id": "0bfd9120-306b-4db5-a2b6-6428955cfc96",
   "metadata": {},
   "source": [
    "#### any given object can appear in a list multiple times:"
   ]
  },
  {
   "cell_type": "code",
   "execution_count": 14,
   "id": "6aa6a1a8-208c-4fc3-b771-8fd226831c5c",
   "metadata": {},
   "outputs": [
    {
     "data": {
      "text/plain": [
       "['bark', 'meow', 'woof', 'bark', 'cheep', 'bark']"
      ]
     },
     "execution_count": 14,
     "metadata": {},
     "output_type": "execute_result"
    }
   ],
   "source": [
    "a = ['bark', 'meow', 'woof', 'bark', 'cheep', 'bark']\n",
    "a"
   ]
  },
  {
   "cell_type": "markdown",
   "id": "fdbd3b71-52cd-4c48-865b-f28a528d26f1",
   "metadata": {
    "tags": []
   },
   "source": [
    "### List Elements Can Be Accessed by Index"
   ]
  },
  {
   "cell_type": "code",
   "execution_count": 15,
   "id": "23d503b9-28f4-44d8-aebc-e9a532bfae9e",
   "metadata": {},
   "outputs": [],
   "source": [
    "a = ['foo', 'bar', 'baz', 'qux', 'quux', 'corge']"
   ]
  },
  {
   "cell_type": "code",
   "execution_count": 16,
   "id": "9625ab29-23d9-4e23-ada8-440350cb3915",
   "metadata": {},
   "outputs": [
    {
     "data": {
      "text/plain": [
       "'foo'"
      ]
     },
     "execution_count": 16,
     "metadata": {},
     "output_type": "execute_result"
    }
   ],
   "source": [
    "a[0]"
   ]
  },
  {
   "cell_type": "code",
   "execution_count": 17,
   "id": "d3f6d455-cf36-4589-a811-8e8488be66be",
   "metadata": {},
   "outputs": [
    {
     "data": {
      "text/plain": [
       "'baz'"
      ]
     },
     "execution_count": 17,
     "metadata": {},
     "output_type": "execute_result"
    }
   ],
   "source": [
    "a[2]"
   ]
  },
  {
   "cell_type": "code",
   "execution_count": 18,
   "id": "96bb346d-8e30-455e-8f8c-171899b1622b",
   "metadata": {},
   "outputs": [
    {
     "data": {
      "text/plain": [
       "'corge'"
      ]
     },
     "execution_count": 18,
     "metadata": {},
     "output_type": "execute_result"
    }
   ],
   "source": [
    "a[5]"
   ]
  },
  {
   "cell_type": "code",
   "execution_count": 19,
   "id": "d733f22e-26bb-4f16-ac4d-b349bc4d02af",
   "metadata": {},
   "outputs": [
    {
     "data": {
      "text/plain": [
       "'corge'"
      ]
     },
     "execution_count": 19,
     "metadata": {},
     "output_type": "execute_result"
    }
   ],
   "source": [
    "a[-1]"
   ]
  },
  {
   "cell_type": "code",
   "execution_count": 20,
   "id": "eb310668-621a-42d5-944f-f5c4217749f6",
   "metadata": {},
   "outputs": [
    {
     "data": {
      "text/plain": [
       "'quux'"
      ]
     },
     "execution_count": 20,
     "metadata": {},
     "output_type": "execute_result"
    }
   ],
   "source": [
    "a[-2]"
   ]
  },
  {
   "cell_type": "code",
   "execution_count": 21,
   "id": "d0e57ad9-26de-4a2e-b4e6-2dece697b3ff",
   "metadata": {},
   "outputs": [
    {
     "data": {
      "text/plain": [
       "'bar'"
      ]
     },
     "execution_count": 21,
     "metadata": {},
     "output_type": "execute_result"
    }
   ],
   "source": [
    "a[-5]"
   ]
  },
  {
   "cell_type": "markdown",
   "id": "51bb514d-5db8-49a9-8c4a-18c127b04bfb",
   "metadata": {},
   "source": [
    "#### slicing also works:"
   ]
  },
  {
   "cell_type": "code",
   "execution_count": 22,
   "id": "1ae53832-8eb1-4e60-84c6-a7719cd8fca0",
   "metadata": {},
   "outputs": [
    {
     "data": {
      "text/plain": [
       "['baz', 'qux', 'quux']"
      ]
     },
     "execution_count": 22,
     "metadata": {},
     "output_type": "execute_result"
    }
   ],
   "source": [
    "a[2:5]"
   ]
  },
  {
   "cell_type": "code",
   "execution_count": 23,
   "id": "7959e64a-7569-4399-be72-93a3b3d5fe27",
   "metadata": {},
   "outputs": [
    {
     "data": {
      "text/plain": [
       "['bar', 'baz', 'qux']"
      ]
     },
     "execution_count": 23,
     "metadata": {},
     "output_type": "execute_result"
    }
   ],
   "source": [
    "a[-5:-2]"
   ]
  },
  {
   "cell_type": "code",
   "execution_count": 24,
   "id": "aabde159-7bbb-4e7d-bd94-be5fc030f770",
   "metadata": {},
   "outputs": [
    {
     "data": {
      "text/plain": [
       "['bar', 'baz', 'qux']"
      ]
     },
     "execution_count": 24,
     "metadata": {},
     "output_type": "execute_result"
    }
   ],
   "source": [
    "a[1:4]"
   ]
  },
  {
   "cell_type": "code",
   "execution_count": 25,
   "id": "812eb64c-13f9-491b-bb4f-01eb8410a675",
   "metadata": {},
   "outputs": [
    {
     "data": {
      "text/plain": [
       "True"
      ]
     },
     "execution_count": 25,
     "metadata": {},
     "output_type": "execute_result"
    }
   ],
   "source": [
    "a[-5:-2] == a[1:4]"
   ]
  },
  {
   "cell_type": "code",
   "execution_count": 26,
   "id": "a95761f4-e9eb-4938-9645-514fa0416787",
   "metadata": {},
   "outputs": [
    {
     "name": "stdout",
     "output_type": "stream",
     "text": [
      "['foo', 'bar', 'baz', 'qux'] ['foo', 'bar', 'baz', 'qux']\n"
     ]
    }
   ],
   "source": [
    "print(a[:4], a[0:4])"
   ]
  },
  {
   "cell_type": "code",
   "execution_count": 27,
   "id": "78408aa3-abd2-4d74-8d84-69952beba1e4",
   "metadata": {},
   "outputs": [
    {
     "name": "stdout",
     "output_type": "stream",
     "text": [
      "['baz', 'qux', 'quux', 'corge'] ['baz', 'qux', 'quux', 'corge']\n"
     ]
    }
   ],
   "source": [
    "print(a[2:], a[2:len(a)])"
   ]
  },
  {
   "cell_type": "code",
   "execution_count": 28,
   "id": "4a3503ae-3295-4171-93dd-d2b4f8d06b59",
   "metadata": {},
   "outputs": [
    {
     "data": {
      "text/plain": [
       "['foo', 'bar', 'baz', 'qux', 'quux', 'corge']"
      ]
     },
     "execution_count": 28,
     "metadata": {},
     "output_type": "execute_result"
    }
   ],
   "source": [
    "a[:4] + a[4:]"
   ]
  },
  {
   "cell_type": "code",
   "execution_count": 29,
   "id": "6fb087e2-18d7-4364-a944-3177c93f4d02",
   "metadata": {},
   "outputs": [
    {
     "data": {
      "text/plain": [
       "True"
      ]
     },
     "execution_count": 29,
     "metadata": {},
     "output_type": "execute_result"
    }
   ],
   "source": [
    "a[:4] + a[4:] == a"
   ]
  },
  {
   "cell_type": "markdown",
   "id": "568981ff-5b1f-42d1-91f8-a8adec05b151",
   "metadata": {},
   "source": [
    "#### you can specify a stride:"
   ]
  },
  {
   "cell_type": "code",
   "execution_count": 30,
   "id": "e0e5a249-db1c-4119-9d74-66b0ae7bb8d3",
   "metadata": {},
   "outputs": [
    {
     "data": {
      "text/plain": [
       "['foo', 'baz', 'quux']"
      ]
     },
     "execution_count": 30,
     "metadata": {},
     "output_type": "execute_result"
    }
   ],
   "source": [
    "a[0:6:2]"
   ]
  },
  {
   "cell_type": "code",
   "execution_count": 31,
   "id": "69dbff9f-8c3c-472d-bad4-ac34a9cf3b04",
   "metadata": {},
   "outputs": [
    {
     "data": {
      "text/plain": [
       "['bar', 'qux', 'corge']"
      ]
     },
     "execution_count": 31,
     "metadata": {},
     "output_type": "execute_result"
    }
   ],
   "source": [
    "a[1:6:2]"
   ]
  },
  {
   "cell_type": "code",
   "execution_count": 32,
   "id": "ae86cbb6-f509-48d2-831b-560797cd9ae8",
   "metadata": {},
   "outputs": [
    {
     "data": {
      "text/plain": [
       "['corge', 'qux', 'bar']"
      ]
     },
     "execution_count": 32,
     "metadata": {},
     "output_type": "execute_result"
    }
   ],
   "source": [
    "a[6:0:-2]"
   ]
  },
  {
   "cell_type": "code",
   "execution_count": 33,
   "id": "eacbb321-4dcf-49c6-9b87-017fdb08f7d2",
   "metadata": {},
   "outputs": [
    {
     "data": {
      "text/plain": [
       "['corge', 'quux', 'qux', 'baz', 'bar', 'foo']"
      ]
     },
     "execution_count": 33,
     "metadata": {},
     "output_type": "execute_result"
    }
   ],
   "source": [
    "a[::-1]"
   ]
  },
  {
   "cell_type": "markdown",
   "id": "85d9073b-8b99-4a0c-b5cb-efefe2317be1",
   "metadata": {},
   "source": [
    "#### if *s* is a string, s[:] returns a reference to the same object:"
   ]
  },
  {
   "cell_type": "code",
   "execution_count": 34,
   "id": "51d2655b-6cf5-4d32-b145-cdf6240313e5",
   "metadata": {},
   "outputs": [
    {
     "data": {
      "text/plain": [
       "'foobar'"
      ]
     },
     "execution_count": 34,
     "metadata": {},
     "output_type": "execute_result"
    }
   ],
   "source": [
    "s = 'foobar'\n",
    "s[:]"
   ]
  },
  {
   "cell_type": "code",
   "execution_count": 35,
   "id": "a682a151-3665-4c29-97fe-7fd37af09292",
   "metadata": {},
   "outputs": [
    {
     "data": {
      "text/plain": [
       "True"
      ]
     },
     "execution_count": 35,
     "metadata": {},
     "output_type": "execute_result"
    }
   ],
   "source": [
    "s[:] is s"
   ]
  },
  {
   "cell_type": "markdown",
   "id": "f6444d35-51ef-4c39-9029-8fa73f4fbada",
   "metadata": {},
   "source": [
    "#### conversely, if a is a list, a[:] returns a new object that is a copy of a:"
   ]
  },
  {
   "cell_type": "code",
   "execution_count": 37,
   "id": "d7a6e08b-f192-45d0-8380-5d879bc3f009",
   "metadata": {},
   "outputs": [
    {
     "data": {
      "text/plain": [
       "['foo', 'bar', 'baz', 'qux', 'quux', 'corge']"
      ]
     },
     "execution_count": 37,
     "metadata": {},
     "output_type": "execute_result"
    }
   ],
   "source": [
    "a = ['foo', 'bar', 'baz', 'qux', 'quux', 'corge']\n",
    "a[:]"
   ]
  },
  {
   "cell_type": "code",
   "execution_count": 38,
   "id": "8ef0d055-f1db-4292-9afb-518641980eb8",
   "metadata": {},
   "outputs": [
    {
     "data": {
      "text/plain": [
       "False"
      ]
     },
     "execution_count": 38,
     "metadata": {},
     "output_type": "execute_result"
    }
   ],
   "source": [
    "a[:] is a"
   ]
  },
  {
   "cell_type": "markdown",
   "id": "9464d6e3-8546-4e0c-a1c4-158a5ff3f2b6",
   "metadata": {},
   "source": [
    "#### Several Python operators and built-in functions can be used with lists:"
   ]
  },
  {
   "cell_type": "code",
   "execution_count": 39,
   "id": "482248e5-2133-416d-8a53-aa5844a1951e",
   "metadata": {},
   "outputs": [
    {
     "data": {
      "text/plain": [
       "['foo', 'bar', 'baz', 'qux', 'quux', 'corge']"
      ]
     },
     "execution_count": 39,
     "metadata": {},
     "output_type": "execute_result"
    }
   ],
   "source": [
    "a"
   ]
  },
  {
   "cell_type": "code",
   "execution_count": 40,
   "id": "7f60e8bd-3ec6-4a1a-ab42-a1272b017543",
   "metadata": {},
   "outputs": [
    {
     "data": {
      "text/plain": [
       "True"
      ]
     },
     "execution_count": 40,
     "metadata": {},
     "output_type": "execute_result"
    }
   ],
   "source": [
    "'qux' in a"
   ]
  },
  {
   "cell_type": "code",
   "execution_count": 41,
   "id": "354dbe8f-9fa0-4c7c-a9cd-e32744514209",
   "metadata": {},
   "outputs": [
    {
     "data": {
      "text/plain": [
       "True"
      ]
     },
     "execution_count": 41,
     "metadata": {},
     "output_type": "execute_result"
    }
   ],
   "source": [
    "'thud' not in a"
   ]
  },
  {
   "cell_type": "code",
   "execution_count": 42,
   "id": "0286fd97-a38a-44b3-abda-bd775737647d",
   "metadata": {},
   "outputs": [
    {
     "data": {
      "text/plain": [
       "['foo', 'bar', 'baz', 'qux', 'quux', 'corge']"
      ]
     },
     "execution_count": 42,
     "metadata": {},
     "output_type": "execute_result"
    }
   ],
   "source": [
    "a"
   ]
  },
  {
   "cell_type": "code",
   "execution_count": 43,
   "id": "0cc2e526-120a-4b1f-9bd5-004ed3ab6e5b",
   "metadata": {},
   "outputs": [
    {
     "data": {
      "text/plain": [
       "['foo', 'bar', 'baz', 'qux', 'quux', 'corge', 'grault', 'garply']"
      ]
     },
     "execution_count": 43,
     "metadata": {},
     "output_type": "execute_result"
    }
   ],
   "source": [
    "a + ['grault', 'garply']"
   ]
  },
  {
   "cell_type": "code",
   "execution_count": 44,
   "id": "1889e1fd-4115-4baf-a520-73a6935b0f18",
   "metadata": {},
   "outputs": [
    {
     "data": {
      "text/plain": [
       "['foo',\n",
       " 'bar',\n",
       " 'baz',\n",
       " 'qux',\n",
       " 'quux',\n",
       " 'corge',\n",
       " 'foo',\n",
       " 'bar',\n",
       " 'baz',\n",
       " 'qux',\n",
       " 'quux',\n",
       " 'corge']"
      ]
     },
     "execution_count": 44,
     "metadata": {},
     "output_type": "execute_result"
    }
   ],
   "source": [
    "a * 2"
   ]
  },
  {
   "cell_type": "code",
   "execution_count": 46,
   "id": "1ba04e99-a31e-4852-8a83-58b72bec15f6",
   "metadata": {},
   "outputs": [
    {
     "data": {
      "text/plain": [
       "['foo', 'bar', 'baz', 'qux', 'quux', 'corge']"
      ]
     },
     "execution_count": 46,
     "metadata": {},
     "output_type": "execute_result"
    }
   ],
   "source": [
    "a"
   ]
  },
  {
   "cell_type": "code",
   "execution_count": 47,
   "id": "3aea87f8-564c-4502-8b95-eaf8c00bf6b0",
   "metadata": {},
   "outputs": [
    {
     "data": {
      "text/plain": [
       "6"
      ]
     },
     "execution_count": 47,
     "metadata": {},
     "output_type": "execute_result"
    }
   ],
   "source": [
    "len(a)"
   ]
  },
  {
   "cell_type": "code",
   "execution_count": 48,
   "id": "6829f692-7bb4-4bc9-be25-01c854acf8f7",
   "metadata": {},
   "outputs": [
    {
     "data": {
      "text/plain": [
       "'bar'"
      ]
     },
     "execution_count": 48,
     "metadata": {},
     "output_type": "execute_result"
    }
   ],
   "source": [
    "min(a)"
   ]
  },
  {
   "cell_type": "code",
   "execution_count": 49,
   "id": "441676cd-5f3a-4f0f-ac26-3f1ff42a2364",
   "metadata": {},
   "outputs": [
    {
     "data": {
      "text/plain": [
       "'qux'"
      ]
     },
     "execution_count": 49,
     "metadata": {},
     "output_type": "execute_result"
    }
   ],
   "source": [
    "max(a)"
   ]
  },
  {
   "cell_type": "markdown",
   "id": "1598c1dd-e755-4ee9-b681-e8531c28abad",
   "metadata": {},
   "source": [
    "#### in the above examples, lists are assigned to a variable, but we can operate on list literals as well:"
   ]
  },
  {
   "cell_type": "code",
   "execution_count": 50,
   "id": "1fb932c9-b3dd-4735-884c-c7e6dbb37d11",
   "metadata": {},
   "outputs": [
    {
     "data": {
      "text/plain": [
       "'baz'"
      ]
     },
     "execution_count": 50,
     "metadata": {},
     "output_type": "execute_result"
    }
   ],
   "source": [
    "['foo', 'bar', 'baz', 'qux', 'quux', 'corge'][2]"
   ]
  },
  {
   "cell_type": "code",
   "execution_count": 51,
   "id": "41d4d1e6-430f-4891-ab64-ae70b00283a1",
   "metadata": {},
   "outputs": [
    {
     "data": {
      "text/plain": [
       "['corge', 'quux', 'qux', 'baz', 'bar', 'foo']"
      ]
     },
     "execution_count": 51,
     "metadata": {},
     "output_type": "execute_result"
    }
   ],
   "source": [
    "['foo', 'bar', 'baz', 'qux', 'quux', 'corge'][::-1]"
   ]
  },
  {
   "cell_type": "code",
   "execution_count": 52,
   "id": "863fdc4b-8a95-403e-93e3-0e6ef841883d",
   "metadata": {},
   "outputs": [
    {
     "data": {
      "text/plain": [
       "True"
      ]
     },
     "execution_count": 52,
     "metadata": {},
     "output_type": "execute_result"
    }
   ],
   "source": [
    "'quux' in ['foo', 'bar', 'baz', 'qux', 'quux', 'corge']"
   ]
  },
  {
   "cell_type": "code",
   "execution_count": 53,
   "id": "f5465aab-248a-4820-bcc1-5b4f5cba228c",
   "metadata": {},
   "outputs": [
    {
     "data": {
      "text/plain": [
       "['foo', 'bar', 'baz', 'qux', 'quux', 'corge']"
      ]
     },
     "execution_count": 53,
     "metadata": {},
     "output_type": "execute_result"
    }
   ],
   "source": [
    "['foo', 'bar', 'baz'] + ['qux', 'quux', 'corge']"
   ]
  },
  {
   "cell_type": "code",
   "execution_count": 54,
   "id": "d65484ca-fb96-4c0e-acac-fdffa79ed703",
   "metadata": {},
   "outputs": [
    {
     "data": {
      "text/plain": [
       "6"
      ]
     },
     "execution_count": 54,
     "metadata": {},
     "output_type": "execute_result"
    }
   ],
   "source": [
    "len(['foo', 'bar', 'baz', 'qux', 'quux', 'corge'][::-1])"
   ]
  },
  {
   "cell_type": "code",
   "execution_count": 55,
   "id": "f6cfa520-dd9d-4058-a011-ef7cfa81db85",
   "metadata": {},
   "outputs": [
    {
     "data": {
      "text/plain": [
       "'.thgir eb tsum ti ,ti syas noelopaN edarmoC fI'"
      ]
     },
     "execution_count": 55,
     "metadata": {},
     "output_type": "execute_result"
    }
   ],
   "source": [
    "'If Comrade Napoleon says it, it must be right.'[::-1]"
   ]
  },
  {
   "cell_type": "markdown",
   "id": "9100831a-422f-417a-ac5c-9dda71beea05",
   "metadata": {
    "jp-MarkdownHeadingCollapsed": true,
    "tags": []
   },
   "source": [
    "### Lists Can Be Nested"
   ]
  },
  {
   "cell_type": "code",
   "execution_count": 56,
   "id": "a01ae1f2-33d9-459f-992e-7ebf9fa8c61a",
   "metadata": {},
   "outputs": [
    {
     "data": {
      "text/plain": [
       "['a', ['bb', ['ccc', 'ddd'], 'ee', 'ff'], 'g', ['hh', 'ii'], 'j']"
      ]
     },
     "execution_count": 56,
     "metadata": {},
     "output_type": "execute_result"
    }
   ],
   "source": [
    "x = ['a', ['bb', ['ccc', 'ddd'], 'ee', 'ff'], 'g', ['hh', 'ii'], 'j']\n",
    "x"
   ]
  },
  {
   "cell_type": "code",
   "execution_count": 57,
   "id": "fea23ccd-6a84-40c7-9cad-58e37654ca85",
   "metadata": {},
   "outputs": [
    {
     "name": "stdout",
     "output_type": "stream",
     "text": [
      "a g j\n"
     ]
    }
   ],
   "source": [
    "print(x[0], x[2], x[4])"
   ]
  },
  {
   "cell_type": "code",
   "execution_count": 58,
   "id": "67be3317-4127-48c2-ae8e-dbf067fffcc4",
   "metadata": {},
   "outputs": [
    {
     "data": {
      "text/plain": [
       "['bb', ['ccc', 'ddd'], 'ee', 'ff']"
      ]
     },
     "execution_count": 58,
     "metadata": {},
     "output_type": "execute_result"
    }
   ],
   "source": [
    "x[1]"
   ]
  },
  {
   "cell_type": "code",
   "execution_count": 59,
   "id": "4afb9c3b-23b7-46b0-bc73-2d3f6072608a",
   "metadata": {},
   "outputs": [
    {
     "data": {
      "text/plain": [
       "['hh', 'ii']"
      ]
     },
     "execution_count": 59,
     "metadata": {},
     "output_type": "execute_result"
    }
   ],
   "source": [
    "x[3]"
   ]
  },
  {
   "cell_type": "markdown",
   "id": "743186f6-4fa2-420e-b611-39d471f4447a",
   "metadata": {},
   "source": [
    "#### to access the items in a sublist, append an additional index:"
   ]
  },
  {
   "cell_type": "code",
   "execution_count": 60,
   "id": "7296ee67-7261-467f-bca5-87bb18a2b020",
   "metadata": {},
   "outputs": [
    {
     "data": {
      "text/plain": [
       "['bb', ['ccc', 'ddd'], 'ee', 'ff']"
      ]
     },
     "execution_count": 60,
     "metadata": {},
     "output_type": "execute_result"
    }
   ],
   "source": [
    "x[1]"
   ]
  },
  {
   "cell_type": "code",
   "execution_count": 61,
   "id": "f4396bd2-fdde-42ec-a110-e2db320cc841",
   "metadata": {},
   "outputs": [
    {
     "data": {
      "text/plain": [
       "'bb'"
      ]
     },
     "execution_count": 61,
     "metadata": {},
     "output_type": "execute_result"
    }
   ],
   "source": [
    "x[1][0]"
   ]
  },
  {
   "cell_type": "code",
   "execution_count": 62,
   "id": "12dcc2f3-9a3a-42bc-a85f-c8db24d07978",
   "metadata": {},
   "outputs": [
    {
     "data": {
      "text/plain": [
       "['ccc', 'ddd']"
      ]
     },
     "execution_count": 62,
     "metadata": {},
     "output_type": "execute_result"
    }
   ],
   "source": [
    "x[1][1]"
   ]
  },
  {
   "cell_type": "code",
   "execution_count": 63,
   "id": "7a4a75b7-cfac-4ce0-a574-f58c16c63bdf",
   "metadata": {},
   "outputs": [
    {
     "data": {
      "text/plain": [
       "'ee'"
      ]
     },
     "execution_count": 63,
     "metadata": {},
     "output_type": "execute_result"
    }
   ],
   "source": [
    "x[1][2]"
   ]
  },
  {
   "cell_type": "code",
   "execution_count": 64,
   "id": "085c4b5e-8cee-45f8-b045-d6c5e9b08aa2",
   "metadata": {},
   "outputs": [
    {
     "data": {
      "text/plain": [
       "'ff'"
      ]
     },
     "execution_count": 64,
     "metadata": {},
     "output_type": "execute_result"
    }
   ],
   "source": [
    "x[1][3]"
   ]
  },
  {
   "cell_type": "code",
   "execution_count": 65,
   "id": "fda9e610-0f1d-46e9-8978-da3e893be575",
   "metadata": {},
   "outputs": [
    {
     "data": {
      "text/plain": [
       "['hh', 'ii']"
      ]
     },
     "execution_count": 65,
     "metadata": {},
     "output_type": "execute_result"
    }
   ],
   "source": [
    "x[3]"
   ]
  },
  {
   "cell_type": "code",
   "execution_count": 66,
   "id": "1406ee7f-8e42-45c2-abdd-e52a6a5c1580",
   "metadata": {},
   "outputs": [
    {
     "name": "stdout",
     "output_type": "stream",
     "text": [
      "hh ii\n"
     ]
    }
   ],
   "source": [
    "print(x[3][0], x[3][1])"
   ]
  },
  {
   "cell_type": "code",
   "execution_count": 67,
   "id": "ead01919-244a-45ba-9c1c-e0454d4d3d9f",
   "metadata": {},
   "outputs": [
    {
     "data": {
      "text/plain": [
       "['ccc', 'ddd']"
      ]
     },
     "execution_count": 67,
     "metadata": {},
     "output_type": "execute_result"
    }
   ],
   "source": [
    "x[1][1]"
   ]
  },
  {
   "cell_type": "code",
   "execution_count": 68,
   "id": "158e5de0-2c8d-447b-8911-394903c7d05e",
   "metadata": {},
   "outputs": [
    {
     "name": "stdout",
     "output_type": "stream",
     "text": [
      "ccc ddd\n"
     ]
    }
   ],
   "source": [
    "print(x[1][1][0], x[1][1][1])"
   ]
  },
  {
   "cell_type": "markdown",
   "id": "21978f55-1f95-445c-b619-b1a3b2808dc3",
   "metadata": {},
   "source": [
    "#### can slice sublists:"
   ]
  },
  {
   "cell_type": "code",
   "execution_count": 69,
   "id": "37eab165-e33e-4ae6-b616-8fb53ee6ddbb",
   "metadata": {},
   "outputs": [
    {
     "data": {
      "text/plain": [
       "'ddd'"
      ]
     },
     "execution_count": 69,
     "metadata": {},
     "output_type": "execute_result"
    }
   ],
   "source": [
    "x[1][1][-1]"
   ]
  },
  {
   "cell_type": "code",
   "execution_count": 70,
   "id": "28d4a616-1710-422f-a366-b1d5c1a4220c",
   "metadata": {},
   "outputs": [
    {
     "data": {
      "text/plain": [
       "[['ccc', 'ddd'], 'ee']"
      ]
     },
     "execution_count": 70,
     "metadata": {},
     "output_type": "execute_result"
    }
   ],
   "source": [
    "x[1][1:3]"
   ]
  },
  {
   "cell_type": "code",
   "execution_count": 71,
   "id": "d2ad5584-a3f0-4442-902e-0edabfd2c954",
   "metadata": {},
   "outputs": [
    {
     "data": {
      "text/plain": [
       "['ii', 'hh']"
      ]
     },
     "execution_count": 71,
     "metadata": {},
     "output_type": "execute_result"
    }
   ],
   "source": [
    "x[3][::-1]"
   ]
  },
  {
   "cell_type": "markdown",
   "id": "37a5df29-4e4c-49c3-977b-0b0bcd616468",
   "metadata": {},
   "source": [
    "#### operators and functions only apply to the list level you specify; they are not recursive:"
   ]
  },
  {
   "cell_type": "code",
   "execution_count": 72,
   "id": "1b2cc679-d47f-4b0f-b6cc-75a8aca1506a",
   "metadata": {},
   "outputs": [
    {
     "data": {
      "text/plain": [
       "['a', ['bb', ['ccc', 'ddd'], 'ee', 'ff'], 'g', ['hh', 'ii'], 'j']"
      ]
     },
     "execution_count": 72,
     "metadata": {},
     "output_type": "execute_result"
    }
   ],
   "source": [
    "x"
   ]
  },
  {
   "cell_type": "code",
   "execution_count": 73,
   "id": "c058a683-e5b6-4ef7-b0ba-ea8f58d195fc",
   "metadata": {},
   "outputs": [
    {
     "data": {
      "text/plain": [
       "5"
      ]
     },
     "execution_count": 73,
     "metadata": {},
     "output_type": "execute_result"
    }
   ],
   "source": [
    "len(x)"
   ]
  },
  {
   "cell_type": "code",
   "execution_count": 74,
   "id": "2ca035d9-fd8d-450d-be5d-4ac9e4551582",
   "metadata": {},
   "outputs": [
    {
     "data": {
      "text/plain": [
       "'a'"
      ]
     },
     "execution_count": 74,
     "metadata": {},
     "output_type": "execute_result"
    }
   ],
   "source": [
    "x[0]"
   ]
  },
  {
   "cell_type": "code",
   "execution_count": 75,
   "id": "e8d20028-edda-4a47-a6d5-a797d509cdb6",
   "metadata": {},
   "outputs": [
    {
     "data": {
      "text/plain": [
       "['bb', ['ccc', 'ddd'], 'ee', 'ff']"
      ]
     },
     "execution_count": 75,
     "metadata": {},
     "output_type": "execute_result"
    }
   ],
   "source": [
    "x[1]"
   ]
  },
  {
   "cell_type": "code",
   "execution_count": 76,
   "id": "02da6664-69e9-4849-8845-b7e7bc737183",
   "metadata": {},
   "outputs": [
    {
     "data": {
      "text/plain": [
       "'g'"
      ]
     },
     "execution_count": 76,
     "metadata": {},
     "output_type": "execute_result"
    }
   ],
   "source": [
    "x[2]"
   ]
  },
  {
   "cell_type": "code",
   "execution_count": 77,
   "id": "1cf40690-c665-454d-a5f9-84f1e31c2a45",
   "metadata": {},
   "outputs": [
    {
     "data": {
      "text/plain": [
       "['hh', 'ii']"
      ]
     },
     "execution_count": 77,
     "metadata": {},
     "output_type": "execute_result"
    }
   ],
   "source": [
    "x[3]"
   ]
  },
  {
   "cell_type": "code",
   "execution_count": 78,
   "id": "220007ba-b9a8-4604-b37e-026e156bba15",
   "metadata": {},
   "outputs": [
    {
     "data": {
      "text/plain": [
       "'j'"
      ]
     },
     "execution_count": 78,
     "metadata": {},
     "output_type": "execute_result"
    }
   ],
   "source": [
    "x[4]"
   ]
  },
  {
   "cell_type": "code",
   "execution_count": 79,
   "id": "099f9dc2-1e59-42d8-8683-e61f03ac5106",
   "metadata": {},
   "outputs": [
    {
     "data": {
      "text/plain": [
       "False"
      ]
     },
     "execution_count": 79,
     "metadata": {},
     "output_type": "execute_result"
    }
   ],
   "source": [
    "'ddd' in x"
   ]
  },
  {
   "cell_type": "code",
   "execution_count": 80,
   "id": "3236c1fc-d292-4bb1-8c87-3c2abc911a8c",
   "metadata": {},
   "outputs": [
    {
     "data": {
      "text/plain": [
       "False"
      ]
     },
     "execution_count": 80,
     "metadata": {},
     "output_type": "execute_result"
    }
   ],
   "source": [
    "'ddd' in x[1]"
   ]
  },
  {
   "cell_type": "code",
   "execution_count": 81,
   "id": "853ab434-ad77-4416-adcb-f0f0359c2410",
   "metadata": {},
   "outputs": [
    {
     "data": {
      "text/plain": [
       "True"
      ]
     },
     "execution_count": 81,
     "metadata": {},
     "output_type": "execute_result"
    }
   ],
   "source": [
    "'ddd' in x[1][1]"
   ]
  },
  {
   "cell_type": "markdown",
   "id": "78386d57-1da5-4783-98f9-f4035762f51b",
   "metadata": {
    "jp-MarkdownHeadingCollapsed": true,
    "tags": []
   },
   "source": [
    "### Lists Are Mutable"
   ]
  },
  {
   "cell_type": "markdown",
   "id": "ac95e02b-60aa-4c5b-9e97-2842bbf38f0f",
   "metadata": {
    "jp-MarkdownHeadingCollapsed": true,
    "tags": []
   },
   "source": [
    "#### Modifying a Single List Value"
   ]
  },
  {
   "cell_type": "code",
   "execution_count": 1,
   "id": "01f12b72-181c-4f26-9c82-c4e6ee7f478a",
   "metadata": {},
   "outputs": [
    {
     "data": {
      "text/plain": [
       "['foo', 'bar', 'baz', 'qux', 'quux', 'corge']"
      ]
     },
     "execution_count": 1,
     "metadata": {},
     "output_type": "execute_result"
    }
   ],
   "source": [
    "a = ['foo', 'bar', 'baz', 'qux', 'quux', 'corge']\n",
    "a"
   ]
  },
  {
   "cell_type": "code",
   "execution_count": 2,
   "id": "a1919628-bfbe-4be8-8279-3e8890e4bfdc",
   "metadata": {},
   "outputs": [
    {
     "data": {
      "text/plain": [
       "['foo', 'bar', 10, 'qux', 'quux', 20]"
      ]
     },
     "execution_count": 2,
     "metadata": {},
     "output_type": "execute_result"
    }
   ],
   "source": [
    "a[2] = 10\n",
    "a[-1] = 20\n",
    "a"
   ]
  },
  {
   "cell_type": "markdown",
   "id": "eddcedb2-e26d-4e1c-b738-8fb3863815e9",
   "metadata": {},
   "source": [
    "***"
   ]
  },
  {
   "cell_type": "markdown",
   "id": "1e03763c-8fd0-4d96-9583-35a8936f0cb6",
   "metadata": {},
   "source": [
    "Cannot be done with a string:"
   ]
  },
  {
   "cell_type": "code",
   "execution_count": 4,
   "id": "bd8b5873-a593-4b9e-84ac-ecbc26f32446",
   "metadata": {},
   "outputs": [
    {
     "ename": "TypeError",
     "evalue": "'str' object does not support item assignment",
     "output_type": "error",
     "traceback": [
      "\u001b[0;31m---------------------------------------------------------------------------\u001b[0m",
      "\u001b[0;31mTypeError\u001b[0m                                 Traceback (most recent call last)",
      "\u001b[0;32m/var/folders/yl/ftfrcz0s4nd_pncmmknzn7440000gn/T/ipykernel_66774/2657306311.py\u001b[0m in \u001b[0;36m<module>\u001b[0;34m\u001b[0m\n\u001b[1;32m      1\u001b[0m \u001b[0ms\u001b[0m \u001b[0;34m=\u001b[0m \u001b[0;34m'foobarbaz'\u001b[0m\u001b[0;34m\u001b[0m\u001b[0;34m\u001b[0m\u001b[0m\n\u001b[0;32m----> 2\u001b[0;31m \u001b[0ms\u001b[0m\u001b[0;34m[\u001b[0m\u001b[0;36m2\u001b[0m\u001b[0;34m]\u001b[0m \u001b[0;34m=\u001b[0m \u001b[0;34m'x'\u001b[0m\u001b[0;34m\u001b[0m\u001b[0;34m\u001b[0m\u001b[0m\n\u001b[0m",
      "\u001b[0;31mTypeError\u001b[0m: 'str' object does not support item assignment"
     ]
    }
   ],
   "source": [
    "s = 'foobarbaz'\n",
    "s[2] = 'x'"
   ]
  },
  {
   "cell_type": "markdown",
   "id": "69b136a2-7045-46de-a7e7-f450ec494425",
   "metadata": {},
   "source": [
    "***"
   ]
  },
  {
   "cell_type": "markdown",
   "id": "1b038391-7e69-4f2c-9e80-3611a7bb8df3",
   "metadata": {},
   "source": [
    "Can be deleted with the **del** command:"
   ]
  },
  {
   "cell_type": "code",
   "execution_count": 9,
   "id": "b263be16-cf25-4666-8ff6-3457acccc0bd",
   "metadata": {},
   "outputs": [],
   "source": [
    "a = ['foo', 'bar', 'baz', 'qux', 'quux', 'corge']"
   ]
  },
  {
   "cell_type": "code",
   "execution_count": 10,
   "id": "53bfa72f-99a1-4c89-b5c1-8b3637c21731",
   "metadata": {},
   "outputs": [
    {
     "data": {
      "text/plain": [
       "['foo', 'bar', 'baz', 'quux', 'corge']"
      ]
     },
     "execution_count": 10,
     "metadata": {},
     "output_type": "execute_result"
    }
   ],
   "source": [
    "del a[3]\n",
    "a"
   ]
  },
  {
   "cell_type": "markdown",
   "id": "7c0c7b15-c5fc-4f12-b97a-d414b2f57305",
   "metadata": {
    "jp-MarkdownHeadingCollapsed": true,
    "tags": []
   },
   "source": [
    "#### Modifying Multiple List Values:"
   ]
  },
  {
   "cell_type": "markdown",
   "id": "8edc42c9-36ed-4012-af2a-b243cf667d41",
   "metadata": {},
   "source": [
    "Can be done with slice assignment:"
   ]
  },
  {
   "cell_type": "code",
   "execution_count": 14,
   "id": "b5637633-c5fc-41ab-ad05-a0ca9146810a",
   "metadata": {},
   "outputs": [],
   "source": [
    "# a[m:n] = <iterable>"
   ]
  },
  {
   "cell_type": "code",
   "execution_count": 18,
   "id": "a4e674b5-54f7-4804-be61-c66bd259540c",
   "metadata": {},
   "outputs": [
    {
     "data": {
      "text/plain": [
       "['bar', 'baz', 'qux']"
      ]
     },
     "execution_count": 18,
     "metadata": {},
     "output_type": "execute_result"
    }
   ],
   "source": [
    "a = ['foo', 'bar', 'baz', 'qux', 'quux', 'corge']\n",
    "\n",
    "a[1:4]"
   ]
  },
  {
   "cell_type": "code",
   "execution_count": 19,
   "id": "8ba3e06a-3a7f-4158-baeb-809510f56f3d",
   "metadata": {},
   "outputs": [
    {
     "data": {
      "text/plain": [
       "['foo', 1.1, 2.2, 3.3, 4.4, 5.5, 'quux', 'corge']"
      ]
     },
     "execution_count": 19,
     "metadata": {},
     "output_type": "execute_result"
    }
   ],
   "source": [
    "a[1:4] = [1.1, 2.2, 3.3, 4.4, 5.5]\n",
    "a"
   ]
  },
  {
   "cell_type": "code",
   "execution_count": 20,
   "id": "27c269b2-2ea1-4a16-bd09-38d4903ced80",
   "metadata": {},
   "outputs": [
    {
     "data": {
      "text/plain": [
       "[1.1, 2.2, 3.3, 4.4, 5.5]"
      ]
     },
     "execution_count": 20,
     "metadata": {},
     "output_type": "execute_result"
    }
   ],
   "source": [
    "a[1:6]"
   ]
  },
  {
   "cell_type": "code",
   "execution_count": 21,
   "id": "0be43d92-38f4-4547-9138-b4d8f4e4fade",
   "metadata": {},
   "outputs": [
    {
     "data": {
      "text/plain": [
       "['foo', 'Bark!', 'quux', 'corge']"
      ]
     },
     "execution_count": 21,
     "metadata": {},
     "output_type": "execute_result"
    }
   ],
   "source": [
    "a[1:6] = ['Bark!']\n",
    "a"
   ]
  },
  {
   "cell_type": "markdown",
   "id": "2088d49e-ce79-4d1e-84e2-e90e4b2c3d8a",
   "metadata": {},
   "source": [
    "***"
   ]
  },
  {
   "cell_type": "markdown",
   "id": "ee4a513d-8e3e-41ab-a822-a93d4ec9baa1",
   "metadata": {},
   "source": [
    "Can insert multiple elements in place of a single element:"
   ]
  },
  {
   "cell_type": "code",
   "execution_count": 27,
   "id": "af158514-7a39-48c5-b78f-0b831c9e04e8",
   "metadata": {},
   "outputs": [
    {
     "name": "stdout",
     "output_type": "stream",
     "text": [
      "[1, 2, 3]\n",
      "[1, 2.1, 2.2, 2.3, 3]\n"
     ]
    }
   ],
   "source": [
    "a = [1, 2, 3]\n",
    "print(a)\n",
    "a[1:2] = [2.1, 2.2, 2.3]\n",
    "print(a)"
   ]
  },
  {
   "cell_type": "markdown",
   "id": "deb94809-1a45-44c1-bbdf-f4fc34cf29ef",
   "metadata": {},
   "source": [
    "***"
   ]
  },
  {
   "cell_type": "markdown",
   "id": "d14613e5-13ca-4037-9c36-11842db47f4b",
   "metadata": {},
   "source": [
    "Can replace a single element with a list:"
   ]
  },
  {
   "cell_type": "code",
   "execution_count": 28,
   "id": "f687f0d9-6111-489d-862a-7bdbda240509",
   "metadata": {},
   "outputs": [
    {
     "data": {
      "text/plain": [
       "[1, [2.1, 2.2, 2.3], 3]"
      ]
     },
     "execution_count": 28,
     "metadata": {},
     "output_type": "execute_result"
    }
   ],
   "source": [
    "a = [1, 2, 3]\n",
    "a[1] = [2.1, 2.2, 2.3]\n",
    "a"
   ]
  },
  {
   "cell_type": "markdown",
   "id": "41ea94df-f50a-457b-8c1d-8cec26aff420",
   "metadata": {},
   "source": [
    "***"
   ]
  },
  {
   "cell_type": "markdown",
   "id": "282a00ed-3ace-4178-9cca-ea5f9369d457",
   "metadata": {},
   "source": [
    "Can also insert elements without removing any:"
   ]
  },
  {
   "cell_type": "code",
   "execution_count": 29,
   "id": "3428cbc6-d6eb-469b-b193-42b8bf19a421",
   "metadata": {},
   "outputs": [
    {
     "data": {
      "text/plain": [
       "[1, 2, 3, 4, 5, 6, 7, 8]"
      ]
     },
     "execution_count": 29,
     "metadata": {},
     "output_type": "execute_result"
    }
   ],
   "source": [
    "a = [1, 2, 7, 8]\n",
    "a[2:2] = [3, 4, 5, 6]\n",
    "a"
   ]
  },
  {
   "cell_type": "markdown",
   "id": "e89785aa-d942-45a2-9be9-ba0d35ef4165",
   "metadata": {},
   "source": [
    "***"
   ]
  },
  {
   "cell_type": "markdown",
   "id": "b078615f-ed29-4036-8b4a-18c0bf5d4f24",
   "metadata": {},
   "source": [
    "Can also delete by assigning an empty list element or using **del**:"
   ]
  },
  {
   "cell_type": "code",
   "execution_count": 30,
   "id": "c3df683f-2a3e-425d-986b-c2019b6111b4",
   "metadata": {},
   "outputs": [
    {
     "data": {
      "text/plain": [
       "['foo', 'corge']"
      ]
     },
     "execution_count": 30,
     "metadata": {},
     "output_type": "execute_result"
    }
   ],
   "source": [
    "a = ['foo', 'bar', 'baz', 'qux', 'quux', 'corge']\n",
    "a[1:5] = []\n",
    "a"
   ]
  },
  {
   "cell_type": "code",
   "execution_count": 31,
   "id": "9ed03446-8e29-4a12-8c5f-024f030ed3c1",
   "metadata": {},
   "outputs": [
    {
     "data": {
      "text/plain": [
       "['foo', 'corge']"
      ]
     },
     "execution_count": 31,
     "metadata": {},
     "output_type": "execute_result"
    }
   ],
   "source": [
    "a = ['foo', 'bar', 'baz', 'qux', 'quux', 'corge']\n",
    "del a[1:5]\n",
    "a"
   ]
  },
  {
   "cell_type": "markdown",
   "id": "111d6691-4dd8-409b-b441-ed8d22ba9924",
   "metadata": {
    "jp-MarkdownHeadingCollapsed": true,
    "tags": []
   },
   "source": [
    "#### Prepending or Appending Items to a List\n",
    "Additional items can be added to the start or end of a list using the + concatenation operator or the += augmented assignement operator:"
   ]
  },
  {
   "cell_type": "code",
   "execution_count": 36,
   "id": "ba1c458b-8258-451d-a716-5abb5d81a082",
   "metadata": {},
   "outputs": [
    {
     "data": {
      "text/plain": [
       "['foo', 'bar', 'baz', 'qux', 'quux', 'corge']"
      ]
     },
     "execution_count": 36,
     "metadata": {},
     "output_type": "execute_result"
    }
   ],
   "source": [
    "a = ['foo', 'bar', 'baz', 'qux', 'quux', 'corge']\n",
    "a"
   ]
  },
  {
   "cell_type": "code",
   "execution_count": 37,
   "id": "7692e505-7254-42c0-a432-143b128dc576",
   "metadata": {},
   "outputs": [
    {
     "data": {
      "text/plain": [
       "['foo', 'bar', 'baz', 'qux', 'quux', 'corge', 'grault', 'garply']"
      ]
     },
     "execution_count": 37,
     "metadata": {},
     "output_type": "execute_result"
    }
   ],
   "source": [
    "a += ['grault', 'garply']\n",
    "a"
   ]
  },
  {
   "cell_type": "code",
   "execution_count": 38,
   "id": "e42ef3b7-4a8c-401b-9d67-5c5a23013c24",
   "metadata": {},
   "outputs": [
    {
     "data": {
      "text/plain": [
       "[10, 20, 'foo', 'bar', 'baz', 'qux', 'quux', 'corge']"
      ]
     },
     "execution_count": 38,
     "metadata": {},
     "output_type": "execute_result"
    }
   ],
   "source": [
    "a = ['foo', 'bar', 'baz', 'qux', 'quux', 'corge']\n",
    "a = [10, 20] + a\n",
    "a"
   ]
  },
  {
   "cell_type": "markdown",
   "id": "741206fe-4c6a-4856-9206-085363eadd31",
   "metadata": {},
   "source": [
    "***"
   ]
  },
  {
   "cell_type": "markdown",
   "id": "e24ce364-ce37-4511-849a-129d008891ca",
   "metadata": {},
   "source": [
    "Note that a list must be concatenated with another list:"
   ]
  },
  {
   "cell_type": "code",
   "execution_count": 39,
   "id": "d2bd875a-2f09-4370-b266-3972dba84664",
   "metadata": {},
   "outputs": [
    {
     "ename": "TypeError",
     "evalue": "'int' object is not iterable",
     "output_type": "error",
     "traceback": [
      "\u001b[0;31m---------------------------------------------------------------------------\u001b[0m",
      "\u001b[0;31mTypeError\u001b[0m                                 Traceback (most recent call last)",
      "\u001b[0;32m/var/folders/yl/ftfrcz0s4nd_pncmmknzn7440000gn/T/ipykernel_66774/1265457535.py\u001b[0m in \u001b[0;36m<module>\u001b[0;34m\u001b[0m\n\u001b[1;32m      1\u001b[0m \u001b[0ma\u001b[0m \u001b[0;34m=\u001b[0m \u001b[0;34m[\u001b[0m\u001b[0;34m'foo'\u001b[0m\u001b[0;34m,\u001b[0m \u001b[0;34m'bar'\u001b[0m\u001b[0;34m,\u001b[0m \u001b[0;34m'baz'\u001b[0m\u001b[0;34m,\u001b[0m \u001b[0;34m'qux'\u001b[0m\u001b[0;34m,\u001b[0m \u001b[0;34m'quux'\u001b[0m\u001b[0;34m,\u001b[0m \u001b[0;34m'corge'\u001b[0m\u001b[0;34m]\u001b[0m\u001b[0;34m\u001b[0m\u001b[0;34m\u001b[0m\u001b[0m\n\u001b[0;32m----> 2\u001b[0;31m \u001b[0ma\u001b[0m \u001b[0;34m+=\u001b[0m \u001b[0;36m20\u001b[0m\u001b[0;34m\u001b[0m\u001b[0;34m\u001b[0m\u001b[0m\n\u001b[0m",
      "\u001b[0;31mTypeError\u001b[0m: 'int' object is not iterable"
     ]
    }
   ],
   "source": [
    "a = ['foo', 'bar', 'baz', 'qux', 'quux', 'corge']\n",
    "a += 20"
   ]
  },
  {
   "cell_type": "code",
   "execution_count": 40,
   "id": "588960b9-59b3-4187-898f-bdecdb255cd1",
   "metadata": {},
   "outputs": [
    {
     "data": {
      "text/plain": [
       "['foo', 'bar', 'baz', 'qux', 'quux', 'corge', 20]"
      ]
     },
     "execution_count": 40,
     "metadata": {},
     "output_type": "execute_result"
    }
   ],
   "source": [
    "a += [20]\n",
    "a"
   ]
  },
  {
   "cell_type": "markdown",
   "id": "2988ecc4-a184-48ef-80b7-383b0745c3b0",
   "metadata": {
    "jp-MarkdownHeadingCollapsed": true,
    "tags": []
   },
   "source": [
    "#### Methods That Modify a List"
   ]
  },
  {
   "cell_type": "markdown",
   "id": "3d19bdf7-583d-4152-8eea-2b79678a928a",
   "metadata": {
    "jp-MarkdownHeadingCollapsed": true,
    "tags": []
   },
   "source": [
    "##### a.append(\\<obj>)\n",
    "Appends an object to a list"
   ]
  },
  {
   "cell_type": "code",
   "execution_count": 41,
   "id": "69ead33a-4fbf-4288-b2b5-9245b74554db",
   "metadata": {},
   "outputs": [
    {
     "data": {
      "text/plain": [
       "['a', 'b', 123]"
      ]
     },
     "execution_count": 41,
     "metadata": {},
     "output_type": "execute_result"
    }
   ],
   "source": [
    "a = ['a', 'b']\n",
    "a.append(123)\n",
    "a"
   ]
  },
  {
   "cell_type": "markdown",
   "id": "66164744-7e8f-46fb-8d54-6948374bd130",
   "metadata": {},
   "source": [
    "**note:** list methods modify the target list; they do not return a new list"
   ]
  },
  {
   "cell_type": "code",
   "execution_count": 42,
   "id": "b1fda437-c82a-40f1-8963-6469390db93b",
   "metadata": {},
   "outputs": [
    {
     "name": "stdout",
     "output_type": "stream",
     "text": [
      "None\n"
     ]
    }
   ],
   "source": [
    "a = ['a', 'b']\n",
    "x = a.append(123)\n",
    "print(x)"
   ]
  },
  {
   "cell_type": "code",
   "execution_count": 43,
   "id": "eb4e7683-2a54-481f-8c78-7f6cc36d7419",
   "metadata": {},
   "outputs": [
    {
     "data": {
      "text/plain": [
       "['a', 'b', 123]"
      ]
     },
     "execution_count": 43,
     "metadata": {},
     "output_type": "execute_result"
    }
   ],
   "source": [
    "a"
   ]
  },
  {
   "cell_type": "markdown",
   "id": "3a8cba10-952e-43ee-948a-148b6dfa29c1",
   "metadata": {},
   "source": [
    "Notice the difference:"
   ]
  },
  {
   "cell_type": "code",
   "execution_count": 48,
   "id": "f102db24-33f3-4662-b2b5-76befbc9b3f1",
   "metadata": {},
   "outputs": [
    {
     "data": {
      "text/plain": [
       "['a', 'b', 1, 2, 3]"
      ]
     },
     "execution_count": 48,
     "metadata": {},
     "output_type": "execute_result"
    }
   ],
   "source": [
    "a = ['a', 'b']\n",
    "a = a + [1, 2, 3]\n",
    "a"
   ]
  },
  {
   "cell_type": "code",
   "execution_count": 49,
   "id": "7a1cb7fa-ba5a-42d6-bed7-ecefb8aca109",
   "metadata": {},
   "outputs": [
    {
     "data": {
      "text/plain": [
       "['a', 'b', [1, 2, 3]]"
      ]
     },
     "execution_count": 49,
     "metadata": {},
     "output_type": "execute_result"
    }
   ],
   "source": [
    "a = ['a', 'b']\n",
    "a.append([1, 2, 3])\n",
    "a"
   ]
  },
  {
   "cell_type": "code",
   "execution_count": 50,
   "id": "ec6e85ee-6bf8-48b5-8580-4f609709bb1a",
   "metadata": {},
   "outputs": [
    {
     "data": {
      "text/plain": [
       "['a', 'b', 'foo']"
      ]
     },
     "execution_count": 50,
     "metadata": {},
     "output_type": "execute_result"
    }
   ],
   "source": [
    "a = ['a', 'b']\n",
    "a.append('foo')\n",
    "a"
   ]
  },
  {
   "cell_type": "markdown",
   "id": "7c926f68-866d-4713-885a-506af0814c0e",
   "metadata": {
    "jp-MarkdownHeadingCollapsed": true,
    "tags": []
   },
   "source": [
    "##### a.extend(\\<iterable>)\n",
    "Extends a list with the objects from an interable  \n",
    "Behaves like the + operator:"
   ]
  },
  {
   "cell_type": "code",
   "execution_count": 51,
   "id": "b66e9942-5877-48f0-91f0-6ee689694b98",
   "metadata": {},
   "outputs": [
    {
     "data": {
      "text/plain": [
       "['a', 'b', 1, 2, 3]"
      ]
     },
     "execution_count": 51,
     "metadata": {},
     "output_type": "execute_result"
    }
   ],
   "source": [
    "a = ['a', 'b']\n",
    "a.extend([1, 2, 3])\n",
    "a"
   ]
  },
  {
   "cell_type": "code",
   "execution_count": 52,
   "id": "40e6d0f7-f2a7-4b58-a404-344f35b1a648",
   "metadata": {},
   "outputs": [
    {
     "data": {
      "text/plain": [
       "['a', 'b', 1, 2, 3]"
      ]
     },
     "execution_count": 52,
     "metadata": {},
     "output_type": "execute_result"
    }
   ],
   "source": [
    "a = ['a', 'b']\n",
    "a += [1, 2, 3]\n",
    "a"
   ]
  },
  {
   "cell_type": "markdown",
   "id": "214c9ef1-cc9c-4a11-b7ba-b545aae68f69",
   "metadata": {
    "jp-MarkdownHeadingCollapsed": true,
    "tags": []
   },
   "source": [
    "##### a.insert(\\<index>, \\<obj>)\n",
    "Inserts an object into a list:"
   ]
  },
  {
   "cell_type": "code",
   "execution_count": 53,
   "id": "0ed97752-236c-488f-a40a-7d5a4c9205c2",
   "metadata": {},
   "outputs": [
    {
     "data": {
      "text/plain": [
       "3.14159"
      ]
     },
     "execution_count": 53,
     "metadata": {},
     "output_type": "execute_result"
    }
   ],
   "source": [
    "a = ['foo', 'bar', 'baz', 'qux', 'quux', 'corge']\n",
    "a.insert(3, 3.14159)\n",
    "a[3]"
   ]
  },
  {
   "cell_type": "code",
   "execution_count": 54,
   "id": "3bc15818-8e1b-42f0-a3eb-0ad3a777f588",
   "metadata": {},
   "outputs": [
    {
     "data": {
      "text/plain": [
       "['foo', 'bar', 'baz', 3.14159, 'qux', 'quux', 'corge']"
      ]
     },
     "execution_count": 54,
     "metadata": {},
     "output_type": "execute_result"
    }
   ],
   "source": [
    "a"
   ]
  },
  {
   "cell_type": "markdown",
   "id": "45b034d0-9127-444e-a822-0024a459399e",
   "metadata": {
    "jp-MarkdownHeadingCollapsed": true,
    "tags": []
   },
   "source": [
    "##### a.remove(\\<obj>)\n",
    "Removes an object from a list"
   ]
  },
  {
   "cell_type": "code",
   "execution_count": 55,
   "id": "b8bde9ce-69e9-4f02-8dc2-fe011419455f",
   "metadata": {},
   "outputs": [
    {
     "data": {
      "text/plain": [
       "['foo', 'bar', 'qux', 'quux', 'corge']"
      ]
     },
     "execution_count": 55,
     "metadata": {},
     "output_type": "execute_result"
    }
   ],
   "source": [
    "a = ['foo', 'bar', 'baz', 'qux', 'quux', 'corge']\n",
    "a.remove('baz')\n",
    "a"
   ]
  },
  {
   "cell_type": "code",
   "execution_count": 56,
   "id": "b9000297-58de-45ea-b22c-ddcc01259a37",
   "metadata": {},
   "outputs": [
    {
     "ename": "ValueError",
     "evalue": "list.remove(x): x not in list",
     "output_type": "error",
     "traceback": [
      "\u001b[0;31m---------------------------------------------------------------------------\u001b[0m",
      "\u001b[0;31mValueError\u001b[0m                                Traceback (most recent call last)",
      "\u001b[0;32m/var/folders/yl/ftfrcz0s4nd_pncmmknzn7440000gn/T/ipykernel_66774/4059992866.py\u001b[0m in \u001b[0;36m<module>\u001b[0;34m\u001b[0m\n\u001b[0;32m----> 1\u001b[0;31m \u001b[0ma\u001b[0m\u001b[0;34m.\u001b[0m\u001b[0mremove\u001b[0m\u001b[0;34m(\u001b[0m\u001b[0;34m'Bark!'\u001b[0m\u001b[0;34m)\u001b[0m\u001b[0;34m\u001b[0m\u001b[0;34m\u001b[0m\u001b[0m\n\u001b[0m",
      "\u001b[0;31mValueError\u001b[0m: list.remove(x): x not in list"
     ]
    }
   ],
   "source": [
    "a.remove('Bark!')"
   ]
  },
  {
   "cell_type": "markdown",
   "id": "2559d82b-da53-4dbe-8936-040fd59137bb",
   "metadata": {
    "jp-MarkdownHeadingCollapsed": true,
    "tags": []
   },
   "source": [
    "##### a.pop(index=-1)\n",
    "Removes an element from a list:"
   ]
  },
  {
   "cell_type": "markdown",
   "id": "7680539d-d437-45ce-a047-8437c99ce87d",
   "metadata": {},
   "source": [
    "Differs from .remove() in two ways:\n",
    "- You specify the index of the item you wish to remove, as opposed to the object itself\n",
    "- The method returns a value: the item that was removed"
   ]
  },
  {
   "cell_type": "markdown",
   "id": "71d67dca-c882-49ce-bd47-1f3e07b1cccf",
   "metadata": {},
   "source": [
    "a.pop() without specifying the index removes the last item in the list"
   ]
  },
  {
   "cell_type": "code",
   "execution_count": 57,
   "id": "8d9695a8-05f7-4bb6-86eb-e53765c84d2e",
   "metadata": {},
   "outputs": [
    {
     "data": {
      "text/plain": [
       "['foo', 'bar', 'baz', 'qux', 'quux', 'corge']"
      ]
     },
     "execution_count": 57,
     "metadata": {},
     "output_type": "execute_result"
    }
   ],
   "source": [
    "a = ['foo', 'bar', 'baz', 'qux', 'quux', 'corge']\n",
    "a"
   ]
  },
  {
   "cell_type": "code",
   "execution_count": 58,
   "id": "74f7c2d3-d4da-4725-87a1-63f7f9c55e99",
   "metadata": {},
   "outputs": [
    {
     "data": {
      "text/plain": [
       "'corge'"
      ]
     },
     "execution_count": 58,
     "metadata": {},
     "output_type": "execute_result"
    }
   ],
   "source": [
    "a.pop()"
   ]
  },
  {
   "cell_type": "code",
   "execution_count": 59,
   "id": "7d0e36a2-a8b9-4347-b3aa-4deba6399351",
   "metadata": {},
   "outputs": [
    {
     "data": {
      "text/plain": [
       "['foo', 'bar', 'baz', 'qux', 'quux']"
      ]
     },
     "execution_count": 59,
     "metadata": {},
     "output_type": "execute_result"
    }
   ],
   "source": [
    "a"
   ]
  },
  {
   "cell_type": "code",
   "execution_count": 60,
   "id": "1f36b5c5-9382-4e90-9a8a-ac00a31db3eb",
   "metadata": {},
   "outputs": [
    {
     "data": {
      "text/plain": [
       "'bar'"
      ]
     },
     "execution_count": 60,
     "metadata": {},
     "output_type": "execute_result"
    }
   ],
   "source": [
    "a.pop(1)"
   ]
  },
  {
   "cell_type": "code",
   "execution_count": 61,
   "id": "bcb4cb10-8843-460f-aca6-b1a6aaa95bb4",
   "metadata": {},
   "outputs": [
    {
     "data": {
      "text/plain": [
       "['foo', 'baz', 'qux', 'quux']"
      ]
     },
     "execution_count": 61,
     "metadata": {},
     "output_type": "execute_result"
    }
   ],
   "source": [
    "a"
   ]
  },
  {
   "cell_type": "code",
   "execution_count": 62,
   "id": "574f6b97-e0df-4509-bad5-ed60327eec25",
   "metadata": {},
   "outputs": [
    {
     "data": {
      "text/plain": [
       "'qux'"
      ]
     },
     "execution_count": 62,
     "metadata": {},
     "output_type": "execute_result"
    }
   ],
   "source": [
    "a.pop(-2)"
   ]
  },
  {
   "cell_type": "code",
   "execution_count": 63,
   "id": "1cf5757d-82aa-4625-8547-2ba4c39c7a17",
   "metadata": {},
   "outputs": [
    {
     "data": {
      "text/plain": [
       "['foo', 'baz', 'quux']"
      ]
     },
     "execution_count": 63,
     "metadata": {},
     "output_type": "execute_result"
    }
   ],
   "source": [
    "a"
   ]
  },
  {
   "cell_type": "markdown",
   "id": "1551d62e-dcde-4528-8be9-da44343dbce6",
   "metadata": {},
   "source": [
    "### Lists Are Dynamic"
   ]
  },
  {
   "cell_type": "markdown",
   "id": "8a1d4f3d-f64f-489e-b9c0-4d8f13f6d7c7",
   "metadata": {},
   "source": [
    "When items are added to a list, it grows as needed:"
   ]
  },
  {
   "cell_type": "code",
   "execution_count": 64,
   "id": "c30a0904-6dc4-45c5-a80b-a528ea38ed62",
   "metadata": {},
   "outputs": [
    {
     "data": {
      "text/plain": [
       "['foo', 'bar', 'baz', 'qux', 'quux', 'corge']"
      ]
     },
     "execution_count": 64,
     "metadata": {},
     "output_type": "execute_result"
    }
   ],
   "source": [
    "a = ['foo', 'bar', 'baz', 'qux', 'quux', 'corge']\n",
    "a"
   ]
  },
  {
   "cell_type": "code",
   "execution_count": 65,
   "id": "177a6119-ff7b-47a7-9ff6-2a29fd11a9ae",
   "metadata": {},
   "outputs": [
    {
     "data": {
      "text/plain": [
       "['foo', 'bar', 1, 2, 3, 'baz', 'qux', 'quux', 'corge', 3.14519]"
      ]
     },
     "execution_count": 65,
     "metadata": {},
     "output_type": "execute_result"
    }
   ],
   "source": [
    "a[2:2] = [1, 2, 3]\n",
    "a += [3.14519]\n",
    "a"
   ]
  },
  {
   "cell_type": "markdown",
   "id": "86d490db-e21c-478f-9c9e-f6c5607a0346",
   "metadata": {},
   "source": [
    "Similarly, a list shrinks when removing items:"
   ]
  },
  {
   "cell_type": "code",
   "execution_count": 66,
   "id": "07a848f9-8867-41f9-91a2-ee0644183b7d",
   "metadata": {},
   "outputs": [
    {
     "data": {
      "text/plain": [
       "['foo', 'bar', 'baz', 'qux', 'quux', 'corge']"
      ]
     },
     "execution_count": 66,
     "metadata": {},
     "output_type": "execute_result"
    }
   ],
   "source": [
    "a = ['foo', 'bar', 'baz', 'qux', 'quux', 'corge']\n",
    "a"
   ]
  },
  {
   "cell_type": "code",
   "execution_count": 67,
   "id": "abc14960-37ec-4fe6-b6bc-c7bc8f2004d3",
   "metadata": {},
   "outputs": [
    {
     "data": {
      "text/plain": [
       "['bar', 'qux', 'quux', 'corge']"
      ]
     },
     "execution_count": 67,
     "metadata": {},
     "output_type": "execute_result"
    }
   ],
   "source": [
    "a[2:3] = []\n",
    "del a[0]\n",
    "a"
   ]
  },
  {
   "cell_type": "markdown",
   "id": "9365103e-caff-4bc2-a48c-6a47ca7b2c67",
   "metadata": {
    "tags": []
   },
   "source": [
    "# Python Tuples\n",
    "Another **type** that is an ordered collection of objects, called a tuple"
   ]
  },
  {
   "cell_type": "markdown",
   "id": "f375691e-be0e-49b9-98d0-fbdf34ae8ffe",
   "metadata": {},
   "source": [
    "Tuples are identical to lists, except for the following properties:\n",
    "- Tuples are defined by enclosing the elements in parenthesis (()) instead of square brackets ([])\n",
    "- Tuples are immutable"
   ]
  },
  {
   "cell_type": "code",
   "execution_count": 68,
   "id": "ab00c32e-8bd3-4040-9fc0-e154c99c779d",
   "metadata": {},
   "outputs": [
    {
     "data": {
      "text/plain": [
       "('foo', 'bar', 'baz', 'qux', 'quux', 'corge')"
      ]
     },
     "execution_count": 68,
     "metadata": {},
     "output_type": "execute_result"
    }
   ],
   "source": [
    "t = ('foo', 'bar', 'baz', 'qux', 'quux', 'corge')\n",
    "t"
   ]
  },
  {
   "cell_type": "code",
   "execution_count": 69,
   "id": "40041014-c542-4bf3-9ada-bb0e1edc7dd6",
   "metadata": {},
   "outputs": [
    {
     "data": {
      "text/plain": [
       "'foo'"
      ]
     },
     "execution_count": 69,
     "metadata": {},
     "output_type": "execute_result"
    }
   ],
   "source": [
    "t[0]"
   ]
  },
  {
   "cell_type": "code",
   "execution_count": 70,
   "id": "830e96d5-2651-4d41-a9f6-38deb623662a",
   "metadata": {},
   "outputs": [
    {
     "data": {
      "text/plain": [
       "'corge'"
      ]
     },
     "execution_count": 70,
     "metadata": {},
     "output_type": "execute_result"
    }
   ],
   "source": [
    "t[-1]"
   ]
  },
  {
   "cell_type": "code",
   "execution_count": 71,
   "id": "0ab2c1dc-b76b-440a-929e-7ee04a050ffb",
   "metadata": {},
   "outputs": [
    {
     "data": {
      "text/plain": [
       "('bar', 'qux', 'corge')"
      ]
     },
     "execution_count": 71,
     "metadata": {},
     "output_type": "execute_result"
    }
   ],
   "source": [
    "t[1::2]"
   ]
  },
  {
   "cell_type": "code",
   "execution_count": 73,
   "id": "62f975e1-8096-4ce3-8a9d-01bbb2972d58",
   "metadata": {},
   "outputs": [
    {
     "data": {
      "text/plain": [
       "('corge', 'quux', 'qux', 'baz', 'bar', 'foo')"
      ]
     },
     "execution_count": 73,
     "metadata": {},
     "output_type": "execute_result"
    }
   ],
   "source": [
    "t[::-1]"
   ]
  },
  {
   "cell_type": "code",
   "execution_count": 74,
   "id": "cc88dce9-f5eb-42e7-adda-602b8b0fc038",
   "metadata": {},
   "outputs": [
    {
     "data": {
      "text/plain": [
       "('foo', 'bar', 'baz', 'qux', 'quux', 'corge')"
      ]
     },
     "execution_count": 74,
     "metadata": {},
     "output_type": "execute_result"
    }
   ],
   "source": [
    "t"
   ]
  },
  {
   "cell_type": "code",
   "execution_count": 75,
   "id": "62dfc84d-590b-4c8a-8c26-a57b62fcf48c",
   "metadata": {},
   "outputs": [
    {
     "ename": "TypeError",
     "evalue": "'tuple' object does not support item assignment",
     "output_type": "error",
     "traceback": [
      "\u001b[0;31m---------------------------------------------------------------------------\u001b[0m",
      "\u001b[0;31mTypeError\u001b[0m                                 Traceback (most recent call last)",
      "\u001b[0;32m/var/folders/yl/ftfrcz0s4nd_pncmmknzn7440000gn/T/ipykernel_66774/1306238292.py\u001b[0m in \u001b[0;36m<module>\u001b[0;34m\u001b[0m\n\u001b[0;32m----> 1\u001b[0;31m \u001b[0mt\u001b[0m\u001b[0;34m[\u001b[0m\u001b[0;36m2\u001b[0m\u001b[0;34m]\u001b[0m \u001b[0;34m=\u001b[0m \u001b[0;34m'Bark!'\u001b[0m\u001b[0;34m\u001b[0m\u001b[0;34m\u001b[0m\u001b[0m\n\u001b[0m",
      "\u001b[0;31mTypeError\u001b[0m: 'tuple' object does not support item assignment"
     ]
    }
   ],
   "source": [
    "t[2] = 'Bark!'"
   ]
  },
  {
   "cell_type": "markdown",
   "id": "25acd340-ecf0-4546-8a3e-f2395af6e0e3",
   "metadata": {},
   "source": [
    "***"
   ]
  },
  {
   "cell_type": "markdown",
   "id": "e5a06142-4d78-4654-9ef8-46dbeb8d44ca",
   "metadata": {},
   "source": [
    "Why use a tuple?\n",
    "- program execution is faster using a tuple opposed to a list (unnoticeable when using small lists or tuples \n",
    "- if you don't want your data to be modified\n",
    "- the Python data type, **dictionary**, requires one of its components to be an immutable type"
   ]
  },
  {
   "cell_type": "markdown",
   "id": "5345e3bf-b1ca-4860-a4f5-a935678e0aeb",
   "metadata": {},
   "source": [
    "Tuples must be defined by being empty or having more than two elements, otherwise the value will be interpreted as another class like int or str:"
   ]
  },
  {
   "cell_type": "code",
   "execution_count": 76,
   "id": "16a7fa47-3a5a-43f1-8184-b60ed8db03e4",
   "metadata": {},
   "outputs": [
    {
     "data": {
      "text/plain": [
       "tuple"
      ]
     },
     "execution_count": 76,
     "metadata": {},
     "output_type": "execute_result"
    }
   ],
   "source": [
    "t = ()\n",
    "type(t)"
   ]
  },
  {
   "cell_type": "code",
   "execution_count": 77,
   "id": "6f45b424-7772-4fc7-bc5b-1b0cadf3b4ba",
   "metadata": {},
   "outputs": [
    {
     "data": {
      "text/plain": [
       "tuple"
      ]
     },
     "execution_count": 77,
     "metadata": {},
     "output_type": "execute_result"
    }
   ],
   "source": [
    "t = (1, 2)\n",
    "type(t)"
   ]
  },
  {
   "cell_type": "code",
   "execution_count": 78,
   "id": "ac596957-5103-46eb-bff9-4695d585cf49",
   "metadata": {},
   "outputs": [
    {
     "data": {
      "text/plain": [
       "int"
      ]
     },
     "execution_count": 78,
     "metadata": {},
     "output_type": "execute_result"
    }
   ],
   "source": [
    "t = (2)\n",
    "type(t)"
   ]
  },
  {
   "cell_type": "code",
   "execution_count": 79,
   "id": "1d1bb9c0-2019-4176-80f7-4bcf80696253",
   "metadata": {},
   "outputs": [
    {
     "data": {
      "text/plain": [
       "tuple"
      ]
     },
     "execution_count": 79,
     "metadata": {},
     "output_type": "execute_result"
    }
   ],
   "source": [
    "# how to define a tuple with only one element\n",
    "t = (2,)\n",
    "type(t)"
   ]
  },
  {
   "cell_type": "code",
   "execution_count": 80,
   "id": "f8497f6c-17e2-45a8-b8e6-3867e5451b08",
   "metadata": {},
   "outputs": [
    {
     "data": {
      "text/plain": [
       "2"
      ]
     },
     "execution_count": 80,
     "metadata": {},
     "output_type": "execute_result"
    }
   ],
   "source": [
    "t[0]"
   ]
  },
  {
   "cell_type": "code",
   "execution_count": 81,
   "id": "830e59fc-f7e1-456e-8345-42b0adf9165d",
   "metadata": {},
   "outputs": [
    {
     "data": {
      "text/plain": [
       "2"
      ]
     },
     "execution_count": 81,
     "metadata": {},
     "output_type": "execute_result"
    }
   ],
   "source": [
    "t[-1]"
   ]
  },
  {
   "cell_type": "code",
   "execution_count": 82,
   "id": "3791c01d-1dc9-47e0-85d5-66788149ec01",
   "metadata": {},
   "outputs": [
    {
     "name": "stdout",
     "output_type": "stream",
     "text": [
      "(2,)\n"
     ]
    }
   ],
   "source": [
    "print(t)"
   ]
  },
  {
   "cell_type": "markdown",
   "id": "88b8880f-cc81-4f37-86c0-1b4e81db1979",
   "metadata": {},
   "source": [
    "## Tuple Assignment, Packing, and Unpacking"
   ]
  },
  {
   "cell_type": "markdown",
   "id": "c4ad0ea3-782d-4902-a098-12a450922df0",
   "metadata": {
    "jp-MarkdownHeadingCollapsed": true,
    "tags": []
   },
   "source": [
    "### Tuple Packing"
   ]
  },
  {
   "cell_type": "code",
   "execution_count": 84,
   "id": "272606b2-3e73-4559-9c99-64e606be4fc3",
   "metadata": {},
   "outputs": [
    {
     "data": {
      "text/plain": [
       "('foo', 'bar', 'baz', 'qux')"
      ]
     },
     "execution_count": 84,
     "metadata": {},
     "output_type": "execute_result"
    }
   ],
   "source": [
    "t = ('foo', 'bar', 'baz', 'qux')\n",
    "t"
   ]
  },
  {
   "cell_type": "code",
   "execution_count": 85,
   "id": "47b3edb3-19ad-43ff-a2b4-d6ef2bca1766",
   "metadata": {},
   "outputs": [
    {
     "data": {
      "text/plain": [
       "'foo'"
      ]
     },
     "execution_count": 85,
     "metadata": {},
     "output_type": "execute_result"
    }
   ],
   "source": [
    "t[0]"
   ]
  },
  {
   "cell_type": "code",
   "execution_count": 86,
   "id": "a2cf7faa-fc77-483d-a4b4-718f728b0724",
   "metadata": {},
   "outputs": [
    {
     "data": {
      "text/plain": [
       "'qux'"
      ]
     },
     "execution_count": 86,
     "metadata": {},
     "output_type": "execute_result"
    }
   ],
   "source": [
    "t[-1]"
   ]
  },
  {
   "cell_type": "markdown",
   "id": "e7289f9b-6e73-44d6-be28-076c3afd50a2",
   "metadata": {
    "jp-MarkdownHeadingCollapsed": true,
    "tags": []
   },
   "source": [
    "### Tuple Unpacking"
   ]
  },
  {
   "cell_type": "code",
   "execution_count": 87,
   "id": "5dfd8574-4ead-4d7d-8c29-5bdd22ec3202",
   "metadata": {},
   "outputs": [
    {
     "data": {
      "text/plain": [
       "'foo'"
      ]
     },
     "execution_count": 87,
     "metadata": {},
     "output_type": "execute_result"
    }
   ],
   "source": [
    "(s1, s2, s3, s4) = t\n",
    "s1"
   ]
  },
  {
   "cell_type": "code",
   "execution_count": 88,
   "id": "64b33762-2caf-4f71-a6af-6174cb7858bf",
   "metadata": {},
   "outputs": [
    {
     "data": {
      "text/plain": [
       "'bar'"
      ]
     },
     "execution_count": 88,
     "metadata": {},
     "output_type": "execute_result"
    }
   ],
   "source": [
    "s2"
   ]
  },
  {
   "cell_type": "code",
   "execution_count": 89,
   "id": "cb4df812-83d9-4ca5-902f-fd0223ddba76",
   "metadata": {},
   "outputs": [
    {
     "data": {
      "text/plain": [
       "'baz'"
      ]
     },
     "execution_count": 89,
     "metadata": {},
     "output_type": "execute_result"
    }
   ],
   "source": [
    "s3"
   ]
  },
  {
   "cell_type": "code",
   "execution_count": 90,
   "id": "5324db10-c11f-4d7c-951d-ea64b7a05be5",
   "metadata": {},
   "outputs": [
    {
     "data": {
      "text/plain": [
       "'qux'"
      ]
     },
     "execution_count": 90,
     "metadata": {},
     "output_type": "execute_result"
    }
   ],
   "source": [
    "s4"
   ]
  },
  {
   "cell_type": "markdown",
   "id": "0dc7fc29-0678-4869-b8f1-e415173c3b5f",
   "metadata": {},
   "source": [
    "#### When unpacking, the number of variables on the left must match the number of values in the tuple:"
   ]
  },
  {
   "cell_type": "code",
   "execution_count": 91,
   "id": "f1b0e521-b37b-42ba-ac0e-895cfb9f3219",
   "metadata": {},
   "outputs": [
    {
     "data": {
      "text/plain": [
       "('foo', 'bar', 'baz', 'qux')"
      ]
     },
     "execution_count": 91,
     "metadata": {},
     "output_type": "execute_result"
    }
   ],
   "source": [
    "t"
   ]
  },
  {
   "cell_type": "code",
   "execution_count": 92,
   "id": "56a00ee0-0b4a-4f1e-88e5-703d3f279c3f",
   "metadata": {},
   "outputs": [
    {
     "ename": "ValueError",
     "evalue": "too many values to unpack (expected 3)",
     "output_type": "error",
     "traceback": [
      "\u001b[0;31m---------------------------------------------------------------------------\u001b[0m",
      "\u001b[0;31mValueError\u001b[0m                                Traceback (most recent call last)",
      "\u001b[0;32m/var/folders/yl/ftfrcz0s4nd_pncmmknzn7440000gn/T/ipykernel_66774/3171517934.py\u001b[0m in \u001b[0;36m<module>\u001b[0;34m\u001b[0m\n\u001b[0;32m----> 1\u001b[0;31m \u001b[0;34m(\u001b[0m\u001b[0ms1\u001b[0m\u001b[0;34m,\u001b[0m \u001b[0ms2\u001b[0m\u001b[0;34m,\u001b[0m \u001b[0ms3\u001b[0m\u001b[0;34m)\u001b[0m \u001b[0;34m=\u001b[0m \u001b[0mt\u001b[0m\u001b[0;34m\u001b[0m\u001b[0;34m\u001b[0m\u001b[0m\n\u001b[0m",
      "\u001b[0;31mValueError\u001b[0m: too many values to unpack (expected 3)"
     ]
    }
   ],
   "source": [
    "(s1, s2, s3) = t"
   ]
  },
  {
   "cell_type": "code",
   "execution_count": 93,
   "id": "1708fc47-3e33-4958-92cd-cd5cb27517cc",
   "metadata": {},
   "outputs": [
    {
     "ename": "ValueError",
     "evalue": "not enough values to unpack (expected 5, got 4)",
     "output_type": "error",
     "traceback": [
      "\u001b[0;31m---------------------------------------------------------------------------\u001b[0m",
      "\u001b[0;31mValueError\u001b[0m                                Traceback (most recent call last)",
      "\u001b[0;32m/var/folders/yl/ftfrcz0s4nd_pncmmknzn7440000gn/T/ipykernel_66774/850528260.py\u001b[0m in \u001b[0;36m<module>\u001b[0;34m\u001b[0m\n\u001b[0;32m----> 1\u001b[0;31m \u001b[0;34m(\u001b[0m\u001b[0ms1\u001b[0m\u001b[0;34m,\u001b[0m \u001b[0ms2\u001b[0m\u001b[0;34m,\u001b[0m \u001b[0ms3\u001b[0m\u001b[0;34m,\u001b[0m \u001b[0ms4\u001b[0m\u001b[0;34m,\u001b[0m \u001b[0ms5\u001b[0m\u001b[0;34m)\u001b[0m \u001b[0;34m=\u001b[0m \u001b[0mt\u001b[0m\u001b[0;34m\u001b[0m\u001b[0;34m\u001b[0m\u001b[0m\n\u001b[0m",
      "\u001b[0;31mValueError\u001b[0m: not enough values to unpack (expected 5, got 4)"
     ]
    }
   ],
   "source": [
    "(s1, s2, s3, s4, s5) = t"
   ]
  },
  {
   "cell_type": "markdown",
   "id": "1a5e1b76-815d-4e83-bcc9-c953e086af01",
   "metadata": {},
   "source": [
    "#### Packing and unpacking can be combined into one statement to make a compound assignement:"
   ]
  },
  {
   "cell_type": "code",
   "execution_count": 94,
   "id": "ed976420-7528-4eaf-9932-e5c8bff76407",
   "metadata": {},
   "outputs": [],
   "source": [
    "(s1, s2, s3, s4) = ['foo', 'bar', 'baz', 'qux']"
   ]
  },
  {
   "cell_type": "code",
   "execution_count": 95,
   "id": "0bcca82a-a241-4d2e-8a4b-fa609873000d",
   "metadata": {},
   "outputs": [
    {
     "data": {
      "text/plain": [
       "'foo'"
      ]
     },
     "execution_count": 95,
     "metadata": {},
     "output_type": "execute_result"
    }
   ],
   "source": [
    "s1"
   ]
  },
  {
   "cell_type": "code",
   "execution_count": 96,
   "id": "0438951d-b92e-4df2-9146-d32b30b3c409",
   "metadata": {},
   "outputs": [
    {
     "data": {
      "text/plain": [
       "'bar'"
      ]
     },
     "execution_count": 96,
     "metadata": {},
     "output_type": "execute_result"
    }
   ],
   "source": [
    "s2"
   ]
  },
  {
   "cell_type": "code",
   "execution_count": 97,
   "id": "e8c5049e-49e6-4c1e-a351-c9c071870e40",
   "metadata": {},
   "outputs": [
    {
     "data": {
      "text/plain": [
       "'baz'"
      ]
     },
     "execution_count": 97,
     "metadata": {},
     "output_type": "execute_result"
    }
   ],
   "source": [
    "s3"
   ]
  },
  {
   "cell_type": "code",
   "execution_count": 98,
   "id": "64d9875b-9054-4ed4-b7f1-c159beb5fed5",
   "metadata": {},
   "outputs": [
    {
     "data": {
      "text/plain": [
       "'qux'"
      ]
     },
     "execution_count": 98,
     "metadata": {},
     "output_type": "execute_result"
    }
   ],
   "source": [
    "s4"
   ]
  },
  {
   "cell_type": "markdown",
   "id": "cf51c9b5-626a-4b82-b3d1-0a174e4b8695",
   "metadata": {},
   "source": [
    "***"
   ]
  },
  {
   "cell_type": "markdown",
   "id": "8c8e80b0-ac1b-4745-b0e9-5b387755a802",
   "metadata": {},
   "source": [
    "Still, the number of elements in the tuple on the left must equal the number on the right:"
   ]
  },
  {
   "cell_type": "code",
   "execution_count": 99,
   "id": "f293ab41-29b2-430b-a67f-013256f99aea",
   "metadata": {},
   "outputs": [
    {
     "ename": "ValueError",
     "evalue": "not enough values to unpack (expected 5, got 4)",
     "output_type": "error",
     "traceback": [
      "\u001b[0;31m---------------------------------------------------------------------------\u001b[0m",
      "\u001b[0;31mValueError\u001b[0m                                Traceback (most recent call last)",
      "\u001b[0;32m/var/folders/yl/ftfrcz0s4nd_pncmmknzn7440000gn/T/ipykernel_66774/357678603.py\u001b[0m in \u001b[0;36m<module>\u001b[0;34m\u001b[0m\n\u001b[0;32m----> 1\u001b[0;31m \u001b[0;34m(\u001b[0m\u001b[0ms1\u001b[0m\u001b[0;34m,\u001b[0m \u001b[0ms2\u001b[0m\u001b[0;34m,\u001b[0m \u001b[0ms3\u001b[0m\u001b[0;34m,\u001b[0m \u001b[0ms4\u001b[0m\u001b[0;34m,\u001b[0m \u001b[0ms5\u001b[0m\u001b[0;34m)\u001b[0m \u001b[0;34m=\u001b[0m \u001b[0;34m(\u001b[0m\u001b[0;34m'foo'\u001b[0m\u001b[0;34m,\u001b[0m \u001b[0;34m'bar'\u001b[0m\u001b[0;34m,\u001b[0m \u001b[0;34m'baz'\u001b[0m\u001b[0;34m,\u001b[0m \u001b[0;34m'qux'\u001b[0m\u001b[0;34m)\u001b[0m\u001b[0;34m\u001b[0m\u001b[0;34m\u001b[0m\u001b[0m\n\u001b[0m",
      "\u001b[0;31mValueError\u001b[0m: not enough values to unpack (expected 5, got 4)"
     ]
    }
   ],
   "source": [
    "(s1, s2, s3, s4, s5) = ('foo', 'bar', 'baz', 'qux')"
   ]
  },
  {
   "cell_type": "markdown",
   "id": "14c790ec-2b94-45dc-9a8c-10ea91441575",
   "metadata": {
    "jp-MarkdownHeadingCollapsed": true,
    "tags": []
   },
   "source": [
    "### When defining a tuple, Python allows the parentheses to be left out "
   ]
  },
  {
   "cell_type": "code",
   "execution_count": 100,
   "id": "ea8efdc6-dedd-4551-a649-0716b8a72dd6",
   "metadata": {},
   "outputs": [
    {
     "data": {
      "text/plain": [
       "(1, 2, 3)"
      ]
     },
     "execution_count": 100,
     "metadata": {},
     "output_type": "execute_result"
    }
   ],
   "source": [
    "t = 1, 2, 3\n",
    "t"
   ]
  },
  {
   "cell_type": "code",
   "execution_count": 101,
   "id": "3db7d61f-cdce-4431-984f-ab087fcf829c",
   "metadata": {},
   "outputs": [],
   "source": [
    "x1, x2, x3 = t"
   ]
  },
  {
   "cell_type": "code",
   "execution_count": 102,
   "id": "c51702c7-de85-4e29-a1a9-ec47b82cd7c3",
   "metadata": {},
   "outputs": [
    {
     "data": {
      "text/plain": [
       "1"
      ]
     },
     "execution_count": 102,
     "metadata": {},
     "output_type": "execute_result"
    }
   ],
   "source": [
    "x1"
   ]
  },
  {
   "cell_type": "code",
   "execution_count": 103,
   "id": "8b38c751-db32-47cd-a722-fef1b39903b6",
   "metadata": {},
   "outputs": [
    {
     "data": {
      "text/plain": [
       "(1, 2, 3)"
      ]
     },
     "execution_count": 103,
     "metadata": {},
     "output_type": "execute_result"
    }
   ],
   "source": [
    "x1, x2, x3"
   ]
  },
  {
   "cell_type": "code",
   "execution_count": 104,
   "id": "f283205b-130d-4877-9758-64491c38d707",
   "metadata": {},
   "outputs": [
    {
     "data": {
      "text/plain": [
       "(4, 5, 6)"
      ]
     },
     "execution_count": 104,
     "metadata": {},
     "output_type": "execute_result"
    }
   ],
   "source": [
    "x1, x2, x3 = 4, 5, 6\n",
    "x1, x2 ,x3"
   ]
  },
  {
   "cell_type": "code",
   "execution_count": 105,
   "id": "0437dd8d-5447-4c0c-82b8-b71379be4a2e",
   "metadata": {},
   "outputs": [
    {
     "data": {
      "text/plain": [
       "(1, 2, 3)"
      ]
     },
     "execution_count": 105,
     "metadata": {},
     "output_type": "execute_result"
    }
   ],
   "source": [
    "t"
   ]
  },
  {
   "cell_type": "code",
   "execution_count": 106,
   "id": "91e6c1c4-e112-4c2f-9782-206617a1da89",
   "metadata": {},
   "outputs": [
    {
     "data": {
      "text/plain": [
       "4"
      ]
     },
     "execution_count": 106,
     "metadata": {},
     "output_type": "execute_result"
    }
   ],
   "source": [
    "x1"
   ]
  },
  {
   "cell_type": "code",
   "execution_count": 107,
   "id": "7e5b5469-cd82-4902-a736-5c21c5854d1c",
   "metadata": {},
   "outputs": [],
   "source": [
    "t = 2"
   ]
  },
  {
   "cell_type": "code",
   "execution_count": 108,
   "id": "410b5572-8de9-4ea6-af1e-ffeed0a12200",
   "metadata": {},
   "outputs": [
    {
     "data": {
      "text/plain": [
       "2"
      ]
     },
     "execution_count": 108,
     "metadata": {},
     "output_type": "execute_result"
    }
   ],
   "source": [
    "t"
   ]
  },
  {
   "cell_type": "code",
   "execution_count": 109,
   "id": "4e4b36a9-eee2-449d-8f63-1179fbc2cc4f",
   "metadata": {},
   "outputs": [
    {
     "data": {
      "text/plain": [
       "4"
      ]
     },
     "execution_count": 109,
     "metadata": {},
     "output_type": "execute_result"
    }
   ],
   "source": [
    "x1"
   ]
  },
  {
   "cell_type": "markdown",
   "id": "22cf80e1-6587-42df-af40-a833f87b1e54",
   "metadata": {},
   "source": [
    "### When swapping two variables in Python, the exchange can be done using a single tuple assignment as opposed to storing in a temporary variable:"
   ]
  },
  {
   "cell_type": "code",
   "execution_count": 111,
   "id": "1a96d282-5d36-4ddf-bf75-8661726950e0",
   "metadata": {},
   "outputs": [
    {
     "data": {
      "text/plain": [
       "('foo', 'bar')"
      ]
     },
     "execution_count": 111,
     "metadata": {},
     "output_type": "execute_result"
    }
   ],
   "source": [
    "a = 'foo'\n",
    "b = 'bar'\n",
    "a, b"
   ]
  },
  {
   "cell_type": "code",
   "execution_count": 112,
   "id": "83835500-4b21-48a0-a651-498ed1c56fb8",
   "metadata": {},
   "outputs": [
    {
     "data": {
      "text/plain": [
       "'foo'"
      ]
     },
     "execution_count": 112,
     "metadata": {},
     "output_type": "execute_result"
    }
   ],
   "source": [
    "a"
   ]
  },
  {
   "cell_type": "code",
   "execution_count": 113,
   "id": "12389b04-fe9b-4fa9-9c79-c17f40dd4d3f",
   "metadata": {},
   "outputs": [],
   "source": [
    "# Python magic \n",
    "a, b = b, a"
   ]
  },
  {
   "cell_type": "code",
   "execution_count": 114,
   "id": "59ef6138-0a6e-46fc-8577-e1908b7238cd",
   "metadata": {},
   "outputs": [
    {
     "data": {
      "text/plain": [
       "('bar', 'foo')"
      ]
     },
     "execution_count": 114,
     "metadata": {},
     "output_type": "execute_result"
    }
   ],
   "source": [
    "a, b"
   ]
  },
  {
   "cell_type": "code",
   "execution_count": 115,
   "id": "e42bcfaf-6a27-4dea-8edb-19cfda3bfa33",
   "metadata": {},
   "outputs": [
    {
     "data": {
      "text/plain": [
       "'bar'"
      ]
     },
     "execution_count": 115,
     "metadata": {},
     "output_type": "execute_result"
    }
   ],
   "source": [
    "a"
   ]
  },
  {
   "cell_type": "code",
   "execution_count": 116,
   "id": "792a5394-dbc2-4183-ac69-eecb1d920e85",
   "metadata": {},
   "outputs": [
    {
     "data": {
      "text/plain": [
       "'foo'"
      ]
     },
     "execution_count": 116,
     "metadata": {},
     "output_type": "execute_result"
    }
   ],
   "source": [
    "b"
   ]
  }
 ],
 "metadata": {
  "kernelspec": {
   "display_name": "Python 3 (ipykernel)",
   "language": "python",
   "name": "python3"
  },
  "language_info": {
   "codemirror_mode": {
    "name": "ipython",
    "version": 3
   },
   "file_extension": ".py",
   "mimetype": "text/x-python",
   "name": "python",
   "nbconvert_exporter": "python",
   "pygments_lexer": "ipython3",
   "version": "3.8.12"
  }
 },
 "nbformat": 4,
 "nbformat_minor": 5
}
