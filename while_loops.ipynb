{
 "cells": [
  {
   "cell_type": "markdown",
   "id": "532c5fdd-51ee-44e3-bb2a-edde66f2ea47",
   "metadata": {},
   "source": [
    "# Python While Loops (Indefinite Iteration)"
   ]
  },
  {
   "cell_type": "code",
   "execution_count": null,
   "id": "5f11db1b-d041-4937-a7cb-512577f0ea25",
   "metadata": {},
   "outputs": [],
   "source": [
    "while <expr>:\n",
    "    <statement(s)>"
   ]
  },
  {
   "cell_type": "markdown",
   "id": "6a8a3a19-ed5a-4d01-802e-eecf0964412d",
   "metadata": {},
   "source": [
    "\\<statement(s)> represents the block to be repeatedly executed; body of the loop."
   ]
  },
  {
   "cell_type": "markdown",
   "id": "0eb2ef52-9066-4668-aceb-5ea34a12dfff",
   "metadata": {},
   "source": [
    "\\<expr> is first evaluated in Boolean context. If True, the loop body will execute. \\<expr> is evaluated again, and if still True, the body is executed agan. This continues until \\<expr> evaluates to false, at which point program execute proceeds to the first statement beyond the loop body"
   ]
  },
  {
   "cell_type": "code",
   "execution_count": 1,
   "id": "9b0f5461-c3e6-4dbd-ab0e-ff34acf2db03",
   "metadata": {},
   "outputs": [
    {
     "name": "stdout",
     "output_type": "stream",
     "text": [
      "4\n",
      "3\n",
      "2\n",
      "1\n",
      "0\n"
     ]
    }
   ],
   "source": [
    "n = 5\n",
    "while n > 0:\n",
    "    n -= 1\n",
    "    print(n)"
   ]
  },
  {
   "cell_type": "code",
   "execution_count": 2,
   "id": "70c964ed-5152-46e3-ac6c-47313c7da740",
   "metadata": {},
   "outputs": [],
   "source": [
    "n = 0\n",
    "while n > 0:\n",
    "    n -= 1\n",
    "    print(n)"
   ]
  },
  {
   "cell_type": "code",
   "execution_count": 3,
   "id": "132967da-dbc6-4923-9570-93cafc7e582b",
   "metadata": {},
   "outputs": [
    {
     "name": "stdout",
     "output_type": "stream",
     "text": [
      "baz\n",
      "bar\n",
      "foo\n"
     ]
    }
   ],
   "source": [
    "a = ['foo', 'bar', 'baz']\n",
    "while a:\n",
    "    print(a.pop(-1))"
   ]
  },
  {
   "cell_type": "markdown",
   "id": "05a13e5f-28b1-42cf-890f-280577fe03b3",
   "metadata": {
    "jp-MarkdownHeadingCollapsed": true,
    "tags": []
   },
   "source": [
    "## The Python *break* and *continue* Statements\n",
    "- a **break** statement immediately terminates a loop entirely. Program execution proceeds to the first statement following the loop body\n",
    "- a **continue** statement immediately terminates the current loop iteration. Execution jumps to the top of the loop, and the controlling expression is re-evaluated to determine whether the loop will execute again or terminate"
   ]
  },
  {
   "cell_type": "code",
   "execution_count": 4,
   "id": "789ce12e-6198-425d-9a71-52af671a7c57",
   "metadata": {},
   "outputs": [
    {
     "name": "stdout",
     "output_type": "stream",
     "text": [
      "4\n",
      "3\n",
      "Loop ended.\n"
     ]
    }
   ],
   "source": [
    "n = 5\n",
    "while n > 0:\n",
    "    n -= 1\n",
    "    if n == 2:\n",
    "        break\n",
    "    print(n)\n",
    "print('Loop ended.')"
   ]
  },
  {
   "cell_type": "code",
   "execution_count": 5,
   "id": "01a3da1e-6d4a-43c8-811e-c779eb88badb",
   "metadata": {},
   "outputs": [
    {
     "name": "stdout",
     "output_type": "stream",
     "text": [
      "4\n",
      "3\n",
      "1\n",
      "0\n",
      "Loop ended.\n"
     ]
    }
   ],
   "source": [
    "n = 5\n",
    "while n > 0:\n",
    "    n -= 1\n",
    "    if n == 2:\n",
    "        continue\n",
    "    print(n)\n",
    "print('Loop ended.')"
   ]
  },
  {
   "cell_type": "markdown",
   "id": "d94277bc-95d4-4cc4-bef2-f82dc8f07d15",
   "metadata": {
    "jp-MarkdownHeadingCollapsed": true,
    "tags": []
   },
   "source": [
    "## The *else* Clause"
   ]
  },
  {
   "cell_type": "code",
   "execution_count": null,
   "id": "2dfa5d5e-b965-428f-8fe0-0dc3cb68cf3b",
   "metadata": {},
   "outputs": [],
   "source": [
    "while <expr>:\n",
    "    <statements(s)>\n",
    "else:\n",
    "    <additional_statement(s)>"
   ]
  },
  {
   "cell_type": "code",
   "execution_count": 6,
   "id": "0ddeb1a1-84f1-44c9-ae11-81b20f03517a",
   "metadata": {},
   "outputs": [
    {
     "name": "stdout",
     "output_type": "stream",
     "text": [
      "4\n",
      "3\n",
      "2\n",
      "1\n",
      "0\n",
      "Loop done.\n"
     ]
    }
   ],
   "source": [
    "n = 5\n",
    "while n > 0:\n",
    "    n -= 1\n",
    "    print(n)\n",
    "else:\n",
    "    print('Loop done.')"
   ]
  },
  {
   "cell_type": "code",
   "execution_count": 7,
   "id": "bbc74a30-dfeb-4bbe-b218-c081190ddcc0",
   "metadata": {},
   "outputs": [
    {
     "name": "stdout",
     "output_type": "stream",
     "text": [
      "4\n",
      "3\n",
      "2\n"
     ]
    }
   ],
   "source": [
    "n = 5\n",
    "while n > 0:\n",
    "    n -= 1\n",
    "    print(n)\n",
    "    if n == 2:\n",
    "        break\n",
    "else:\n",
    "    print('Loop done.')"
   ]
  },
  {
   "cell_type": "code",
   "execution_count": 8,
   "id": "b37aa866-41df-4773-8c97-2c572943d721",
   "metadata": {},
   "outputs": [
    {
     "name": "stdout",
     "output_type": "stream",
     "text": [
      "corge not found in list.\n"
     ]
    }
   ],
   "source": [
    "a = ['foo', 'bar', 'baz', 'qux']\n",
    "s = 'corge'\n",
    "\n",
    "i = 0\n",
    "while i < len(a):\n",
    "    if a[i] == s:\n",
    "        break\n",
    "    i += 1\n",
    "else:\n",
    "    print(s, 'not found in list.')"
   ]
  },
  {
   "cell_type": "markdown",
   "id": "3ee44422-48e8-46b7-8a17-ae0966ea0b0e",
   "metadata": {},
   "source": [
    "**NOTE:** the example above isn't the best way to search a list. See the following for a better example:"
   ]
  },
  {
   "cell_type": "code",
   "execution_count": 9,
   "id": "81cb9cf3-10a8-421c-b274-01aaa7a502a5",
   "metadata": {},
   "outputs": [
    {
     "name": "stdout",
     "output_type": "stream",
     "text": [
      "corge not found in list.\n"
     ]
    }
   ],
   "source": [
    "if s in a:\n",
    "    print(s, 'found in list.')\n",
    "else:\n",
    "    print(s, 'not found in list.')"
   ]
  },
  {
   "cell_type": "markdown",
   "id": "6e32863d-4f0a-41a6-9d09-81433d568e72",
   "metadata": {},
   "source": [
    "**OR:**"
   ]
  },
  {
   "cell_type": "code",
   "execution_count": 10,
   "id": "0025e53a-36eb-4c06-a32a-76488558319b",
   "metadata": {},
   "outputs": [
    {
     "name": "stdout",
     "output_type": "stream",
     "text": [
      "corge not found in list.\n"
     ]
    }
   ],
   "source": [
    "try:\n",
    "    print(a.index('corge'))\n",
    "except ValueError:\n",
    "    print(s, 'not found in list.')"
   ]
  },
  {
   "cell_type": "markdown",
   "id": "b4260a3c-ce89-407f-a63d-49a0832c755d",
   "metadata": {
    "jp-MarkdownHeadingCollapsed": true,
    "tags": []
   },
   "source": [
    "## Infinite Loops"
   ]
  },
  {
   "cell_type": "code",
   "execution_count": null,
   "id": "80dfbd7c-8f4d-43fc-8283-059c6d1c99e2",
   "metadata": {},
   "outputs": [],
   "source": [
    "while True:\n",
    "    print('foo')"
   ]
  },
  {
   "cell_type": "markdown",
   "id": "170d4a49-0f9e-40e5-b2ec-3a3efa01d2a7",
   "metadata": {},
   "source": [
    "loops can be broken out of with the *break* statement:"
   ]
  },
  {
   "cell_type": "code",
   "execution_count": 11,
   "id": "93525da6-1814-4674-9a2e-721cfcc2b32f",
   "metadata": {},
   "outputs": [
    {
     "name": "stdout",
     "output_type": "stream",
     "text": [
      "baz\n",
      "bar\n",
      "foo\n"
     ]
    }
   ],
   "source": [
    "a = ['foo', 'bar', 'baz']\n",
    "while True:\n",
    "    if not a:\n",
    "        break\n",
    "    print(a.pop(-1))"
   ]
  },
  {
   "cell_type": "markdown",
   "id": "cc2d7f3a-522d-4da6-9c3b-846f274f0c3f",
   "metadata": {},
   "source": [
    "***"
   ]
  },
  {
   "cell_type": "markdown",
   "id": "a485a0bd-f0d4-4629-836a-ada49559073f",
   "metadata": {},
   "source": [
    "We can specify multiple break statements in a loop:"
   ]
  },
  {
   "cell_type": "code",
   "execution_count": null,
   "id": "ab0cdb98-fcbf-4b4f-9da6-561311662b34",
   "metadata": {},
   "outputs": [],
   "source": [
    "while True:\n",
    "    if <expr1>:  # One condition for loop termination\n",
    "        break\n",
    "    ...\n",
    "    if <expr2>:  # Another termination condition\n",
    "        break\n",
    "    ...\n",
    "    if <expr3>:  # Yet another\n",
    "        break"
   ]
  },
  {
   "cell_type": "markdown",
   "id": "a8f947cb-739d-4376-a141-23a44a844c88",
   "metadata": {
    "jp-MarkdownHeadingCollapsed": true,
    "tags": []
   },
   "source": [
    "## Nested *while* Loops"
   ]
  },
  {
   "cell_type": "code",
   "execution_count": 12,
   "id": "08518b55-4091-4a57-85bb-b104755e2366",
   "metadata": {},
   "outputs": [
    {
     "name": "stdout",
     "output_type": "stream",
     "text": [
      "foo\n",
      "> baz\n",
      "> qux\n",
      "bar\n",
      "> baz\n",
      "> qux\n"
     ]
    }
   ],
   "source": [
    "a = ['foo', 'bar']\n",
    "while len(a):\n",
    "    print(a.pop(0))\n",
    "    b = ['baz', 'qux']\n",
    "    while len(b):\n",
    "        print('>', b.pop(0))"
   ]
  },
  {
   "cell_type": "markdown",
   "id": "67928b9a-236f-4807-af4b-ff6598ffc74a",
   "metadata": {},
   "source": [
    "***"
   ]
  },
  {
   "cell_type": "markdown",
   "id": "e80cf435-168a-4dd2-9c0d-d0d3576bd264",
   "metadata": {},
   "source": [
    "A break or continue statement found within nested loops applies to the nearest enclosing loop:"
   ]
  },
  {
   "cell_type": "code",
   "execution_count": null,
   "id": "2eb9911f-d903-47aa-88e0-674e0214e2a3",
   "metadata": {},
   "outputs": [],
   "source": [
    "while <expr1>:\n",
    "    statement\n",
    "    statement\n",
    "    \n",
    "    while <expr2>:\n",
    "        statement\n",
    "        statement\n",
    "        break  # Applies to the while <expr2>: loop\n",
    "    \n",
    "    break. # Applies to the while <expr1>: loop"
   ]
  },
  {
   "cell_type": "markdown",
   "id": "4b8d8508-5281-430f-9c56-03cb70d36977",
   "metadata": {},
   "source": [
    "***"
   ]
  },
  {
   "cell_type": "markdown",
   "id": "a2ed9e65-471e-4ff7-b554-efd2c1e4d605",
   "metadata": {},
   "source": [
    "While loops can be nested inside if/elif/else statements, and vice versa:"
   ]
  },
  {
   "cell_type": "code",
   "execution_count": null,
   "id": "73235841-9272-4330-8776-e549608075ae",
   "metadata": {},
   "outputs": [],
   "source": [
    "if <expr>:\n",
    "    statement\n",
    "    while <expr>:\n",
    "        statement\n",
    "        statement\n",
    "else:\n",
    "    while <expr>:\n",
    "        statement\n",
    "        statement\n",
    "    statement"
   ]
  },
  {
   "cell_type": "code",
   "execution_count": null,
   "id": "8aed59e3-37b5-43e8-aaab-b291bb54e509",
   "metadata": {},
   "outputs": [],
   "source": [
    "while <expr>:\n",
    "    if <expr>:\n",
    "        statement\n",
    "    elif <expr>:\n",
    "        statement\n",
    "    else:\n",
    "        statement\n",
    "    \n",
    "    if <expr>:\n",
    "        statement"
   ]
  },
  {
   "cell_type": "markdown",
   "id": "8dcf4c29-b786-4010-995d-db543dcbd822",
   "metadata": {},
   "source": [
    "## One-Line *while* Loops\n",
    "If there are multiple statements in the block that makes up the loop body, they can be separated by semicolons(;):"
   ]
  },
  {
   "cell_type": "code",
   "execution_count": 13,
   "id": "e4e8dba5-2ba9-44b1-916b-ffddddb42e4d",
   "metadata": {},
   "outputs": [
    {
     "name": "stdout",
     "output_type": "stream",
     "text": [
      "4\n",
      "3\n",
      "2\n",
      "1\n",
      "0\n"
     ]
    }
   ],
   "source": [
    "n = 5\n",
    "while n > 0: n -= 1; print(n)"
   ]
  },
  {
   "cell_type": "markdown",
   "id": "e98d2d7a-07af-4112-ae95-93aacc394ed5",
   "metadata": {},
   "source": [
    "This only works with simple statements though, and PEP 8 discourages multiple statements on one line"
   ]
  },
  {
   "cell_type": "code",
   "execution_count": null,
   "id": "da70be22-d059-4e5b-b4b7-860a4e33aa46",
   "metadata": {},
   "outputs": [],
   "source": []
  }
 ],
 "metadata": {
  "kernelspec": {
   "display_name": "Python 3 (ipykernel)",
   "language": "python",
   "name": "python3"
  },
  "language_info": {
   "codemirror_mode": {
    "name": "ipython",
    "version": 3
   },
   "file_extension": ".py",
   "mimetype": "text/x-python",
   "name": "python",
   "nbconvert_exporter": "python",
   "pygments_lexer": "ipython3",
   "version": "3.8.12"
  }
 },
 "nbformat": 4,
 "nbformat_minor": 5
}
